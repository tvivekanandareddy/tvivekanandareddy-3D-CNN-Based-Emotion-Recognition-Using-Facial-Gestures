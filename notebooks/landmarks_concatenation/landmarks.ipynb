{
 "cells": [
  {
   "cell_type": "code",
   "execution_count": 1,
   "metadata": {},
   "outputs": [],
   "source": [
    "import pickle\n",
    "import matplotlib.pyplot as plt"
   ]
  },
  {
   "cell_type": "code",
   "execution_count": 2,
   "metadata": {},
   "outputs": [],
   "source": [
    "def save_obj(obj, name ):\n",
    "    with open( name + '.pkl', 'wb') as f:\n",
    "        pickle.dump(obj, f, pickle.HIGHEST_PROTOCOL)\n",
    "\n",
    "def load_obj(name ):\n",
    "    with open(name + '.pkl', 'rb') as f:\n",
    "        return pickle.load(f)"
   ]
  },
  {
   "cell_type": "code",
   "execution_count": 3,
   "metadata": {},
   "outputs": [
    {
     "name": "stdout",
     "output_type": "stream",
     "text": [
      "63\n",
      "56\n"
     ]
    }
   ],
   "source": [
    "\n",
    "training_landmark = load_obj('dlib_landmarks/training')\n",
    "testing_landmark= load_obj('dlib_landmarks/testing')\n",
    "\n",
    "print(len(training_landmark.keys()))\n",
    "print(len(testing_landmark.keys()))"
   ]
  },
  {
   "cell_type": "code",
   "execution_count": 4,
   "metadata": {},
   "outputs": [
    {
     "data": {
      "text/plain": [
       "<matplotlib.collections.PathCollection at 0x265c0258b88>"
      ]
     },
     "execution_count": 4,
     "metadata": {},
     "output_type": "execute_result"
    },
    {
     "data": {
      "image/png": "[encoded data removed]",
      "text/plain": [
       "<Figure size 432x288 with 1 Axes>"
      ]
     },
     "metadata": {
      "needs_background": "light"
     },
     "output_type": "display_data"
    }
   ],
   "source": [
    "d = training_landmark['/content/train_data/a2.avi'][3]\n",
    "plt.scatter([255-item[0] for item in d], [255-item[1] for item in d])"
   ]
  },
  {
   "cell_type": "code",
   "execution_count": 5,
   "metadata": {},
   "outputs": [
    {
     "name": "stdout",
     "output_type": "stream",
     "text": [
      "/content/train_data/a1.avi >>> 219\n",
      "/content/train_data/a2.avi >>> 206\n",
      "/content/train_data/a3.avi >>> 125\n",
      "/content/train_data/a4.avi >>> 163\n",
      "/content/train_data/a5.avi >>> 180\n",
      "/content/train_data/a6.avi >>> 224\n",
      "/content/train_data/a7.avi >>> 161\n",
      "/content/train_data/a8.avi >>> 208\n",
      "/content/train_data/d1.avi >>> 261\n",
      "/content/train_data/d2.avi >>> 236\n",
      "/content/train_data/d3.avi >>> 140\n",
      "/content/train_data/d4.avi >>> 263\n",
      "/content/train_data/d5.avi >>> 186\n",
      "/content/train_data/d6.avi >>> 198\n",
      "/content/train_data/d7.avi >>> 162\n",
      "/content/train_data/d8.avi >>> 265\n",
      "/content/train_data/f1.avi >>> 199\n",
      "/content/train_data/f2.avi >>> 204\n",
      "/content/train_data/f3.avi >>> 137\n",
      "/content/train_data/f4.avi >>> 181\n",
      "/content/train_data/f5.avi >>> 197\n",
      "/content/train_data/f6.avi >>> 179\n",
      "/content/train_data/f7.avi >>> 217\n",
      "/content/train_data/f8.avi >>> 234\n",
      "/content/train_data/h1.avi >>> 230\n",
      "/content/train_data/h2.avi >>> 204\n",
      "/content/train_data/h3.avi >>> 136\n",
      "/content/train_data/h4.avi >>> 193\n",
      "/content/train_data/h5.avi >>> 262\n",
      "/content/train_data/h6.avi >>> 208\n",
      "/content/train_data/h7.avi >>> 216\n",
      "/content/train_data/h8.avi >>> 151\n",
      "/content/train_data/n1.avi >>> 226\n",
      "/content/train_data/n10.avi >>> 251\n",
      "/content/train_data/n11.avi >>> 363\n",
      "/content/train_data/n12.avi >>> 179\n",
      "/content/train_data/n13.avi >>> 167\n",
      "/content/train_data/n14.avi >>> 302\n",
      "/content/train_data/n15.avi >>> 309\n",
      "/content/train_data/n2.avi >>> 227\n",
      "/content/train_data/n3.avi >>> 123\n",
      "/content/train_data/n4.avi >>> 216\n",
      "/content/train_data/n5.avi >>> 170\n",
      "/content/train_data/n6.avi >>> 248\n",
      "/content/train_data/n7.avi >>> 243\n",
      "/content/train_data/n8.avi >>> 210\n",
      "/content/train_data/n9.avi >>> 227\n",
      "/content/train_data/sa1.avi >>> 259\n",
      "/content/train_data/sa2.avi >>> 236\n",
      "/content/train_data/sa3.avi >>> 146\n",
      "/content/train_data/sa4.avi >>> 359\n",
      "/content/train_data/sa5.avi >>> 285\n",
      "/content/train_data/sa6.avi >>> 247\n",
      "/content/train_data/sa7.avi >>> 175\n",
      "/content/train_data/sa8.avi >>> 184\n",
      "/content/train_data/su1.avi >>> 195\n",
      "/content/train_data/su2.avi >>> 194\n",
      "/content/train_data/su3.avi >>> 112\n",
      "/content/train_data/su4.avi >>> 201\n",
      "/content/train_data/su5.avi >>> 170\n",
      "/content/train_data/su6.avi >>> 145\n",
      "/content/train_data/su7.avi >>> 207\n",
      "/content/train_data/su8.avi >>> 229\n"
     ]
    }
   ],
   "source": [
    "listnames = list(training_landmark.keys())\n",
    "trainmin = 1000\n",
    "for i in sorted(listnames):\n",
    "    #print(i)\n",
    "    if len(training_landmark[i])<trainmin:\n",
    "        trainmin = len(training_landmark[i])\n",
    "    print(i,'>>>',len(training_landmark[i]))"
   ]
  },
  {
   "cell_type": "code",
   "execution_count": 6,
   "metadata": {},
   "outputs": [
    {
     "name": "stdout",
     "output_type": "stream",
     "text": [
      "/content/test_data/a10.avi >>> 276\n",
      "/content/test_data/a11.avi >>> 160\n",
      "/content/test_data/a12.avi >>> 199\n",
      "/content/test_data/a13.avi >>> 281\n",
      "/content/test_data/a14.avi >>> 324\n",
      "/content/test_data/a9.avi >>> 242\n",
      "/content/test_data/d10.avi >>> 272\n",
      "/content/test_data/d11.avi >>> 214\n",
      "/content/test_data/d12.avi >>> 223\n",
      "/content/test_data/d13.avi >>> 338\n",
      "/content/test_data/d14.avi >>> 341\n",
      "/content/test_data/d15.avi >>> 363\n",
      "/content/test_data/d9.avi >>> 278\n",
      "/content/test_data/f10.avi >>> 160\n",
      "/content/test_data/f11.avi >>> 259\n",
      "/content/test_data/f12.avi >>> 263\n",
      "/content/test_data/f13.avi >>> 148\n",
      "/content/test_data/f14.avi >>> 297\n",
      "/content/test_data/f15.avi >>> 308\n",
      "/content/test_data/f9.avi >>> 233\n",
      "/content/test_data/h10.avi >>> 199\n",
      "/content/test_data/h11.avi >>> 359\n",
      "/content/test_data/h12.avi >>> 339\n",
      "/content/test_data/h13.avi >>> 166\n",
      "/content/test_data/h14.avi >>> 325\n",
      "/content/test_data/h15.avi >>> 351\n",
      "/content/test_data/h9.avi >>> 200\n",
      "/content/test_data/n16.avi >>> 229\n",
      "/content/test_data/n17.avi >>> 207\n",
      "/content/test_data/n18.avi >>> 113\n",
      "/content/test_data/n19.avi >>> 195\n",
      "/content/test_data/n20.avi >>> 198\n",
      "/content/test_data/n21.avi >>> 245\n",
      "/content/test_data/n22.avi >>> 183\n",
      "/content/test_data/n23.avi >>> 199\n",
      "/content/test_data/n24.avi >>> 232\n",
      "/content/test_data/n25.avi >>> 242\n",
      "/content/test_data/n26.avi >>> 188\n",
      "/content/test_data/n27.avi >>> 326\n",
      "/content/test_data/n28.avi >>> 330\n",
      "/content/test_data/n29.avi >>> 198\n",
      "/content/test_data/n30.avi >>> 278\n",
      "/content/test_data/sa10.avi >>> 250\n",
      "/content/test_data/sa11.avi >>> 373\n",
      "/content/test_data/sa12.avi >>> 323\n",
      "/content/test_data/sa13.avi >>> 357\n",
      "/content/test_data/sa14.avi >>> 343\n",
      "/content/test_data/sa15.avi >>> 311\n",
      "/content/test_data/sa9.avi >>> 165\n",
      "/content/test_data/su10.avi >>> 243\n",
      "/content/test_data/su11.avi >>> 161\n",
      "/content/test_data/su12.avi >>> 302\n",
      "/content/test_data/su13.avi >>> 257\n",
      "/content/test_data/su14.avi >>> 345\n",
      "/content/test_data/su15.avi >>> 349\n",
      "/content/test_data/su9.avi >>> 206\n"
     ]
    }
   ],
   "source": [
    "listnames = list(testing_landmark.keys())\n",
    "testmin = 1000\n",
    "for i in sorted(listnames):\n",
    "    #print(i)\n",
    "    if len(testing_landmark[i])<testmin:\n",
    "        testmin = len(testing_landmark[i])\n",
    "    print(i,'>>>',len(testing_landmark[i]))"
   ]
  },
  {
   "cell_type": "code",
   "execution_count": 7,
   "metadata": {},
   "outputs": [
    {
     "name": "stdout",
     "output_type": "stream",
     "text": [
      "112\n",
      "113\n"
     ]
    }
   ],
   "source": [
    "print(trainmin)\n",
    "print(testmin)"
   ]
  },
  {
   "cell_type": "code",
   "execution_count": 8,
   "metadata": {},
   "outputs": [
    {
     "name": "stdout",
     "output_type": "stream",
     "text": [
      "-----------------------------------------------------------------------\n",
      "/content/train_data/a1.avi >>> 112\n",
      "-----------------------------------------------------------------------\n",
      "/content/train_data/a2.avi >>> 112\n",
      "-----------------------------------------------------------------------\n",
      "/content/train_data/a3.avi >>> 112\n",
      "-----------------------------------------------------------------------\n",
      "/content/train_data/a4.avi >>> 112\n",
      "-----------------------------------------------------------------------\n",
      "/content/train_data/a5.avi >>> 112\n",
      "-----------------------------------------------------------------------\n",
      "/content/train_data/a6.avi >>> 112\n",
      "-----------------------------------------------------------------------\n",
      "/content/train_data/a7.avi >>> 112\n",
      "-----------------------------------------------------------------------\n",
      "/content/train_data/a8.avi >>> 112\n",
      "-----------------------------------------------------------------------\n",
      "/content/train_data/d1.avi >>> 112\n",
      "-----------------------------------------------------------------------\n",
      "/content/train_data/d2.avi >>> 112\n",
      "-----------------------------------------------------------------------\n",
      "/content/train_data/d3.avi >>> 112\n",
      "-----------------------------------------------------------------------\n",
      "/content/train_data/d4.avi >>> 112\n",
      "-----------------------------------------------------------------------\n",
      "/content/train_data/d5.avi >>> 112\n",
      "-----------------------------------------------------------------------\n",
      "/content/train_data/d6.avi >>> 112\n",
      "-----------------------------------------------------------------------\n",
      "/content/train_data/d7.avi >>> 112\n",
      "-----------------------------------------------------------------------\n",
      "/content/train_data/d8.avi >>> 112\n",
      "-----------------------------------------------------------------------\n",
      "/content/train_data/f1.avi >>> 112\n",
      "-----------------------------------------------------------------------\n",
      "/content/train_data/f2.avi >>> 112\n",
      "-----------------------------------------------------------------------\n",
      "/content/train_data/f3.avi >>> 112\n",
      "-----------------------------------------------------------------------\n",
      "/content/train_data/f4.avi >>> 112\n",
      "-----------------------------------------------------------------------\n",
      "/content/train_data/f5.avi >>> 112\n",
      "-----------------------------------------------------------------------\n",
      "/content/train_data/f6.avi >>> 112\n",
      "-----------------------------------------------------------------------\n",
      "/content/train_data/f7.avi >>> 112\n",
      "-----------------------------------------------------------------------\n",
      "/content/train_data/f8.avi >>> 112\n",
      "-----------------------------------------------------------------------\n",
      "/content/train_data/h1.avi >>> 112\n",
      "-----------------------------------------------------------------------\n",
      "/content/train_data/h2.avi >>> 112\n",
      "-----------------------------------------------------------------------\n",
      "/content/train_data/h3.avi >>> 112\n",
      "-----------------------------------------------------------------------\n",
      "/content/train_data/h4.avi >>> 112\n",
      "-----------------------------------------------------------------------\n",
      "/content/train_data/h5.avi >>> 112\n",
      "-----------------------------------------------------------------------\n",
      "/content/train_data/h6.avi >>> 112\n",
      "-----------------------------------------------------------------------\n",
      "/content/train_data/h7.avi >>> 112\n",
      "-----------------------------------------------------------------------\n",
      "/content/train_data/h8.avi >>> 112\n",
      "-----------------------------------------------------------------------\n",
      "/content/train_data/n1.avi >>> 112\n",
      "-----------------------------------------------------------------------\n",
      "/content/train_data/n10.avi >>> 112\n",
      "-----------------------------------------------------------------------\n",
      "/content/train_data/n11.avi >>> 112\n",
      "-----------------------------------------------------------------------\n",
      "/content/train_data/n12.avi >>> 112\n",
      "-----------------------------------------------------------------------\n",
      "/content/train_data/n13.avi >>> 112\n",
      "-----------------------------------------------------------------------\n",
      "/content/train_data/n14.avi >>> 112\n",
      "-----------------------------------------------------------------------\n",
      "/content/train_data/n15.avi >>> 112\n",
      "-----------------------------------------------------------------------\n",
      "/content/train_data/n2.avi >>> 112\n",
      "-----------------------------------------------------------------------\n",
      "/content/train_data/n3.avi >>> 112\n",
      "-----------------------------------------------------------------------\n",
      "/content/train_data/n4.avi >>> 112\n",
      "-----------------------------------------------------------------------\n",
      "/content/train_data/n5.avi >>> 112\n",
      "-----------------------------------------------------------------------\n",
      "/content/train_data/n6.avi >>> 112\n",
      "-----------------------------------------------------------------------\n",
      "/content/train_data/n7.avi >>> 112\n",
      "-----------------------------------------------------------------------\n",
      "/content/train_data/n8.avi >>> 112\n",
      "-----------------------------------------------------------------------\n",
      "/content/train_data/n9.avi >>> 112\n",
      "-----------------------------------------------------------------------\n",
      "/content/train_data/sa1.avi >>> 112\n",
      "-----------------------------------------------------------------------\n",
      "/content/train_data/sa2.avi >>> 112\n",
      "-----------------------------------------------------------------------\n",
      "/content/train_data/sa3.avi >>> 112\n",
      "-----------------------------------------------------------------------\n",
      "/content/train_data/sa4.avi >>> 112\n",
      "-----------------------------------------------------------------------\n",
      "/content/train_data/sa5.avi >>> 112\n",
      "-----------------------------------------------------------------------\n",
      "/content/train_data/sa6.avi >>> 112\n",
      "-----------------------------------------------------------------------\n",
      "/content/train_data/sa7.avi >>> 112\n",
      "-----------------------------------------------------------------------\n",
      "/content/train_data/sa8.avi >>> 112\n",
      "-----------------------------------------------------------------------\n",
      "/content/train_data/su1.avi >>> 112\n",
      "-----------------------------------------------------------------------\n",
      "/content/train_data/su2.avi >>> 112\n",
      "-----------------------------------------------------------------------\n",
      "/content/train_data/su3.avi >>> 112\n",
      "-----------------------------------------------------------------------\n",
      "/content/train_data/su4.avi >>> 112\n",
      "-----------------------------------------------------------------------\n",
      "/content/train_data/su5.avi >>> 112\n",
      "-----------------------------------------------------------------------\n",
      "/content/train_data/su6.avi >>> 112\n",
      "-----------------------------------------------------------------------\n",
      "/content/train_data/su7.avi >>> 112\n",
      "-----------------------------------------------------------------------\n",
      "/content/train_data/su8.avi >>> 112\n"
     ]
    }
   ],
   "source": [
    "def trainimpframes(file):\n",
    "    length = len(training_landmark[file])\n",
    "    if length>112:\n",
    "        frame_length = int((length-112)/2)\n",
    "        return((training_landmark[file][frame_length:frame_length+112]))\n",
    "    else:\n",
    "        return(training_landmark[file])\n",
    "listnames = list(training_landmark.keys())\n",
    "for i in sorted(listnames):\n",
    "    print('-----------------------------------------------------------------------')\n",
    "    print(i,'>>>',len(trainimpframes(i)))"
   ]
  },
  {
   "cell_type": "code",
   "execution_count": 9,
   "metadata": {},
   "outputs": [
    {
     "name": "stdout",
     "output_type": "stream",
     "text": [
      "-----------------------------------------------------------------------\n",
      "/content/test_data/a10.avi >>> 112\n",
      "-----------------------------------------------------------------------\n",
      "/content/test_data/a11.avi >>> 112\n",
      "-----------------------------------------------------------------------\n",
      "/content/test_data/a12.avi >>> 112\n",
      "-----------------------------------------------------------------------\n",
      "/content/test_data/a13.avi >>> 112\n",
      "-----------------------------------------------------------------------\n",
      "/content/test_data/a14.avi >>> 112\n",
      "-----------------------------------------------------------------------\n",
      "/content/test_data/a9.avi >>> 112\n",
      "-----------------------------------------------------------------------\n",
      "/content/test_data/d10.avi >>> 112\n",
      "-----------------------------------------------------------------------\n",
      "/content/test_data/d11.avi >>> 112\n",
      "-----------------------------------------------------------------------\n",
      "/content/test_data/d12.avi >>> 112\n",
      "-----------------------------------------------------------------------\n",
      "/content/test_data/d13.avi >>> 112\n",
      "-----------------------------------------------------------------------\n",
      "/content/test_data/d14.avi >>> 112\n",
      "-----------------------------------------------------------------------\n",
      "/content/test_data/d15.avi >>> 112\n",
      "-----------------------------------------------------------------------\n",
      "/content/test_data/d9.avi >>> 112\n",
      "-----------------------------------------------------------------------\n",
      "/content/test_data/f10.avi >>> 112\n",
      "-----------------------------------------------------------------------\n",
      "/content/test_data/f11.avi >>> 112\n",
      "-----------------------------------------------------------------------\n",
      "/content/test_data/f12.avi >>> 112\n",
      "-----------------------------------------------------------------------\n",
      "/content/test_data/f13.avi >>> 112\n",
      "-----------------------------------------------------------------------\n",
      "/content/test_data/f14.avi >>> 112\n",
      "-----------------------------------------------------------------------\n",
      "/content/test_data/f15.avi >>> 112\n",
      "-----------------------------------------------------------------------\n",
      "/content/test_data/f9.avi >>> 112\n",
      "-----------------------------------------------------------------------\n",
      "/content/test_data/h10.avi >>> 112\n",
      "-----------------------------------------------------------------------\n",
      "/content/test_data/h11.avi >>> 112\n",
      "-----------------------------------------------------------------------\n",
      "/content/test_data/h12.avi >>> 112\n",
      "-----------------------------------------------------------------------\n",
      "/content/test_data/h13.avi >>> 112\n",
      "-----------------------------------------------------------------------\n",
      "/content/test_data/h14.avi >>> 112\n",
      "-----------------------------------------------------------------------\n",
      "/content/test_data/h15.avi >>> 112\n",
      "-----------------------------------------------------------------------\n",
      "/content/test_data/h9.avi >>> 112\n",
      "-----------------------------------------------------------------------\n",
      "/content/test_data/n16.avi >>> 112\n",
      "-----------------------------------------------------------------------\n",
      "/content/test_data/n17.avi >>> 112\n",
      "-----------------------------------------------------------------------\n",
      "/content/test_data/n18.avi >>> 112\n",
      "-----------------------------------------------------------------------\n",
      "/content/test_data/n19.avi >>> 112\n",
      "-----------------------------------------------------------------------\n",
      "/content/test_data/n20.avi >>> 112\n",
      "-----------------------------------------------------------------------\n",
      "/content/test_data/n21.avi >>> 112\n",
      "-----------------------------------------------------------------------\n",
      "/content/test_data/n22.avi >>> 112\n",
      "-----------------------------------------------------------------------\n",
      "/content/test_data/n23.avi >>> 112\n",
      "-----------------------------------------------------------------------\n",
      "/content/test_data/n24.avi >>> 112\n",
      "-----------------------------------------------------------------------\n",
      "/content/test_data/n25.avi >>> 112\n",
      "-----------------------------------------------------------------------\n",
      "/content/test_data/n26.avi >>> 112\n",
      "-----------------------------------------------------------------------\n",
      "/content/test_data/n27.avi >>> 112\n",
      "-----------------------------------------------------------------------\n",
      "/content/test_data/n28.avi >>> 112\n",
      "-----------------------------------------------------------------------\n",
      "/content/test_data/n29.avi >>> 112\n",
      "-----------------------------------------------------------------------\n",
      "/content/test_data/n30.avi >>> 112\n",
      "-----------------------------------------------------------------------\n",
      "/content/test_data/sa10.avi >>> 112\n",
      "-----------------------------------------------------------------------\n",
      "/content/test_data/sa11.avi >>> 112\n",
      "-----------------------------------------------------------------------\n",
      "/content/test_data/sa12.avi >>> 112\n",
      "-----------------------------------------------------------------------\n",
      "/content/test_data/sa13.avi >>> 112\n",
      "-----------------------------------------------------------------------\n",
      "/content/test_data/sa14.avi >>> 112\n",
      "-----------------------------------------------------------------------\n",
      "/content/test_data/sa15.avi >>> 112\n",
      "-----------------------------------------------------------------------\n",
      "/content/test_data/sa9.avi >>> 112\n",
      "-----------------------------------------------------------------------\n",
      "/content/test_data/su10.avi >>> 112\n",
      "-----------------------------------------------------------------------\n",
      "/content/test_data/su11.avi >>> 112\n",
      "-----------------------------------------------------------------------\n",
      "/content/test_data/su12.avi >>> 112\n",
      "-----------------------------------------------------------------------\n",
      "/content/test_data/su13.avi >>> 112\n",
      "-----------------------------------------------------------------------\n",
      "/content/test_data/su14.avi >>> 112\n",
      "-----------------------------------------------------------------------\n",
      "/content/test_data/su15.avi >>> 112\n",
      "-----------------------------------------------------------------------\n",
      "/content/test_data/su9.avi >>> 112\n"
     ]
    }
   ],
   "source": [
    "def testimpframes(file):\n",
    "    length = len(testing_landmark[file])\n",
    "    if length>112:\n",
    "        frame_length = int((length-112)/2)\n",
    "        return((testing_landmark[file][frame_length:frame_length+112]))\n",
    "    else:\n",
    "        return(testing_landmark[file])\n",
    "listnames = list(testing_landmark.keys())\n",
    "for i in sorted(listnames):\n",
    "    print('-----------------------------------------------------------------------')\n",
    "    print(i,'>>>',len(testimpframes(i)))"
   ]
  },
  {
   "cell_type": "code",
   "execution_count": 102,
   "metadata": {},
   "outputs": [
    {
     "name": "stderr",
     "output_type": "stream",
     "text": [
      "100%|███████████████████████████████████████████████████████████████████████████████| 63/63 [00:00<00:00, 46884.52it/s]\n",
      "100%|███████████████████████████████████████████████████████████████████████████████| 56/56 [00:00<00:00, 50220.45it/s]\n"
     ]
    }
   ],
   "source": [
    "def trainimpframes(file):\n",
    "    length = len(training_landmark[file])\n",
    "    if length>112:\n",
    "        frame_length = int((length-112)/2)\n",
    "        return((training_landmark[file][frame_length:frame_length+112]))\n",
    "    else:\n",
    "        return(training_landmark[file])\n",
    "listnames = list(training_landmark.keys())\n",
    "\n",
    "training_data = []\n",
    "\n",
    "from tqdm import tqdm\n",
    "for i in tqdm(sorted(listnames)):\n",
    "    #print('-----------------------------------------------------------------------')\n",
    "    new_data = trainimpframes(i)\n",
    "    n = i.split('/')\n",
    "    #print(i,'>>>',len(trainimpframes(i)))\n",
    "    training_data.append([trainimpframes(i),n[3]])\n",
    "    #print('-----------------------------------------------------------------------')\n",
    "\n",
    "def testimpframes(file):\n",
    "    length = len(testing_landmark[file])\n",
    "    if length>112:\n",
    "        frame_length = int((length-112)/2)\n",
    "        return((testing_landmark[file][frame_length:frame_length+112]))\n",
    "    else:\n",
    "        return(testing_landmark[file])\n",
    "listnames = list(testing_landmark.keys())\n",
    "\n",
    "testing_data = []\n",
    "\n",
    "from tqdm import tqdm\n",
    "for i in tqdm(sorted(listnames)):\n",
    "    #print('-----------------------------------------------------------------------')\n",
    "    new_data = testimpframes(i)\n",
    "    n = i.split('/')\n",
    "    #print(i,'>>>',len(trainimpframes(i)))\n",
    "    testing_data.append([testimpframes(i),n[3]])\n",
    "    #print('-----------------------------------------------------------------------')\n",
    "\n",
    "    "
   ]
  },
  {
   "cell_type": "code",
   "execution_count": 112,
   "metadata": {},
   "outputs": [],
   "source": [
    "labels = ['a','d','su','sa','n','h']\n",
    "\n",
    "def get_category(f,ff):\n",
    "    if f[0] == 's' and f[0:2] != 'su' and f[0:2] != 'sa':\n",
    "        return(0)\n",
    "        \n",
    "    elif ff == 'a':\n",
    "        return(1)\n",
    "        \n",
    "    elif ff == 'd':\n",
    "        return(2)\n",
    "        \n",
    "    elif ff == 'n':\n",
    "        return(3)\n",
    "        \n",
    "    elif ff == 'h':\n",
    "        return(4)\n",
    "    \n",
    "    elif ff == 'f':\n",
    "        return(7)\n",
    "        \n",
    "    elif f[0:2] == 'su':\n",
    "        return(5)\n",
    "        \n",
    "    elif f[0:2] == 'sa':\n",
    "        return(6)\n",
    "    \n",
    "    \n",
    "\n",
    "    \n",
    "def catg(files):\n",
    "    data_X = []\n",
    "    data_y = []\n",
    "    for i in files:\n",
    "        f = i[1]\n",
    "        ff = f[0]\n",
    "        #print(f,ff)\n",
    "        data_X.append(i[0])\n",
    "        #print(get_category(f,ff))\n",
    "        data_y.append(get_category(f,ff))\n",
    "        \n",
    "        #break\n",
    "    return([data_X,data_y])\n",
    "        \n",
    "        #training_datas.append([i[0],get_category(f,ff)])\n",
    "\n"
   ]
  },
  {
   "cell_type": "code",
   "execution_count": 113,
   "metadata": {},
   "outputs": [],
   "source": [
    "training_data_X,training_data_y = catg(training_data)"
   ]
  },
  {
   "cell_type": "code",
   "execution_count": 114,
   "metadata": {},
   "outputs": [],
   "source": [
    "testing_data_X,testing_data_y = catg(testing_data)"
   ]
  },
  {
   "cell_type": "code",
   "execution_count": 116,
   "metadata": {},
   "outputs": [
    {
     "name": "stdout",
     "output_type": "stream",
     "text": [
      "(63, 112, 68, 2)\n",
      "(56, 112, 68, 2)\n"
     ]
    }
   ],
   "source": [
    "print(np.array(training_data_X).shape)\n",
    "print(np.array(testing_data_X).shape)"
   ]
  },
  {
   "cell_type": "code",
   "execution_count": 117,
   "metadata": {},
   "outputs": [],
   "source": [
    "import keras\n",
    "train_y = keras.utils.to_categorical(training_data_y, num_classes=8)\n",
    "test_y = keras.utils.to_categorical(testing_data_y, num_classes=8)"
   ]
  },
  {
   "cell_type": "code",
   "execution_count": 119,
   "metadata": {},
   "outputs": [],
   "source": [
    "import math\n",
    "\n",
    "def distanceofpoints(p1,p2):\n",
    "    distance = math.sqrt( ((p1[0]-p2[0])**2)+((p1[1]-p2[1])**2) )\n",
    "    return distance\n",
    "\n",
    "def prepro(data):\n",
    "    points_data = []\n",
    "    for i in range(68):\n",
    "            if i!= 34:\n",
    "                points_data.append(int(distanceofpoints(data[34],data[i])))\n",
    "                \n",
    "    return(points_data)\n",
    "\n",
    "def points(data):\n",
    "    distances = []\n",
    "    for i in data:\n",
    "        distances.append(prepro(i))\n",
    "    return distances\n"
   ]
  },
  {
   "cell_type": "code",
   "execution_count": 124,
   "metadata": {},
   "outputs": [
    {
     "name": "stdout",
     "output_type": "stream",
     "text": [
      "(63, 112, 68, 2)\n",
      "(63, 112, 67)\n",
      "(63, 7504)\n"
     ]
    }
   ],
   "source": [
    "training_dd = []\n",
    "\n",
    "for i in training_data_X:\n",
    "    training_dd.append(points(i))\n",
    "\n",
    "print(np.array(training_data_X).shape)\n",
    "print(np.array(training_dd).shape)\n",
    "train_X = []\n",
    "for i in range(len(training_dd)):\n",
    "    a = np.array(training_dd[i])\n",
    "    a = a.flatten()\n",
    "    train_X.append(a)\n",
    "train_X = np.array(train_X)\n",
    "print(train_X.shape)"
   ]
  },
  {
   "cell_type": "code",
   "execution_count": 125,
   "metadata": {},
   "outputs": [
    {
     "name": "stdout",
     "output_type": "stream",
     "text": [
      "(56, 112, 68, 2)\n",
      "(56, 112, 67)\n",
      "(56, 7504)\n"
     ]
    }
   ],
   "source": [
    "testing_dd = []\n",
    "\n",
    "for i in testing_data_X:\n",
    "    testing_dd.append(points(i))\n",
    "\n",
    "print(np.array(testing_data_X).shape)\n",
    "print(np.array(testing_dd).shape)\n",
    "test_X = []\n",
    "for i in range(len(testing_dd)):\n",
    "    a = np.array(testing_dd[i])\n",
    "    a = a.flatten()\n",
    "    test_X.append(a)\n",
    "test_X = np.array(test_X)\n",
    "print(test_X.shape)"
   ]
  },
  {
   "cell_type": "code",
   "execution_count": 138,
   "metadata": {},
   "outputs": [
    {
     "name": "stdout",
     "output_type": "stream",
     "text": [
      "Epoch 00058: early stopping\n"
     ]
    }
   ],
   "source": [
    "from keras.models import Sequential\n",
    "from keras.optimizers import SGD\n",
    "model = Sequential()\n",
    "from keras.layers import Dense\n",
    "from keras.layers import Dropout\n",
    "from keras.constraints import maxnorm\n",
    "from keras.callbacks import EarlyStopping\n",
    "model.add(Dense(units=64, activation='relu', input_dim=7504))\n",
    "model.add(Dense(units=128, activation='relu',kernel_constraint=maxnorm(3)))\n",
    "model.add(Dropout(0.4))\n",
    "model.add(Dense(units=256, activation='relu',kernel_constraint=maxnorm(3)))\n",
    "model.add(Dropout(0.4))\n",
    "model.add(Dense(units=256, activation='relu',kernel_constraint=maxnorm(3)))\n",
    "model.add(Dropout(0.4))\n",
    "model.add(Dense(units=512, activation='relu',kernel_constraint=maxnorm(3)))\n",
    "model.add(Dropout(0.4))\n",
    "model.add(Dense(units=512, activation='relu',kernel_constraint=maxnorm(3)))\n",
    "model.add(Dropout(0.4))\n",
    "\n",
    "model.add(Dense(units=8, activation='softmax'))\n",
    "sgd = SGD(lr=0.1, momentum=0.9)\n",
    "model.compile(loss='categorical_crossentropy',\n",
    "              optimizer=sgd,\n",
    "              metrics=['accuracy'])\n",
    "es = EarlyStopping(monitor='val_loss',verbose =1, patience=50)\n",
    "history = model.fit(train_X,train_y, epochs=200,validation_split=0.3, batch_size=32,verbose =0, callbacks=[es])"
   ]
  },
  {
   "cell_type": "code",
   "execution_count": 140,
   "metadata": {},
   "outputs": [
    {
     "name": "stdout",
     "output_type": "stream",
     "text": [
      "Train: 0.238, Test: 0.268\n"
     ]
    },
    {
     "data": {
      "text/plain": [
       "[<matplotlib.lines.Line2D at 0x265ed1c3308>]"
      ]
     },
     "execution_count": 140,
     "metadata": {},
     "output_type": "execute_result"
    },
    {
     "data": {
      "image/png": "[encoded data removed]",
      "text/plain": [
       "<Figure size 432x288 with 1 Axes>"
      ]
     },
     "metadata": {
      "needs_background": "light"
     },
     "output_type": "display_data"
    }
   ],
   "source": [
    "import matplotlib.pyplot as plt\n",
    "_, train_acc = model.evaluate(train_X, train_y, verbose=0)\n",
    "_, test_acc = model.evaluate(test_X, test_y, verbose=0)\n",
    "print('Train: %.3f, Test: %.3f' % (train_acc, test_acc))\n",
    "# plot training history\n",
    "plt.plot(history.history['loss'], label='train')\n",
    "plt.plot(history.history['val_loss'], label='test')"
   ]
  },
  {
   "cell_type": "code",
   "execution_count": null,
   "metadata": {},
   "outputs": [],
   "source": []
  }
 ],
 "metadata": {
  "kernelspec": {
   "display_name": "tf-gpu 3.7",
   "language": "python",
   "name": "tensorflow"
  },
  "language_info": {
   "codemirror_mode": {
    "name": "ipython",
    "version": 3
   },
   "file_extension": ".py",
   "mimetype": "text/x-python",
   "name": "python",
   "nbconvert_exporter": "python",
   "pygments_lexer": "ipython3",
   "version": "3.7.6"
  }
 },
 "nbformat": 4,
 "nbformat_minor": 4
}
