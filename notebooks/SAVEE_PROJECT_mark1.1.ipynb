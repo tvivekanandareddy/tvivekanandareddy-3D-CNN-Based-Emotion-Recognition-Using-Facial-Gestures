{
  "nbformat": 4,
  "nbformat_minor": 0,
  "metadata": {
    "colab": {
      "name": "SAVEE PROJECT mark1.ipynb",
      "provenance": [],
      "collapsed_sections": [],
      "toc_visible": true,
      "machine_shape": "hm"
    },
    "kernelspec": {
      "name": "python3",
      "display_name": "Python 3"
    },
    "accelerator": "GPU"
  },
  "cells": [
    {
      "cell_type": "code",
      "metadata": {
        "id": "8UvCsJhy_Wtb",
        "colab_type": "code",
        "colab": {}
      },
      "source": [
        " !pip install -q kaggle\n",
        "!mkdir -p ~/.kaggle\n",
        "!cp kaggle.json ~/.kaggle/"
      ],
      "execution_count": 0,
      "outputs": []
    },
    {
      "cell_type": "code",
      "metadata": {
        "id": "e4d2eIHA_7tA",
        "colab_type": "code",
        "outputId": "a417f9f9-96fb-40f1-d0f5-03c85a29311d",
        "colab": {
          "base_uri": "https://localhost:8080/",
          "height": 84
        }
      },
      "source": [
        "!kaggle datasets download -d saisriteja/audiovisualdata"
      ],
      "execution_count": 0,
      "outputs": [
        {
          "output_type": "stream",
          "text": [
            "Warning: Your Kaggle API key is readable by other users on this system! To fix this, you can run 'chmod 600 /root/.kaggle/kaggle.json'\n",
            "Downloading audiovisualdata.zip to /content\n",
            " 97% 235M/243M [00:12<00:00, 23.2MB/s]\n",
            "100% 243M/243M [00:12<00:00, 20.7MB/s]\n"
          ],
          "name": "stdout"
        }
      ]
    },
    {
      "cell_type": "code",
      "metadata": {
        "id": "bTsRm73B_-D9",
        "colab_type": "code",
        "outputId": "e3de7867-fb1f-46f7-bba1-9cd15ceceb50",
        "colab": {
          "base_uri": "https://localhost:8080/",
          "height": 1000
        }
      },
      "source": [
        "!unzip /content/audiovisualdata.zip"
      ],
      "execution_count": 0,
      "outputs": [
        {
          "output_type": "stream",
          "text": [
            "Archive:  /content/audiovisualdata.zip\n",
            "  inflating: AudioVisualClip/DC/a1.avi  \n",
            "  inflating: AudioVisualClip/DC/a10.avi  \n",
            "  inflating: AudioVisualClip/DC/a11.avi  \n",
            "  inflating: AudioVisualClip/DC/a12.avi  \n",
            "  inflating: AudioVisualClip/DC/a13.avi  \n",
            "  inflating: AudioVisualClip/DC/a14.avi  \n",
            "  inflating: AudioVisualClip/DC/a15.avi  \n",
            "  inflating: AudioVisualClip/DC/a2.avi  \n",
            "  inflating: AudioVisualClip/DC/a3.avi  \n",
            "  inflating: AudioVisualClip/DC/a4.avi  \n",
            "  inflating: AudioVisualClip/DC/a5.avi  \n",
            "  inflating: AudioVisualClip/DC/a6.avi  \n",
            "  inflating: AudioVisualClip/DC/a7.avi  \n",
            "  inflating: AudioVisualClip/DC/a8.avi  \n",
            "  inflating: AudioVisualClip/DC/a9.avi  \n",
            "  inflating: AudioVisualClip/DC/d1.avi  \n",
            "  inflating: AudioVisualClip/DC/d10.avi  \n",
            "  inflating: AudioVisualClip/DC/d11.avi  \n",
            "  inflating: AudioVisualClip/DC/d12.avi  \n",
            "  inflating: AudioVisualClip/DC/d13.avi  \n",
            "  inflating: AudioVisualClip/DC/d14.avi  \n",
            "  inflating: AudioVisualClip/DC/d15.avi  \n",
            "  inflating: AudioVisualClip/DC/d2.avi  \n",
            "  inflating: AudioVisualClip/DC/d3.avi  \n",
            "  inflating: AudioVisualClip/DC/d4.avi  \n",
            "  inflating: AudioVisualClip/DC/d5.avi  \n",
            "  inflating: AudioVisualClip/DC/d6.avi  \n",
            "  inflating: AudioVisualClip/DC/d7.avi  \n",
            "  inflating: AudioVisualClip/DC/d8.avi  \n",
            "  inflating: AudioVisualClip/DC/d9.avi  \n",
            "  inflating: AudioVisualClip/DC/f1.avi  \n",
            "  inflating: AudioVisualClip/DC/f10.avi  \n",
            "  inflating: AudioVisualClip/DC/f11.avi  \n",
            "  inflating: AudioVisualClip/DC/f12.avi  \n",
            "  inflating: AudioVisualClip/DC/f13.avi  \n",
            "  inflating: AudioVisualClip/DC/f14.avi  \n",
            "  inflating: AudioVisualClip/DC/f15.avi  \n",
            "  inflating: AudioVisualClip/DC/f2.avi  \n",
            "  inflating: AudioVisualClip/DC/f3.avi  \n",
            "  inflating: AudioVisualClip/DC/f4.avi  \n",
            "  inflating: AudioVisualClip/DC/f5.avi  \n",
            "  inflating: AudioVisualClip/DC/f6.avi  \n",
            "  inflating: AudioVisualClip/DC/f7.avi  \n",
            "  inflating: AudioVisualClip/DC/f8.avi  \n",
            "  inflating: AudioVisualClip/DC/f9.avi  \n",
            "  inflating: AudioVisualClip/DC/h1.avi  \n",
            "  inflating: AudioVisualClip/DC/h10.avi  \n",
            "  inflating: AudioVisualClip/DC/h11.avi  \n",
            "  inflating: AudioVisualClip/DC/h12.avi  \n",
            "  inflating: AudioVisualClip/DC/h13.avi  \n",
            "  inflating: AudioVisualClip/DC/h14.avi  \n",
            "  inflating: AudioVisualClip/DC/h15.avi  \n",
            "  inflating: AudioVisualClip/DC/h2.avi  \n",
            "  inflating: AudioVisualClip/DC/h3.avi  \n",
            "  inflating: AudioVisualClip/DC/h4.avi  \n",
            "  inflating: AudioVisualClip/DC/h5.avi  \n",
            "  inflating: AudioVisualClip/DC/h6.avi  \n",
            "  inflating: AudioVisualClip/DC/h7.avi  \n",
            "  inflating: AudioVisualClip/DC/h8.avi  \n",
            "  inflating: AudioVisualClip/DC/h9.avi  \n",
            "  inflating: AudioVisualClip/DC/n1.avi  \n",
            "  inflating: AudioVisualClip/DC/n10.avi  \n",
            "  inflating: AudioVisualClip/DC/n11.avi  \n",
            "  inflating: AudioVisualClip/DC/n12.avi  \n",
            "  inflating: AudioVisualClip/DC/n13.avi  \n",
            "  inflating: AudioVisualClip/DC/n14.avi  \n",
            "  inflating: AudioVisualClip/DC/n15.avi  \n",
            "  inflating: AudioVisualClip/DC/n16.avi  \n",
            "  inflating: AudioVisualClip/DC/n17.avi  \n",
            "  inflating: AudioVisualClip/DC/n18.avi  \n",
            "  inflating: AudioVisualClip/DC/n19.avi  \n",
            "  inflating: AudioVisualClip/DC/n2.avi  \n",
            "  inflating: AudioVisualClip/DC/n20.avi  \n",
            "  inflating: AudioVisualClip/DC/n21.avi  \n",
            "  inflating: AudioVisualClip/DC/n22.avi  \n",
            "  inflating: AudioVisualClip/DC/n23.avi  \n",
            "  inflating: AudioVisualClip/DC/n24.avi  \n",
            "  inflating: AudioVisualClip/DC/n25.avi  \n",
            "  inflating: AudioVisualClip/DC/n26.avi  \n",
            "  inflating: AudioVisualClip/DC/n27.avi  \n",
            "  inflating: AudioVisualClip/DC/n28.avi  \n",
            "  inflating: AudioVisualClip/DC/n29.avi  \n",
            "  inflating: AudioVisualClip/DC/n3.avi  \n",
            "  inflating: AudioVisualClip/DC/n30.avi  \n",
            "  inflating: AudioVisualClip/DC/n4.avi  \n",
            "  inflating: AudioVisualClip/DC/n5.avi  \n",
            "  inflating: AudioVisualClip/DC/n6.avi  \n",
            "  inflating: AudioVisualClip/DC/n7.avi  \n",
            "  inflating: AudioVisualClip/DC/n8.avi  \n",
            "  inflating: AudioVisualClip/DC/n9.avi  \n",
            "  inflating: AudioVisualClip/DC/sa1.avi  \n",
            "  inflating: AudioVisualClip/DC/sa10.avi  \n",
            "  inflating: AudioVisualClip/DC/sa11.avi  \n",
            "  inflating: AudioVisualClip/DC/sa12.avi  \n",
            "  inflating: AudioVisualClip/DC/sa13.avi  \n",
            "  inflating: AudioVisualClip/DC/sa14.avi  \n",
            "  inflating: AudioVisualClip/DC/sa15.avi  \n",
            "  inflating: AudioVisualClip/DC/sa2.avi  \n",
            "  inflating: AudioVisualClip/DC/sa3.avi  \n",
            "  inflating: AudioVisualClip/DC/sa4.avi  \n",
            "  inflating: AudioVisualClip/DC/sa5.avi  \n",
            "  inflating: AudioVisualClip/DC/sa6.avi  \n",
            "  inflating: AudioVisualClip/DC/sa7.avi  \n",
            "  inflating: AudioVisualClip/DC/sa8.avi  \n",
            "  inflating: AudioVisualClip/DC/sa9.avi  \n",
            "  inflating: AudioVisualClip/DC/su1.avi  \n",
            "  inflating: AudioVisualClip/DC/su10.avi  \n",
            "  inflating: AudioVisualClip/DC/su11.avi  \n",
            "  inflating: AudioVisualClip/DC/su12.avi  \n",
            "  inflating: AudioVisualClip/DC/su13.avi  \n",
            "  inflating: AudioVisualClip/DC/su14.avi  \n",
            "  inflating: AudioVisualClip/DC/su15.avi  \n",
            "  inflating: AudioVisualClip/DC/su2.avi  \n",
            "  inflating: AudioVisualClip/DC/su3.avi  \n",
            "  inflating: AudioVisualClip/DC/su4.avi  \n",
            "  inflating: AudioVisualClip/DC/su5.avi  \n",
            "  inflating: AudioVisualClip/DC/su6.avi  \n",
            "  inflating: AudioVisualClip/DC/su7.avi  \n",
            "  inflating: AudioVisualClip/DC/su8.avi  \n",
            "  inflating: AudioVisualClip/DC/su9.avi  \n",
            "  inflating: AudioVisualClip/Info.txt  \n",
            "  inflating: AudioVisualClip/JE/a1.avi  \n",
            "  inflating: AudioVisualClip/JE/a10.avi  \n",
            "  inflating: AudioVisualClip/JE/a11.avi  \n",
            "  inflating: AudioVisualClip/JE/a12.avi  \n",
            "  inflating: AudioVisualClip/JE/a13.avi  \n",
            "  inflating: AudioVisualClip/JE/a14.avi  \n",
            "  inflating: AudioVisualClip/JE/a15.avi  \n",
            "  inflating: AudioVisualClip/JE/a2.avi  \n",
            "  inflating: AudioVisualClip/JE/a3.avi  \n",
            "  inflating: AudioVisualClip/JE/a4.avi  \n",
            "  inflating: AudioVisualClip/JE/a5.avi  \n",
            "  inflating: AudioVisualClip/JE/a6.avi  \n",
            "  inflating: AudioVisualClip/JE/a7.avi  \n",
            "  inflating: AudioVisualClip/JE/a8.avi  \n",
            "  inflating: AudioVisualClip/JE/a9.avi  \n",
            "  inflating: AudioVisualClip/JE/d1.avi  \n",
            "  inflating: AudioVisualClip/JE/d10.avi  \n",
            "  inflating: AudioVisualClip/JE/d11.avi  \n",
            "  inflating: AudioVisualClip/JE/d12.avi  \n",
            "  inflating: AudioVisualClip/JE/d13.avi  \n",
            "  inflating: AudioVisualClip/JE/d14.avi  \n",
            "  inflating: AudioVisualClip/JE/d15.avi  \n",
            "  inflating: AudioVisualClip/JE/d2.avi  \n",
            "  inflating: AudioVisualClip/JE/d3.avi  \n",
            "  inflating: AudioVisualClip/JE/d4.avi  \n",
            "  inflating: AudioVisualClip/JE/d5.avi  \n",
            "  inflating: AudioVisualClip/JE/d6.avi  \n",
            "  inflating: AudioVisualClip/JE/d7.avi  \n",
            "  inflating: AudioVisualClip/JE/d8.avi  \n",
            "  inflating: AudioVisualClip/JE/d9.avi  \n",
            "  inflating: AudioVisualClip/JE/f1.avi  \n",
            "  inflating: AudioVisualClip/JE/f10.avi  \n",
            "  inflating: AudioVisualClip/JE/f11.avi  \n",
            "  inflating: AudioVisualClip/JE/f12.avi  \n",
            "  inflating: AudioVisualClip/JE/f13.avi  \n",
            "  inflating: AudioVisualClip/JE/f14.avi  \n",
            "  inflating: AudioVisualClip/JE/f15.avi  \n",
            "  inflating: AudioVisualClip/JE/f2.avi  \n",
            "  inflating: AudioVisualClip/JE/f3.avi  \n",
            "  inflating: AudioVisualClip/JE/f4.avi  \n",
            "  inflating: AudioVisualClip/JE/f5.avi  \n",
            "  inflating: AudioVisualClip/JE/f6.avi  \n",
            "  inflating: AudioVisualClip/JE/f7.avi  \n",
            "  inflating: AudioVisualClip/JE/f8.avi  \n",
            "  inflating: AudioVisualClip/JE/f9.avi  \n",
            "  inflating: AudioVisualClip/JE/h1.avi  \n",
            "  inflating: AudioVisualClip/JE/h10.avi  \n",
            "  inflating: AudioVisualClip/JE/h11.avi  \n",
            "  inflating: AudioVisualClip/JE/h12.avi  \n",
            "  inflating: AudioVisualClip/JE/h13.avi  \n",
            "  inflating: AudioVisualClip/JE/h14.avi  \n",
            "  inflating: AudioVisualClip/JE/h15.avi  \n",
            "  inflating: AudioVisualClip/JE/h2.avi  \n",
            "  inflating: AudioVisualClip/JE/h3.avi  \n",
            "  inflating: AudioVisualClip/JE/h4.avi  \n",
            "  inflating: AudioVisualClip/JE/h5.avi  \n",
            "  inflating: AudioVisualClip/JE/h6.avi  \n",
            "  inflating: AudioVisualClip/JE/h7.avi  \n",
            "  inflating: AudioVisualClip/JE/h8.avi  \n",
            "  inflating: AudioVisualClip/JE/h9.avi  \n",
            "  inflating: AudioVisualClip/JE/n1.avi  \n",
            "  inflating: AudioVisualClip/JE/n10.avi  \n",
            "  inflating: AudioVisualClip/JE/n11.avi  \n",
            "  inflating: AudioVisualClip/JE/n12.avi  \n",
            "  inflating: AudioVisualClip/JE/n13.avi  \n",
            "  inflating: AudioVisualClip/JE/n14.avi  \n",
            "  inflating: AudioVisualClip/JE/n15.avi  \n",
            "  inflating: AudioVisualClip/JE/n16.avi  \n",
            "  inflating: AudioVisualClip/JE/n17.avi  \n",
            "  inflating: AudioVisualClip/JE/n18.avi  \n",
            "  inflating: AudioVisualClip/JE/n19.avi  \n",
            "  inflating: AudioVisualClip/JE/n2.avi  \n",
            "  inflating: AudioVisualClip/JE/n20.avi  \n",
            "  inflating: AudioVisualClip/JE/n21.avi  \n",
            "  inflating: AudioVisualClip/JE/n22.avi  \n",
            "  inflating: AudioVisualClip/JE/n23.avi  \n",
            "  inflating: AudioVisualClip/JE/n24.avi  \n",
            "  inflating: AudioVisualClip/JE/n25.avi  \n",
            "  inflating: AudioVisualClip/JE/n26.avi  \n",
            "  inflating: AudioVisualClip/JE/n27.avi  \n",
            "  inflating: AudioVisualClip/JE/n28.avi  \n",
            "  inflating: AudioVisualClip/JE/n29.avi  \n",
            "  inflating: AudioVisualClip/JE/n3.avi  \n",
            "  inflating: AudioVisualClip/JE/n30.avi  \n",
            "  inflating: AudioVisualClip/JE/n4.avi  \n",
            "  inflating: AudioVisualClip/JE/n5.avi  \n",
            "  inflating: AudioVisualClip/JE/n6.avi  \n",
            "  inflating: AudioVisualClip/JE/n7.avi  \n",
            "  inflating: AudioVisualClip/JE/n8.avi  \n",
            "  inflating: AudioVisualClip/JE/n9.avi  \n",
            "  inflating: AudioVisualClip/JE/sa1.avi  \n",
            "  inflating: AudioVisualClip/JE/sa10.avi  \n",
            "  inflating: AudioVisualClip/JE/sa11.avi  \n",
            "  inflating: AudioVisualClip/JE/sa12.avi  \n",
            "  inflating: AudioVisualClip/JE/sa13.avi  \n",
            "  inflating: AudioVisualClip/JE/sa14.avi  \n",
            "  inflating: AudioVisualClip/JE/sa15.avi  \n",
            "  inflating: AudioVisualClip/JE/sa2.avi  \n",
            "  inflating: AudioVisualClip/JE/sa3.avi  \n",
            "  inflating: AudioVisualClip/JE/sa4.avi  \n",
            "  inflating: AudioVisualClip/JE/sa5.avi  \n",
            "  inflating: AudioVisualClip/JE/sa6.avi  \n",
            "  inflating: AudioVisualClip/JE/sa7.avi  \n",
            "  inflating: AudioVisualClip/JE/sa8.avi  \n",
            "  inflating: AudioVisualClip/JE/sa9.avi  \n",
            "  inflating: AudioVisualClip/JE/su1.avi  \n",
            "  inflating: AudioVisualClip/JE/su10.avi  \n",
            "  inflating: AudioVisualClip/JE/su11.avi  \n",
            "  inflating: AudioVisualClip/JE/su12.avi  \n",
            "  inflating: AudioVisualClip/JE/su13.avi  \n",
            "  inflating: AudioVisualClip/JE/su14.avi  \n",
            "  inflating: AudioVisualClip/JE/su15.avi  \n",
            "  inflating: AudioVisualClip/JE/su2.avi  \n",
            "  inflating: AudioVisualClip/JE/su3.avi  \n",
            "  inflating: AudioVisualClip/JE/su4.avi  \n",
            "  inflating: AudioVisualClip/JE/su5.avi  \n",
            "  inflating: AudioVisualClip/JE/su6.avi  \n",
            "  inflating: AudioVisualClip/JE/su7.avi  \n",
            "  inflating: AudioVisualClip/JE/su8.avi  \n",
            "  inflating: AudioVisualClip/JE/su9.avi  \n",
            "  inflating: AudioVisualClip/JK/a1.avi  \n",
            "  inflating: AudioVisualClip/JK/a10.avi  \n",
            "  inflating: AudioVisualClip/JK/a11.avi  \n",
            "  inflating: AudioVisualClip/JK/a12.avi  \n",
            "  inflating: AudioVisualClip/JK/a13.avi  \n",
            "  inflating: AudioVisualClip/JK/a14.avi  \n",
            "  inflating: AudioVisualClip/JK/a15.avi  \n",
            "  inflating: AudioVisualClip/JK/a2.avi  \n",
            "  inflating: AudioVisualClip/JK/a3.avi  \n",
            "  inflating: AudioVisualClip/JK/a4.avi  \n",
            "  inflating: AudioVisualClip/JK/a5.avi  \n",
            "  inflating: AudioVisualClip/JK/a6.avi  \n",
            "  inflating: AudioVisualClip/JK/a7.avi  \n",
            "  inflating: AudioVisualClip/JK/a8.avi  \n",
            "  inflating: AudioVisualClip/JK/a9.avi  \n",
            "  inflating: AudioVisualClip/JK/d1.avi  \n",
            "  inflating: AudioVisualClip/JK/d10.avi  \n",
            "  inflating: AudioVisualClip/JK/d11.avi  \n",
            "  inflating: AudioVisualClip/JK/d12.avi  \n",
            "  inflating: AudioVisualClip/JK/d13.avi  \n",
            "  inflating: AudioVisualClip/JK/d14.avi  \n",
            "  inflating: AudioVisualClip/JK/d15.avi  \n",
            "  inflating: AudioVisualClip/JK/d2.avi  \n",
            "  inflating: AudioVisualClip/JK/d3.avi  \n",
            "  inflating: AudioVisualClip/JK/d4.avi  \n",
            "  inflating: AudioVisualClip/JK/d5.avi  \n",
            "  inflating: AudioVisualClip/JK/d6.avi  \n",
            "  inflating: AudioVisualClip/JK/d7.avi  \n",
            "  inflating: AudioVisualClip/JK/d8.avi  \n",
            "  inflating: AudioVisualClip/JK/d9.avi  \n",
            "  inflating: AudioVisualClip/JK/f1.avi  \n",
            "  inflating: AudioVisualClip/JK/f10.avi  \n",
            "  inflating: AudioVisualClip/JK/f11.avi  \n",
            "  inflating: AudioVisualClip/JK/f12.avi  \n",
            "  inflating: AudioVisualClip/JK/f13.avi  \n",
            "  inflating: AudioVisualClip/JK/f14.avi  \n",
            "  inflating: AudioVisualClip/JK/f15.avi  \n",
            "  inflating: AudioVisualClip/JK/f2.avi  \n",
            "  inflating: AudioVisualClip/JK/f3.avi  \n",
            "  inflating: AudioVisualClip/JK/f4.avi  \n",
            "  inflating: AudioVisualClip/JK/f5.avi  \n",
            "  inflating: AudioVisualClip/JK/f6.avi  \n",
            "  inflating: AudioVisualClip/JK/f7.avi  \n",
            "  inflating: AudioVisualClip/JK/f8.avi  \n",
            "  inflating: AudioVisualClip/JK/f9.avi  \n",
            "  inflating: AudioVisualClip/JK/h1.avi  \n",
            "  inflating: AudioVisualClip/JK/h10.avi  \n",
            "  inflating: AudioVisualClip/JK/h11.avi  \n",
            "  inflating: AudioVisualClip/JK/h12.avi  \n",
            "  inflating: AudioVisualClip/JK/h13.avi  \n",
            "  inflating: AudioVisualClip/JK/h14.avi  \n",
            "  inflating: AudioVisualClip/JK/h15.avi  \n",
            "  inflating: AudioVisualClip/JK/h2.avi  \n",
            "  inflating: AudioVisualClip/JK/h3.avi  \n",
            "  inflating: AudioVisualClip/JK/h4.avi  \n",
            "  inflating: AudioVisualClip/JK/h5.avi  \n",
            "  inflating: AudioVisualClip/JK/h6.avi  \n",
            "  inflating: AudioVisualClip/JK/h7.avi  \n",
            "  inflating: AudioVisualClip/JK/h8.avi  \n",
            "  inflating: AudioVisualClip/JK/h9.avi  \n",
            "  inflating: AudioVisualClip/JK/n1.avi  \n",
            "  inflating: AudioVisualClip/JK/n10.avi  \n",
            "  inflating: AudioVisualClip/JK/n11.avi  \n",
            "  inflating: AudioVisualClip/JK/n12.avi  \n",
            "  inflating: AudioVisualClip/JK/n13.avi  \n",
            "  inflating: AudioVisualClip/JK/n14.avi  \n",
            "  inflating: AudioVisualClip/JK/n15.avi  \n",
            "  inflating: AudioVisualClip/JK/n16.avi  \n",
            "  inflating: AudioVisualClip/JK/n17.avi  \n",
            "  inflating: AudioVisualClip/JK/n18.avi  \n",
            "  inflating: AudioVisualClip/JK/n19.avi  \n",
            "  inflating: AudioVisualClip/JK/n2.avi  \n",
            "  inflating: AudioVisualClip/JK/n20.avi  \n",
            "  inflating: AudioVisualClip/JK/n21.avi  \n",
            "  inflating: AudioVisualClip/JK/n22.avi  \n",
            "  inflating: AudioVisualClip/JK/n23.avi  \n",
            "  inflating: AudioVisualClip/JK/n24.avi  \n",
            "  inflating: AudioVisualClip/JK/n25.avi  \n",
            "  inflating: AudioVisualClip/JK/n26.avi  \n",
            "  inflating: AudioVisualClip/JK/n27.avi  \n",
            "  inflating: AudioVisualClip/JK/n28.avi  \n",
            "  inflating: AudioVisualClip/JK/n29.avi  \n",
            "  inflating: AudioVisualClip/JK/n3.avi  \n",
            "  inflating: AudioVisualClip/JK/n30.avi  \n",
            "  inflating: AudioVisualClip/JK/n4.avi  \n",
            "  inflating: AudioVisualClip/JK/n5.avi  \n",
            "  inflating: AudioVisualClip/JK/n6.avi  \n",
            "  inflating: AudioVisualClip/JK/n7.avi  \n",
            "  inflating: AudioVisualClip/JK/n8.avi  \n",
            "  inflating: AudioVisualClip/JK/n9.avi  \n",
            "  inflating: AudioVisualClip/JK/sa1.avi  \n",
            "  inflating: AudioVisualClip/JK/sa10.avi  \n",
            "  inflating: AudioVisualClip/JK/sa11.avi  \n",
            "  inflating: AudioVisualClip/JK/sa12.avi  \n",
            "  inflating: AudioVisualClip/JK/sa13.avi  \n",
            "  inflating: AudioVisualClip/JK/sa14.avi  \n",
            "  inflating: AudioVisualClip/JK/sa15.avi  \n",
            "  inflating: AudioVisualClip/JK/sa2.avi  \n",
            "  inflating: AudioVisualClip/JK/sa3.avi  \n",
            "  inflating: AudioVisualClip/JK/sa4.avi  \n",
            "  inflating: AudioVisualClip/JK/sa5.avi  \n",
            "  inflating: AudioVisualClip/JK/sa6.avi  \n",
            "  inflating: AudioVisualClip/JK/sa7.avi  \n",
            "  inflating: AudioVisualClip/JK/sa8.avi  \n",
            "  inflating: AudioVisualClip/JK/sa9.avi  \n",
            "  inflating: AudioVisualClip/JK/su1.avi  \n",
            "  inflating: AudioVisualClip/JK/su10.avi  \n",
            "  inflating: AudioVisualClip/JK/su11.avi  \n",
            "  inflating: AudioVisualClip/JK/su12.avi  \n",
            "  inflating: AudioVisualClip/JK/su13.avi  \n",
            "  inflating: AudioVisualClip/JK/su14.avi  \n",
            "  inflating: AudioVisualClip/JK/su15.avi  \n",
            "  inflating: AudioVisualClip/JK/su2.avi  \n",
            "  inflating: AudioVisualClip/JK/su3.avi  \n",
            "  inflating: AudioVisualClip/JK/su4.avi  \n",
            "  inflating: AudioVisualClip/JK/su5.avi  \n",
            "  inflating: AudioVisualClip/JK/su6.avi  \n",
            "  inflating: AudioVisualClip/JK/su7.avi  \n",
            "  inflating: AudioVisualClip/JK/su8.avi  \n",
            "  inflating: AudioVisualClip/JK/su9.avi  \n",
            "  inflating: AudioVisualClip/KL/a1.avi  \n",
            "  inflating: AudioVisualClip/KL/a10.avi  \n",
            "  inflating: AudioVisualClip/KL/a11.avi  \n",
            "  inflating: AudioVisualClip/KL/a12.avi  \n",
            "  inflating: AudioVisualClip/KL/a13.avi  \n",
            "  inflating: AudioVisualClip/KL/a14.avi  \n",
            "  inflating: AudioVisualClip/KL/a15.avi  \n",
            "  inflating: AudioVisualClip/KL/a2.avi  \n",
            "  inflating: AudioVisualClip/KL/a3.avi  \n",
            "  inflating: AudioVisualClip/KL/a4.avi  \n",
            "  inflating: AudioVisualClip/KL/a5.avi  \n",
            "  inflating: AudioVisualClip/KL/a6.avi  \n",
            "  inflating: AudioVisualClip/KL/a7.avi  \n",
            "  inflating: AudioVisualClip/KL/a8.avi  \n",
            "  inflating: AudioVisualClip/KL/a9.avi  \n",
            "  inflating: AudioVisualClip/KL/d1.avi  \n",
            "  inflating: AudioVisualClip/KL/d10.avi  \n",
            "  inflating: AudioVisualClip/KL/d11.avi  \n",
            "  inflating: AudioVisualClip/KL/d12.avi  \n",
            "  inflating: AudioVisualClip/KL/d13.avi  \n",
            "  inflating: AudioVisualClip/KL/d14.avi  \n",
            "  inflating: AudioVisualClip/KL/d15.avi  \n",
            "  inflating: AudioVisualClip/KL/d2.avi  \n",
            "  inflating: AudioVisualClip/KL/d3.avi  \n",
            "  inflating: AudioVisualClip/KL/d4.avi  \n",
            "  inflating: AudioVisualClip/KL/d5.avi  \n",
            "  inflating: AudioVisualClip/KL/d6.avi  \n",
            "  inflating: AudioVisualClip/KL/d7.avi  \n",
            "  inflating: AudioVisualClip/KL/d8.avi  \n",
            "  inflating: AudioVisualClip/KL/d9.avi  \n",
            "  inflating: AudioVisualClip/KL/f1.avi  \n",
            "  inflating: AudioVisualClip/KL/f10.avi  \n",
            "  inflating: AudioVisualClip/KL/f11.avi  \n",
            "  inflating: AudioVisualClip/KL/f12.avi  \n",
            "  inflating: AudioVisualClip/KL/f13.avi  \n",
            "  inflating: AudioVisualClip/KL/f14.avi  \n",
            "  inflating: AudioVisualClip/KL/f15.avi  \n",
            "  inflating: AudioVisualClip/KL/f2.avi  \n",
            "  inflating: AudioVisualClip/KL/f3.avi  \n",
            "  inflating: AudioVisualClip/KL/f4.avi  \n",
            "  inflating: AudioVisualClip/KL/f5.avi  \n",
            "  inflating: AudioVisualClip/KL/f6.avi  \n",
            "  inflating: AudioVisualClip/KL/f7.avi  \n",
            "  inflating: AudioVisualClip/KL/f8.avi  \n",
            "  inflating: AudioVisualClip/KL/f9.avi  \n",
            "  inflating: AudioVisualClip/KL/h1.avi  \n",
            "  inflating: AudioVisualClip/KL/h10.avi  \n",
            "  inflating: AudioVisualClip/KL/h11.avi  \n",
            "  inflating: AudioVisualClip/KL/h12.avi  \n",
            "  inflating: AudioVisualClip/KL/h13.avi  \n",
            "  inflating: AudioVisualClip/KL/h14.avi  \n",
            "  inflating: AudioVisualClip/KL/h15.avi  \n",
            "  inflating: AudioVisualClip/KL/h2.avi  \n",
            "  inflating: AudioVisualClip/KL/h3.avi  \n",
            "  inflating: AudioVisualClip/KL/h4.avi  \n",
            "  inflating: AudioVisualClip/KL/h5.avi  \n",
            "  inflating: AudioVisualClip/KL/h6.avi  \n",
            "  inflating: AudioVisualClip/KL/h7.avi  \n",
            "  inflating: AudioVisualClip/KL/h8.avi  \n",
            "  inflating: AudioVisualClip/KL/h9.avi  \n",
            "  inflating: AudioVisualClip/KL/n1.avi  \n",
            "  inflating: AudioVisualClip/KL/n10.avi  \n",
            "  inflating: AudioVisualClip/KL/n11.avi  \n",
            "  inflating: AudioVisualClip/KL/n12.avi  \n",
            "  inflating: AudioVisualClip/KL/n13.avi  \n",
            "  inflating: AudioVisualClip/KL/n14.avi  \n",
            "  inflating: AudioVisualClip/KL/n15.avi  \n",
            "  inflating: AudioVisualClip/KL/n16.avi  \n",
            "  inflating: AudioVisualClip/KL/n17.avi  \n",
            "  inflating: AudioVisualClip/KL/n18.avi  \n",
            "  inflating: AudioVisualClip/KL/n19.avi  \n",
            "  inflating: AudioVisualClip/KL/n2.avi  \n",
            "  inflating: AudioVisualClip/KL/n20.avi  \n",
            "  inflating: AudioVisualClip/KL/n21.avi  \n",
            "  inflating: AudioVisualClip/KL/n22.avi  \n",
            "  inflating: AudioVisualClip/KL/n23.avi  \n",
            "  inflating: AudioVisualClip/KL/n24.avi  \n",
            "  inflating: AudioVisualClip/KL/n25.avi  \n",
            "  inflating: AudioVisualClip/KL/n26.avi  \n",
            "  inflating: AudioVisualClip/KL/n27.avi  \n",
            "  inflating: AudioVisualClip/KL/n28.avi  \n",
            "  inflating: AudioVisualClip/KL/n29.avi  \n",
            "  inflating: AudioVisualClip/KL/n3.avi  \n",
            "  inflating: AudioVisualClip/KL/n30.avi  \n",
            "  inflating: AudioVisualClip/KL/n4.avi  \n",
            "  inflating: AudioVisualClip/KL/n5.avi  \n",
            "  inflating: AudioVisualClip/KL/n6.avi  \n",
            "  inflating: AudioVisualClip/KL/n7.avi  \n",
            "  inflating: AudioVisualClip/KL/n8.avi  \n",
            "  inflating: AudioVisualClip/KL/n9.avi  \n",
            "  inflating: AudioVisualClip/KL/sa1.avi  \n",
            "  inflating: AudioVisualClip/KL/sa10.avi  \n",
            "  inflating: AudioVisualClip/KL/sa11.avi  \n",
            "  inflating: AudioVisualClip/KL/sa12.avi  \n",
            "  inflating: AudioVisualClip/KL/sa13.avi  \n",
            "  inflating: AudioVisualClip/KL/sa14.avi  \n",
            "  inflating: AudioVisualClip/KL/sa15.avi  \n",
            "  inflating: AudioVisualClip/KL/sa2.avi  \n",
            "  inflating: AudioVisualClip/KL/sa3.avi  \n",
            "  inflating: AudioVisualClip/KL/sa4.avi  \n",
            "  inflating: AudioVisualClip/KL/sa5.avi  \n",
            "  inflating: AudioVisualClip/KL/sa6.avi  \n",
            "  inflating: AudioVisualClip/KL/sa7.avi  \n",
            "  inflating: AudioVisualClip/KL/sa8.avi  \n",
            "  inflating: AudioVisualClip/KL/sa9.avi  \n",
            "  inflating: AudioVisualClip/KL/su1.avi  \n",
            "  inflating: AudioVisualClip/KL/su10.avi  \n",
            "  inflating: AudioVisualClip/KL/su11.avi  \n",
            "  inflating: AudioVisualClip/KL/su12.avi  \n",
            "  inflating: AudioVisualClip/KL/su13.avi  \n",
            "  inflating: AudioVisualClip/KL/su14.avi  \n",
            "  inflating: AudioVisualClip/KL/su15.avi  \n",
            "  inflating: AudioVisualClip/KL/su2.avi  \n",
            "  inflating: AudioVisualClip/KL/su3.avi  \n",
            "  inflating: AudioVisualClip/KL/su4.avi  \n",
            "  inflating: AudioVisualClip/KL/su5.avi  \n",
            "  inflating: AudioVisualClip/KL/su6.avi  \n",
            "  inflating: AudioVisualClip/KL/su7.avi  \n",
            "  inflating: AudioVisualClip/KL/su8.avi  \n",
            "  inflating: AudioVisualClip/KL/su9.avi  \n"
          ],
          "name": "stdout"
        }
      ]
    },
    {
      "cell_type": "code",
      "metadata": {
        "id": "O61tJvkYAZ-4",
        "colab_type": "code",
        "outputId": "99d4472b-df1b-4be0-900d-6a303381cf4f",
        "colab": {
          "base_uri": "https://localhost:8080/",
          "height": 1000
        }
      },
      "source": [
        "import os\n",
        "sorted(os.listdir('/content/AudioVisualClip/DC'))"
      ],
      "execution_count": 0,
      "outputs": [
        {
          "output_type": "execute_result",
          "data": {
            "text/plain": [
              "['a1.avi',\n",
              " 'a10.avi',\n",
              " 'a11.avi',\n",
              " 'a12.avi',\n",
              " 'a13.avi',\n",
              " 'a14.avi',\n",
              " 'a15.avi',\n",
              " 'a2.avi',\n",
              " 'a3.avi',\n",
              " 'a4.avi',\n",
              " 'a5.avi',\n",
              " 'a6.avi',\n",
              " 'a7.avi',\n",
              " 'a8.avi',\n",
              " 'a9.avi',\n",
              " 'd1.avi',\n",
              " 'd10.avi',\n",
              " 'd11.avi',\n",
              " 'd12.avi',\n",
              " 'd13.avi',\n",
              " 'd14.avi',\n",
              " 'd15.avi',\n",
              " 'd2.avi',\n",
              " 'd3.avi',\n",
              " 'd4.avi',\n",
              " 'd5.avi',\n",
              " 'd6.avi',\n",
              " 'd7.avi',\n",
              " 'd8.avi',\n",
              " 'd9.avi',\n",
              " 'f1.avi',\n",
              " 'f10.avi',\n",
              " 'f11.avi',\n",
              " 'f12.avi',\n",
              " 'f13.avi',\n",
              " 'f14.avi',\n",
              " 'f15.avi',\n",
              " 'f2.avi',\n",
              " 'f3.avi',\n",
              " 'f4.avi',\n",
              " 'f5.avi',\n",
              " 'f6.avi',\n",
              " 'f7.avi',\n",
              " 'f8.avi',\n",
              " 'f9.avi',\n",
              " 'h1.avi',\n",
              " 'h10.avi',\n",
              " 'h11.avi',\n",
              " 'h12.avi',\n",
              " 'h13.avi',\n",
              " 'h14.avi',\n",
              " 'h15.avi',\n",
              " 'h2.avi',\n",
              " 'h3.avi',\n",
              " 'h4.avi',\n",
              " 'h5.avi',\n",
              " 'h6.avi',\n",
              " 'h7.avi',\n",
              " 'h8.avi',\n",
              " 'h9.avi',\n",
              " 'n1.avi',\n",
              " 'n10.avi',\n",
              " 'n11.avi',\n",
              " 'n12.avi',\n",
              " 'n13.avi',\n",
              " 'n14.avi',\n",
              " 'n15.avi',\n",
              " 'n16.avi',\n",
              " 'n17.avi',\n",
              " 'n18.avi',\n",
              " 'n19.avi',\n",
              " 'n2.avi',\n",
              " 'n20.avi',\n",
              " 'n21.avi',\n",
              " 'n22.avi',\n",
              " 'n23.avi',\n",
              " 'n24.avi',\n",
              " 'n25.avi',\n",
              " 'n26.avi',\n",
              " 'n27.avi',\n",
              " 'n28.avi',\n",
              " 'n29.avi',\n",
              " 'n3.avi',\n",
              " 'n30.avi',\n",
              " 'n4.avi',\n",
              " 'n5.avi',\n",
              " 'n6.avi',\n",
              " 'n7.avi',\n",
              " 'n8.avi',\n",
              " 'n9.avi',\n",
              " 'sa1.avi',\n",
              " 'sa10.avi',\n",
              " 'sa11.avi',\n",
              " 'sa12.avi',\n",
              " 'sa13.avi',\n",
              " 'sa14.avi',\n",
              " 'sa15.avi',\n",
              " 'sa2.avi',\n",
              " 'sa3.avi',\n",
              " 'sa4.avi',\n",
              " 'sa5.avi',\n",
              " 'sa6.avi',\n",
              " 'sa7.avi',\n",
              " 'sa8.avi',\n",
              " 'sa9.avi',\n",
              " 'su1.avi',\n",
              " 'su10.avi',\n",
              " 'su11.avi',\n",
              " 'su12.avi',\n",
              " 'su13.avi',\n",
              " 'su14.avi',\n",
              " 'su15.avi',\n",
              " 'su2.avi',\n",
              " 'su3.avi',\n",
              " 'su4.avi',\n",
              " 'su5.avi',\n",
              " 'su6.avi',\n",
              " 'su7.avi',\n",
              " 'su8.avi',\n",
              " 'su9.avi']"
            ]
          },
          "metadata": {
            "tags": []
          },
          "execution_count": 4
        }
      ]
    },
    {
      "cell_type": "code",
      "metadata": {
        "id": "ZdYhcp8KADJ1",
        "colab_type": "code",
        "colab": {}
      },
      "source": [
        "folders = ['DC','JE','JK','KL']\n"
      ],
      "execution_count": 0,
      "outputs": []
    },
    {
      "cell_type": "code",
      "metadata": {
        "id": "aaqjrlzSBf7y",
        "colab_type": "code",
        "colab": {}
      },
      "source": [
        " testing = ['a14.avi','a15.avi','d14.avi','d15.avi', 'f14.avi','f15.avi',\n",
        "            'h14.avi','h15.avi','n29.avi','n30.avi','sa14.avi','sa15.avi','su14.avi','su15.avi']"
      ],
      "execution_count": 0,
      "outputs": []
    },
    {
      "cell_type": "code",
      "metadata": {
        "id": "QAPkuaIiD3Cq",
        "colab_type": "code",
        "colab": {}
      },
      "source": [
        "training = ['a'+str(i)+'.avi' for i in range(1,14)]\n",
        "training.extend('d'+str(i)+'.avi' for i in range(1,14))\n",
        "training.extend('f'+str(i)+'.avi' for i in range(1,14))\n",
        "training.extend('h'+str(i)+'.avi' for i in range(1,14))\n",
        "training.extend('sa'+str(i)+'.avi' for i in range(1,14))\n",
        "training.extend('su'+str(i)+'.avi' for i in range(1,14))\n",
        "training.extend('n'+str(i)+'.avi' for i in range(1,29))"
      ],
      "execution_count": 0,
      "outputs": []
    },
    {
      "cell_type": "code",
      "metadata": {
        "id": "ZzYaPVBeGLXf",
        "colab_type": "code",
        "outputId": "f29de3a3-d5c4-4c38-b4b9-1428e28fa095",
        "colab": {
          "base_uri": "https://localhost:8080/",
          "height": 34
        }
      },
      "source": [
        "len(training)"
      ],
      "execution_count": 0,
      "outputs": [
        {
          "output_type": "execute_result",
          "data": {
            "text/plain": [
              "106"
            ]
          },
          "metadata": {
            "tags": []
          },
          "execution_count": 79
        }
      ]
    },
    {
      "cell_type": "code",
      "metadata": {
        "id": "hoMuwvioBnD5",
        "colab_type": "code",
        "outputId": "4db4db23-3ec6-4a3d-840c-7e189a5a1ea1",
        "colab": {
          "base_uri": "https://localhost:8080/",
          "height": 168
        }
      },
      "source": [
        "!git clone https://github.com/keyurr2/facial-landmarks.git #getting facial landmarks\n",
        "!git clone https://github.com/AKSHAYUBHAT/TensorFace.git"
      ],
      "execution_count": 0,
      "outputs": [
        {
          "output_type": "stream",
          "text": [
            "Cloning into 'facial-landmarks'...\n",
            "remote: Enumerating objects: 16, done.\u001b[K\n",
            "remote: Total 16 (delta 0), reused 0 (delta 0), pack-reused 16\u001b[K\n",
            "Unpacking objects: 100% (16/16), done.\n",
            "Cloning into 'TensorFace'...\n",
            "remote: Enumerating objects: 291, done.\u001b[K\n",
            "remote: Total 291 (delta 0), reused 0 (delta 0), pack-reused 291\u001b[K\n",
            "Receiving objects: 100% (291/291), 80.30 MiB | 32.72 MiB/s, done.\n",
            "Resolving deltas: 100% (67/67), done.\n"
          ],
          "name": "stdout"
        }
      ]
    },
    {
      "cell_type": "code",
      "metadata": {
        "id": "Vx6QF-srJXOr",
        "colab_type": "code",
        "colab": {}
      },
      "source": [
        "import cv2\n",
        "import numpy as np\n",
        "import dlib\n",
        "import cv2\n",
        "import glob\n",
        "from tqdm import tqdm \n",
        "import matplotlib\n",
        "import matplotlib.pyplot as plt\n",
        "import numpy as np"
      ],
      "execution_count": 0,
      "outputs": []
    },
    {
      "cell_type": "code",
      "metadata": {
        "id": "zUatTlP0CV1E",
        "colab_type": "code",
        "colab": {}
      },
      "source": [
        "import dlib\n",
        "detector = dlib.get_frontal_face_detector()\n",
        "predictor = dlib.shape_predictor(\"TensorFace/openface/models/dlib/shape_predictor_68_face_landmarks.dat\")\n",
        "def landmarks(frame):\n",
        "  gray = cv2.cvtColor(frame, cv2.COLOR_BGR2GRAY)\n",
        "  faces = detector(gray)\n",
        "  points = []\n",
        "  for face in faces:\n",
        "        x1 = face.left()\n",
        "        y1 = face.top()\n",
        "        x2 = face.right()\n",
        "        y2 = face.bottom()\n",
        "        #cv2.rectangle(frame, (x1, y1), (x2, y2), (0, 255, 0), 3)\n",
        "\n",
        "        landmarks = predictor(gray, face)\n",
        "\n",
        "        for n in range(0, 68):\n",
        "            x = landmarks.part(n).x\n",
        "            y = landmarks.part(n).y\n",
        "            points.append([x,y])\n",
        "            cv2.circle(frame, (x, y), 4, (255, 0, 0), -1)\n",
        "  return (np.array(frame),np.array(points))\n",
        "\n",
        "\n",
        "\n",
        "a = ['a'+str(i)+'.avi' for i in range(30)]\n",
        "d = ['d'+str(i)+'.avi' for i in range(30)]\n",
        "ff = ['f'+str(i)+'.avi' for i in range(30)]\n",
        "h = ['h'+str(i)+'.avi' for i in range(30)]\n",
        "n = ['n'+str(i)+'.avi' for i in range(31)]\n",
        "sa = ['sa'+str(i)+'.avi' for i in range(30)]\n",
        "su = ['su'+str(i)+'.avi' for i in range(30)]\n",
        "\n",
        "def slabel(file):\n",
        "  s_file_n = file.split('/')\n",
        "  s_name = s_file_n[-1]\n",
        "  print(s_name)\n",
        "\n",
        "  if s_name  in a:  \n",
        "    return(0)\n",
        "  \n",
        "  elif s_name in d:\n",
        "    return(1)\n",
        "\n",
        "  elif s_name in ff:\n",
        "    return(2)\n",
        "  \n",
        "  elif s_name in h:\n",
        "    return(3)\n",
        "  \n",
        "  elif s_name in n:\n",
        "    return(4)\n",
        "  \n",
        "  elif s_name in sa:\n",
        "    return(5)\n",
        "  \n",
        "  elif s_name in su:\n",
        "    return(6)\n",
        "\n",
        "\n",
        "\n",
        "def tlabel(file):\n",
        "  s_file_n = file.split('/')\n",
        "  s_name = s_file_n[-1]\n",
        "  #print(s_name)\n",
        "  if s_name in training:\n",
        "    return 0\n",
        "  if s_name in testing:\n",
        "    return 1\n",
        "\n",
        "\n",
        "#label('/content/AudioVisualClip/DC/h10.avi')\n",
        "\n",
        "def vidtoframes(videoFile):\n",
        " vidcap = cv2.VideoCapture(videoFile)\n",
        " success,image = vidcap.read()\n",
        " count = 0\n",
        " all_points = []\n",
        " file_frames = []\n",
        " #print(videoFile)\n",
        " l = slabel(videoFile)\n",
        " t = tlabel(videoFile)\n",
        "\n",
        " while success:\n",
        "    img_source = image\n",
        "    resized_image = cv2.resize(image, (28, 28))\n",
        "    #sgray = cv2.cvtColor(resized_image, cv2.COLOR_BGR2GRAY)\n",
        "    _,facial_landmarks = landmarks(img_source)\n",
        "    all_points.append(facial_landmarks)\n",
        "    file_frames.append(resized_image)\n",
        "    success,image = vidcap.read()\n",
        "    count += 1\n",
        "    \n",
        "    #print(\"l\".center(10,'-'),l)\n",
        " return([np.array(file_frames),np.array(all_points),l,t])\n",
        "\n",
        "def save_obj(obj, name ):\n",
        "    with open( name + '.pkl', 'wb') as f:\n",
        "        pickle.dump(obj, f, pickle.HIGHEST_PROTOCOL)\n",
        "\n",
        "def load_obj(name):\n",
        "    with open(name + '.pkl', 'rb') as f:\n",
        "        return pickle.load(f)"
      ],
      "execution_count": 0,
      "outputs": []
    },
    {
      "cell_type": "code",
      "metadata": {
        "id": "dI3zmyDpDbcR",
        "colab_type": "code",
        "outputId": "e9573069-f417-4b1e-d53f-9889921d807c",
        "colab": {
          "base_uri": "https://localhost:8080/",
          "height": 50
        }
      },
      "source": [
        "f = '/content/AudioVisualClip/KL/f3.avi'\n",
        "slabel(f)"
      ],
      "execution_count": 0,
      "outputs": [
        {
          "output_type": "stream",
          "text": [
            "f3.avi\n"
          ],
          "name": "stdout"
        },
        {
          "output_type": "execute_result",
          "data": {
            "text/plain": [
              "2"
            ]
          },
          "metadata": {
            "tags": []
          },
          "execution_count": 107
        }
      ]
    },
    {
      "cell_type": "code",
      "metadata": {
        "id": "_NpNDcnPGKdu",
        "colab_type": "code",
        "outputId": "07f5d5f5-86a8-4a47-a805-c3b88fa4fc1b",
        "colab": {
          "base_uri": "https://localhost:8080/",
          "height": 1000
        }
      },
      "source": [
        "SAVEE_data_training = []\n",
        "SAVEE_data_testing = []\n",
        "for file in tqdm(glob.glob('/content/AudioVisualClip/KL/*.avi')):\n",
        "  simage,point,label,t = vidtoframes(file)\n",
        "  #print(file)\n",
        "  #print(label)\n",
        "  #print('------------------')\n",
        "  if t == 0:\n",
        "    SAVEE_data_training.append([simage,point,label])\n",
        "  if t == 1:\n",
        "    SAVEE_data_testing.append([simage,point,label])"
      ],
      "execution_count": 0,
      "outputs": [
        {
          "output_type": "stream",
          "text": [
            "\n",
            "\n",
            "\n",
            "\n",
            "\n",
            "  0%|          | 0/120 [00:00<?, ?it/s]\u001b[A\u001b[A\u001b[A\u001b[A\u001b[A"
          ],
          "name": "stderr"
        },
        {
          "output_type": "stream",
          "text": [
            "n30.avi\n"
          ],
          "name": "stdout"
        },
        {
          "output_type": "stream",
          "text": [
            "\n",
            "\n",
            "\n",
            "\n",
            "\n",
            "  1%|          | 1/120 [00:03<06:29,  3.27s/it]\u001b[A\u001b[A\u001b[A\u001b[A\u001b[A"
          ],
          "name": "stderr"
        },
        {
          "output_type": "stream",
          "text": [
            "d12.avi\n"
          ],
          "name": "stdout"
        },
        {
          "output_type": "stream",
          "text": [
            "\n",
            "\n",
            "\n",
            "\n",
            "\n",
            "  2%|▏         | 2/120 [00:05<05:44,  2.92s/it]\u001b[A\u001b[A\u001b[A\u001b[A\u001b[A"
          ],
          "name": "stderr"
        },
        {
          "output_type": "stream",
          "text": [
            "sa15.avi\n"
          ],
          "name": "stdout"
        },
        {
          "output_type": "stream",
          "text": [
            "\n",
            "\n",
            "\n",
            "\n",
            "\n",
            "  2%|▎         | 3/120 [00:10<06:46,  3.48s/it]\u001b[A\u001b[A\u001b[A\u001b[A\u001b[A"
          ],
          "name": "stderr"
        },
        {
          "output_type": "stream",
          "text": [
            "a5.avi\n"
          ],
          "name": "stdout"
        },
        {
          "output_type": "stream",
          "text": [
            "\n",
            "\n",
            "\n",
            "\n",
            "\n",
            "  3%|▎         | 4/120 [00:12<06:17,  3.25s/it]\u001b[A\u001b[A\u001b[A\u001b[A\u001b[A"
          ],
          "name": "stderr"
        },
        {
          "output_type": "stream",
          "text": [
            "n26.avi\n"
          ],
          "name": "stdout"
        },
        {
          "output_type": "stream",
          "text": [
            "\n",
            "\n",
            "\n",
            "\n",
            "\n",
            "  4%|▍         | 5/120 [00:15<05:38,  2.94s/it]\u001b[A\u001b[A\u001b[A\u001b[A\u001b[A"
          ],
          "name": "stderr"
        },
        {
          "output_type": "stream",
          "text": [
            "n7.avi\n"
          ],
          "name": "stdout"
        },
        {
          "output_type": "stream",
          "text": [
            "\n",
            "\n",
            "\n",
            "\n",
            "\n",
            "  5%|▌         | 6/120 [00:18<05:52,  3.09s/it]\u001b[A\u001b[A\u001b[A\u001b[A\u001b[A"
          ],
          "name": "stderr"
        },
        {
          "output_type": "stream",
          "text": [
            "a8.avi\n"
          ],
          "name": "stdout"
        },
        {
          "output_type": "stream",
          "text": [
            "\n",
            "\n",
            "\n",
            "\n",
            "\n",
            "  6%|▌         | 7/120 [00:21<05:40,  3.02s/it]\u001b[A\u001b[A\u001b[A\u001b[A\u001b[A"
          ],
          "name": "stderr"
        },
        {
          "output_type": "stream",
          "text": [
            "h12.avi\n"
          ],
          "name": "stdout"
        },
        {
          "output_type": "stream",
          "text": [
            "\n",
            "\n",
            "\n",
            "\n",
            "\n",
            "  7%|▋         | 8/120 [00:25<06:23,  3.43s/it]\u001b[A\u001b[A\u001b[A\u001b[A\u001b[A"
          ],
          "name": "stderr"
        },
        {
          "output_type": "stream",
          "text": [
            "n22.avi\n"
          ],
          "name": "stdout"
        },
        {
          "output_type": "stream",
          "text": [
            "\n",
            "\n",
            "\n",
            "\n",
            "\n",
            "  8%|▊         | 9/120 [00:27<05:40,  3.07s/it]\u001b[A\u001b[A\u001b[A\u001b[A\u001b[A"
          ],
          "name": "stderr"
        },
        {
          "output_type": "stream",
          "text": [
            "n12.avi\n"
          ],
          "name": "stdout"
        },
        {
          "output_type": "stream",
          "text": [
            "\n",
            "\n",
            "\n",
            "\n",
            "\n",
            "  8%|▊         | 10/120 [00:30<05:15,  2.87s/it]\u001b[A\u001b[A\u001b[A\u001b[A\u001b[A"
          ],
          "name": "stderr"
        },
        {
          "output_type": "stream",
          "text": [
            "f13.avi\n"
          ],
          "name": "stdout"
        },
        {
          "output_type": "stream",
          "text": [
            "\n",
            "\n",
            "\n",
            "\n",
            "\n",
            "  9%|▉         | 11/120 [00:32<04:53,  2.70s/it]\u001b[A\u001b[A\u001b[A\u001b[A\u001b[A"
          ],
          "name": "stderr"
        },
        {
          "output_type": "stream",
          "text": [
            "h2.avi\n"
          ],
          "name": "stdout"
        },
        {
          "output_type": "stream",
          "text": [
            "\n",
            "\n",
            "\n",
            "\n",
            "\n",
            " 10%|█         | 12/120 [00:34<04:34,  2.54s/it]\u001b[A\u001b[A\u001b[A\u001b[A\u001b[A"
          ],
          "name": "stderr"
        },
        {
          "output_type": "stream",
          "text": [
            "f7.avi\n"
          ],
          "name": "stdout"
        },
        {
          "output_type": "stream",
          "text": [
            "\n",
            "\n",
            "\n",
            "\n",
            "\n",
            " 11%|█         | 13/120 [00:37<04:42,  2.64s/it]\u001b[A\u001b[A\u001b[A\u001b[A\u001b[A"
          ],
          "name": "stderr"
        },
        {
          "output_type": "stream",
          "text": [
            "n13.avi\n"
          ],
          "name": "stdout"
        },
        {
          "output_type": "stream",
          "text": [
            "\n",
            "\n",
            "\n",
            "\n",
            "\n",
            " 12%|█▏        | 14/120 [00:39<04:24,  2.50s/it]\u001b[A\u001b[A\u001b[A\u001b[A\u001b[A"
          ],
          "name": "stderr"
        },
        {
          "output_type": "stream",
          "text": [
            "su10.avi\n"
          ],
          "name": "stdout"
        },
        {
          "output_type": "stream",
          "text": [
            "\n",
            "\n",
            "\n",
            "\n",
            "\n",
            " 12%|█▎        | 15/120 [00:42<04:32,  2.60s/it]\u001b[A\u001b[A\u001b[A\u001b[A\u001b[A"
          ],
          "name": "stderr"
        },
        {
          "output_type": "stream",
          "text": [
            "n17.avi\n"
          ],
          "name": "stdout"
        },
        {
          "output_type": "stream",
          "text": [
            "\n",
            "\n",
            "\n",
            "\n",
            "\n",
            " 13%|█▎        | 16/120 [00:45<04:19,  2.50s/it]\u001b[A\u001b[A\u001b[A\u001b[A\u001b[A"
          ],
          "name": "stderr"
        },
        {
          "output_type": "stream",
          "text": [
            "sa1.avi\n"
          ],
          "name": "stdout"
        },
        {
          "output_type": "stream",
          "text": [
            "\n",
            "\n",
            "\n",
            "\n",
            "\n",
            " 14%|█▍        | 17/120 [00:48<04:44,  2.76s/it]\u001b[A\u001b[A\u001b[A\u001b[A\u001b[A"
          ],
          "name": "stderr"
        },
        {
          "output_type": "stream",
          "text": [
            "n10.avi\n"
          ],
          "name": "stdout"
        },
        {
          "output_type": "stream",
          "text": [
            "\n",
            "\n",
            "\n",
            "\n",
            "\n",
            " 15%|█▌        | 18/120 [00:51<04:50,  2.85s/it]\u001b[A\u001b[A\u001b[A\u001b[A\u001b[A"
          ],
          "name": "stderr"
        },
        {
          "output_type": "stream",
          "text": [
            "d8.avi\n"
          ],
          "name": "stdout"
        },
        {
          "output_type": "stream",
          "text": [
            "\n",
            "\n",
            "\n",
            "\n",
            "\n",
            " 16%|█▌        | 19/120 [00:54<04:49,  2.87s/it]\u001b[A\u001b[A\u001b[A\u001b[A\u001b[A"
          ],
          "name": "stderr"
        },
        {
          "output_type": "stream",
          "text": [
            "d6.avi\n"
          ],
          "name": "stdout"
        },
        {
          "output_type": "stream",
          "text": [
            "\n",
            "\n",
            "\n",
            "\n",
            "\n",
            " 17%|█▋        | 20/120 [00:56<04:35,  2.76s/it]\u001b[A\u001b[A\u001b[A\u001b[A\u001b[A"
          ],
          "name": "stderr"
        },
        {
          "output_type": "stream",
          "text": [
            "f5.avi\n"
          ],
          "name": "stdout"
        },
        {
          "output_type": "stream",
          "text": [
            "\n",
            "\n",
            "\n",
            "\n",
            "\n",
            " 18%|█▊        | 21/120 [00:59<04:38,  2.81s/it]\u001b[A\u001b[A\u001b[A\u001b[A\u001b[A"
          ],
          "name": "stderr"
        },
        {
          "output_type": "stream",
          "text": [
            "su3.avi\n"
          ],
          "name": "stdout"
        },
        {
          "output_type": "stream",
          "text": [
            "\n",
            "\n",
            "\n",
            "\n",
            "\n",
            " 18%|█▊        | 22/120 [01:01<03:58,  2.44s/it]\u001b[A\u001b[A\u001b[A\u001b[A\u001b[A"
          ],
          "name": "stderr"
        },
        {
          "output_type": "stream",
          "text": [
            "a1.avi\n"
          ],
          "name": "stdout"
        },
        {
          "output_type": "stream",
          "text": [
            "\n",
            "\n",
            "\n",
            "\n",
            "\n",
            " 19%|█▉        | 23/120 [01:04<04:29,  2.78s/it]\u001b[A\u001b[A\u001b[A\u001b[A\u001b[A"
          ],
          "name": "stderr"
        },
        {
          "output_type": "stream",
          "text": [
            "su2.avi\n"
          ],
          "name": "stdout"
        },
        {
          "output_type": "stream",
          "text": [
            "\n",
            "\n",
            "\n",
            "\n",
            "\n",
            " 20%|██        | 24/120 [01:07<04:22,  2.74s/it]\u001b[A\u001b[A\u001b[A\u001b[A\u001b[A"
          ],
          "name": "stderr"
        },
        {
          "output_type": "stream",
          "text": [
            "su8.avi\n"
          ],
          "name": "stdout"
        },
        {
          "output_type": "stream",
          "text": [
            "\n",
            "\n",
            "\n",
            "\n",
            "\n",
            " 21%|██        | 25/120 [01:10<04:33,  2.88s/it]\u001b[A\u001b[A\u001b[A\u001b[A\u001b[A"
          ],
          "name": "stderr"
        },
        {
          "output_type": "stream",
          "text": [
            "a3.avi\n"
          ],
          "name": "stdout"
        },
        {
          "output_type": "stream",
          "text": [
            "\n",
            "\n",
            "\n",
            "\n",
            "\n",
            " 22%|██▏       | 26/120 [01:12<03:53,  2.49s/it]\u001b[A\u001b[A\u001b[A\u001b[A\u001b[A"
          ],
          "name": "stderr"
        },
        {
          "output_type": "stream",
          "text": [
            "n20.avi\n"
          ],
          "name": "stdout"
        },
        {
          "output_type": "stream",
          "text": [
            "\n",
            "\n",
            "\n",
            "\n",
            "\n",
            " 22%|██▎       | 27/120 [01:14<03:52,  2.50s/it]\u001b[A\u001b[A\u001b[A\u001b[A\u001b[A"
          ],
          "name": "stderr"
        },
        {
          "output_type": "stream",
          "text": [
            "n14.avi\n"
          ],
          "name": "stdout"
        },
        {
          "output_type": "stream",
          "text": [
            "\n",
            "\n",
            "\n",
            "\n",
            "\n",
            " 23%|██▎       | 28/120 [01:19<04:44,  3.09s/it]\u001b[A\u001b[A\u001b[A\u001b[A\u001b[A"
          ],
          "name": "stderr"
        },
        {
          "output_type": "stream",
          "text": [
            "h9.avi\n"
          ],
          "name": "stdout"
        },
        {
          "output_type": "stream",
          "text": [
            "\n",
            "\n",
            "\n",
            "\n",
            "\n",
            " 24%|██▍       | 29/120 [01:22<04:31,  2.98s/it]\u001b[A\u001b[A\u001b[A\u001b[A\u001b[A"
          ],
          "name": "stderr"
        },
        {
          "output_type": "stream",
          "text": [
            "su9.avi\n"
          ],
          "name": "stdout"
        },
        {
          "output_type": "stream",
          "text": [
            "\n",
            "\n",
            "\n",
            "\n",
            "\n",
            " 25%|██▌       | 30/120 [01:24<04:14,  2.83s/it]\u001b[A\u001b[A\u001b[A\u001b[A\u001b[A"
          ],
          "name": "stderr"
        },
        {
          "output_type": "stream",
          "text": [
            "a6.avi\n"
          ],
          "name": "stdout"
        },
        {
          "output_type": "stream",
          "text": [
            "\n",
            "\n",
            "\n",
            "\n",
            "\n",
            " 26%|██▌       | 31/120 [01:27<04:08,  2.79s/it]\u001b[A\u001b[A\u001b[A\u001b[A\u001b[A"
          ],
          "name": "stderr"
        },
        {
          "output_type": "stream",
          "text": [
            "d14.avi\n"
          ],
          "name": "stdout"
        },
        {
          "output_type": "stream",
          "text": [
            "\n",
            "\n",
            "\n",
            "\n",
            "\n",
            " 27%|██▋       | 32/120 [01:31<04:38,  3.17s/it]\u001b[A\u001b[A\u001b[A\u001b[A\u001b[A"
          ],
          "name": "stderr"
        },
        {
          "output_type": "stream",
          "text": [
            "sa7.avi\n"
          ],
          "name": "stdout"
        },
        {
          "output_type": "stream",
          "text": [
            "\n",
            "\n",
            "\n",
            "\n",
            "\n",
            " 28%|██▊       | 33/120 [01:33<04:04,  2.82s/it]\u001b[A\u001b[A\u001b[A\u001b[A\u001b[A"
          ],
          "name": "stderr"
        },
        {
          "output_type": "stream",
          "text": [
            "d7.avi\n"
          ],
          "name": "stdout"
        },
        {
          "output_type": "stream",
          "text": [
            "\n",
            "\n",
            "\n",
            "\n",
            "\n",
            " 28%|██▊       | 34/120 [01:35<03:34,  2.49s/it]\u001b[A\u001b[A\u001b[A\u001b[A\u001b[A"
          ],
          "name": "stderr"
        },
        {
          "output_type": "stream",
          "text": [
            "su5.avi\n"
          ],
          "name": "stdout"
        },
        {
          "output_type": "stream",
          "text": [
            "\n",
            "\n",
            "\n",
            "\n",
            "\n",
            " 29%|██▉       | 35/120 [01:37<03:26,  2.43s/it]\u001b[A\u001b[A\u001b[A\u001b[A\u001b[A"
          ],
          "name": "stderr"
        },
        {
          "output_type": "stream",
          "text": [
            "sa11.avi\n"
          ],
          "name": "stdout"
        },
        {
          "output_type": "stream",
          "text": [
            "\n",
            "\n",
            "\n",
            "\n",
            "\n",
            " 30%|███       | 36/120 [01:42<04:28,  3.20s/it]\u001b[A\u001b[A\u001b[A\u001b[A\u001b[A"
          ],
          "name": "stderr"
        },
        {
          "output_type": "stream",
          "text": [
            "h4.avi\n"
          ],
          "name": "stdout"
        },
        {
          "output_type": "stream",
          "text": [
            "\n",
            "\n",
            "\n",
            "\n",
            "\n",
            " 31%|███       | 37/120 [01:44<04:05,  2.96s/it]\u001b[A\u001b[A\u001b[A\u001b[A\u001b[A"
          ],
          "name": "stderr"
        },
        {
          "output_type": "stream",
          "text": [
            "h14.avi\n"
          ],
          "name": "stdout"
        },
        {
          "output_type": "stream",
          "text": [
            "\n",
            "\n",
            "\n",
            "\n",
            "\n",
            " 32%|███▏      | 38/120 [01:48<04:31,  3.31s/it]\u001b[A\u001b[A\u001b[A\u001b[A\u001b[A"
          ],
          "name": "stderr"
        },
        {
          "output_type": "stream",
          "text": [
            "n2.avi\n"
          ],
          "name": "stdout"
        },
        {
          "output_type": "stream",
          "text": [
            "\n",
            "\n",
            "\n",
            "\n",
            "\n",
            " 32%|███▎      | 39/120 [01:51<04:02,  2.99s/it]\u001b[A\u001b[A\u001b[A\u001b[A\u001b[A"
          ],
          "name": "stderr"
        },
        {
          "output_type": "stream",
          "text": [
            "h6.avi\n"
          ],
          "name": "stdout"
        },
        {
          "output_type": "stream",
          "text": [
            "\n",
            "\n",
            "\n",
            "\n",
            "\n",
            " 33%|███▎      | 40/120 [01:53<03:52,  2.91s/it]\u001b[A\u001b[A\u001b[A\u001b[A\u001b[A"
          ],
          "name": "stderr"
        },
        {
          "output_type": "stream",
          "text": [
            "sa6.avi\n"
          ],
          "name": "stdout"
        },
        {
          "output_type": "stream",
          "text": [
            "\n",
            "\n",
            "\n",
            "\n",
            "\n",
            " 34%|███▍      | 41/120 [01:56<03:54,  2.97s/it]\u001b[A\u001b[A\u001b[A\u001b[A\u001b[A"
          ],
          "name": "stderr"
        },
        {
          "output_type": "stream",
          "text": [
            "n21.avi\n"
          ],
          "name": "stdout"
        },
        {
          "output_type": "stream",
          "text": [
            "\n",
            "\n",
            "\n",
            "\n",
            "\n",
            " 35%|███▌      | 42/120 [01:59<03:51,  2.96s/it]\u001b[A\u001b[A\u001b[A\u001b[A\u001b[A"
          ],
          "name": "stderr"
        },
        {
          "output_type": "stream",
          "text": [
            "a12.avi\n"
          ],
          "name": "stdout"
        },
        {
          "output_type": "stream",
          "text": [
            "\n",
            "\n",
            "\n",
            "\n",
            "\n",
            " 36%|███▌      | 43/120 [02:02<03:42,  2.89s/it]\u001b[A\u001b[A\u001b[A\u001b[A\u001b[A"
          ],
          "name": "stderr"
        },
        {
          "output_type": "stream",
          "text": [
            "f4.avi\n"
          ],
          "name": "stdout"
        },
        {
          "output_type": "stream",
          "text": [
            "\n",
            "\n",
            "\n",
            "\n",
            "\n",
            " 37%|███▋      | 44/120 [02:05<03:33,  2.81s/it]\u001b[A\u001b[A\u001b[A\u001b[A\u001b[A"
          ],
          "name": "stderr"
        },
        {
          "output_type": "stream",
          "text": [
            "h10.avi\n"
          ],
          "name": "stdout"
        },
        {
          "output_type": "stream",
          "text": [
            "\n",
            "\n",
            "\n",
            "\n",
            "\n",
            " 38%|███▊      | 45/120 [02:07<03:23,  2.72s/it]\u001b[A\u001b[A\u001b[A\u001b[A\u001b[A"
          ],
          "name": "stderr"
        },
        {
          "output_type": "stream",
          "text": [
            "f2.avi\n"
          ],
          "name": "stdout"
        },
        {
          "output_type": "stream",
          "text": [
            "\n",
            "\n",
            "\n",
            "\n",
            "\n",
            " 38%|███▊      | 46/120 [02:10<03:14,  2.63s/it]\u001b[A\u001b[A\u001b[A\u001b[A\u001b[A"
          ],
          "name": "stderr"
        },
        {
          "output_type": "stream",
          "text": [
            "su11.avi\n"
          ],
          "name": "stdout"
        },
        {
          "output_type": "stream",
          "text": [
            "\n",
            "\n",
            "\n",
            "\n",
            "\n",
            " 39%|███▉      | 47/120 [02:12<02:56,  2.42s/it]\u001b[A\u001b[A\u001b[A\u001b[A\u001b[A"
          ],
          "name": "stderr"
        },
        {
          "output_type": "stream",
          "text": [
            "n28.avi\n"
          ],
          "name": "stdout"
        },
        {
          "output_type": "stream",
          "text": [
            "\n",
            "\n",
            "\n",
            "\n",
            "\n",
            " 40%|████      | 48/120 [02:15<03:16,  2.72s/it]\u001b[A\u001b[A\u001b[A\u001b[A\u001b[A"
          ],
          "name": "stderr"
        },
        {
          "output_type": "stream",
          "text": [
            "h5.avi\n"
          ],
          "name": "stdout"
        },
        {
          "output_type": "stream",
          "text": [
            "\n",
            "\n",
            "\n",
            "\n",
            "\n",
            " 41%|████      | 49/120 [02:18<03:20,  2.83s/it]\u001b[A\u001b[A\u001b[A\u001b[A\u001b[A"
          ],
          "name": "stderr"
        },
        {
          "output_type": "stream",
          "text": [
            "h13.avi\n"
          ],
          "name": "stdout"
        },
        {
          "output_type": "stream",
          "text": [
            "\n",
            "\n",
            "\n",
            "\n",
            "\n",
            " 42%|████▏     | 50/120 [02:20<03:03,  2.62s/it]\u001b[A\u001b[A\u001b[A\u001b[A\u001b[A"
          ],
          "name": "stderr"
        },
        {
          "output_type": "stream",
          "text": [
            "d15.avi\n"
          ],
          "name": "stdout"
        },
        {
          "output_type": "stream",
          "text": [
            "\n",
            "\n",
            "\n",
            "\n",
            "\n",
            " 42%|████▎     | 51/120 [02:25<03:48,  3.31s/it]\u001b[A\u001b[A\u001b[A\u001b[A\u001b[A"
          ],
          "name": "stderr"
        },
        {
          "output_type": "stream",
          "text": [
            "d5.avi\n"
          ],
          "name": "stdout"
        },
        {
          "output_type": "stream",
          "text": [
            "\n",
            "\n",
            "\n",
            "\n",
            "\n",
            " 43%|████▎     | 52/120 [02:28<03:32,  3.12s/it]\u001b[A\u001b[A\u001b[A\u001b[A\u001b[A"
          ],
          "name": "stderr"
        },
        {
          "output_type": "stream",
          "text": [
            "f1.avi\n"
          ],
          "name": "stdout"
        },
        {
          "output_type": "stream",
          "text": [
            "\n",
            "\n",
            "\n",
            "\n",
            "\n",
            " 44%|████▍     | 53/120 [02:31<03:38,  3.26s/it]\u001b[A\u001b[A\u001b[A\u001b[A\u001b[A"
          ],
          "name": "stderr"
        },
        {
          "output_type": "stream",
          "text": [
            "n19.avi\n"
          ],
          "name": "stdout"
        },
        {
          "output_type": "stream",
          "text": [
            "\n",
            "\n",
            "\n",
            "\n",
            "\n",
            " 45%|████▌     | 54/120 [02:34<03:20,  3.04s/it]\u001b[A\u001b[A\u001b[A\u001b[A\u001b[A"
          ],
          "name": "stderr"
        },
        {
          "output_type": "stream",
          "text": [
            "n27.avi\n"
          ],
          "name": "stdout"
        },
        {
          "output_type": "stream",
          "text": [
            "\n",
            "\n",
            "\n",
            "\n",
            "\n",
            " 46%|████▌     | 55/120 [02:38<03:31,  3.25s/it]\u001b[A\u001b[A\u001b[A\u001b[A\u001b[A"
          ],
          "name": "stderr"
        },
        {
          "output_type": "stream",
          "text": [
            "sa10.avi\n"
          ],
          "name": "stdout"
        },
        {
          "output_type": "stream",
          "text": [
            "\n",
            "\n",
            "\n",
            "\n",
            "\n",
            " 47%|████▋     | 56/120 [02:41<03:37,  3.39s/it]\u001b[A\u001b[A\u001b[A\u001b[A\u001b[A"
          ],
          "name": "stderr"
        },
        {
          "output_type": "stream",
          "text": [
            "su1.avi\n"
          ],
          "name": "stdout"
        },
        {
          "output_type": "stream",
          "text": [
            "\n",
            "\n",
            "\n",
            "\n",
            "\n",
            " 48%|████▊     | 57/120 [02:45<03:30,  3.35s/it]\u001b[A\u001b[A\u001b[A\u001b[A\u001b[A"
          ],
          "name": "stderr"
        },
        {
          "output_type": "stream",
          "text": [
            "f12.avi\n"
          ],
          "name": "stdout"
        },
        {
          "output_type": "stream",
          "text": [
            "\n",
            "\n",
            "\n",
            "\n",
            "\n",
            " 48%|████▊     | 58/120 [02:49<03:41,  3.58s/it]\u001b[A\u001b[A\u001b[A\u001b[A\u001b[A"
          ],
          "name": "stderr"
        },
        {
          "output_type": "stream",
          "text": [
            "n15.avi\n"
          ],
          "name": "stdout"
        },
        {
          "output_type": "stream",
          "text": [
            "\n",
            "\n",
            "\n",
            "\n",
            "\n",
            " 49%|████▉     | 59/120 [02:53<03:41,  3.64s/it]\u001b[A\u001b[A\u001b[A\u001b[A\u001b[A"
          ],
          "name": "stderr"
        },
        {
          "output_type": "stream",
          "text": [
            "h1.avi\n"
          ],
          "name": "stdout"
        },
        {
          "output_type": "stream",
          "text": [
            "\n",
            "\n",
            "\n",
            "\n",
            "\n",
            " 50%|█████     | 60/120 [02:56<03:31,  3.52s/it]\u001b[A\u001b[A\u001b[A\u001b[A\u001b[A"
          ],
          "name": "stderr"
        },
        {
          "output_type": "stream",
          "text": [
            "f10.avi\n"
          ],
          "name": "stdout"
        },
        {
          "output_type": "stream",
          "text": [
            "\n",
            "\n",
            "\n",
            "\n",
            "\n",
            " 51%|█████     | 61/120 [02:58<03:03,  3.11s/it]\u001b[A\u001b[A\u001b[A\u001b[A\u001b[A"
          ],
          "name": "stderr"
        },
        {
          "output_type": "stream",
          "text": [
            "n18.avi\n"
          ],
          "name": "stdout"
        },
        {
          "output_type": "stream",
          "text": [
            "\n",
            "\n",
            "\n",
            "\n",
            "\n",
            " 52%|█████▏    | 62/120 [03:00<02:35,  2.68s/it]\u001b[A\u001b[A\u001b[A\u001b[A\u001b[A"
          ],
          "name": "stderr"
        },
        {
          "output_type": "stream",
          "text": [
            "sa4.avi\n"
          ],
          "name": "stdout"
        },
        {
          "output_type": "stream",
          "text": [
            "\n",
            "\n",
            "\n",
            "\n",
            "\n",
            " 52%|█████▎    | 63/120 [03:04<02:59,  3.14s/it]\u001b[A\u001b[A\u001b[A\u001b[A\u001b[A"
          ],
          "name": "stderr"
        },
        {
          "output_type": "stream",
          "text": [
            "a9.avi\n"
          ],
          "name": "stdout"
        },
        {
          "output_type": "stream",
          "text": [
            "\n",
            "\n",
            "\n",
            "\n",
            "\n",
            " 53%|█████▎    | 64/120 [03:07<02:53,  3.10s/it]\u001b[A\u001b[A\u001b[A\u001b[A\u001b[A"
          ],
          "name": "stderr"
        },
        {
          "output_type": "stream",
          "text": [
            "n5.avi\n"
          ],
          "name": "stdout"
        },
        {
          "output_type": "stream",
          "text": [
            "\n",
            "\n",
            "\n",
            "\n",
            "\n",
            " 54%|█████▍    | 65/120 [03:09<02:38,  2.88s/it]\u001b[A\u001b[A\u001b[A\u001b[A\u001b[A"
          ],
          "name": "stderr"
        },
        {
          "output_type": "stream",
          "text": [
            "d11.avi\n"
          ],
          "name": "stdout"
        },
        {
          "output_type": "stream",
          "text": [
            "\n",
            "\n",
            "\n",
            "\n",
            "\n",
            " 55%|█████▌    | 66/120 [03:12<02:34,  2.87s/it]\u001b[A\u001b[A\u001b[A\u001b[A\u001b[A"
          ],
          "name": "stderr"
        },
        {
          "output_type": "stream",
          "text": [
            "n11.avi\n"
          ],
          "name": "stdout"
        },
        {
          "output_type": "stream",
          "text": [
            "\n",
            "\n",
            "\n",
            "\n",
            "\n",
            " 56%|█████▌    | 67/120 [03:17<03:03,  3.46s/it]\u001b[A\u001b[A\u001b[A\u001b[A\u001b[A"
          ],
          "name": "stderr"
        },
        {
          "output_type": "stream",
          "text": [
            "h8.avi\n"
          ],
          "name": "stdout"
        },
        {
          "output_type": "stream",
          "text": [
            "\n",
            "\n",
            "\n",
            "\n",
            "\n",
            " 57%|█████▋    | 68/120 [03:19<02:36,  3.00s/it]\u001b[A\u001b[A\u001b[A\u001b[A\u001b[A"
          ],
          "name": "stderr"
        },
        {
          "output_type": "stream",
          "text": [
            "d3.avi\n"
          ],
          "name": "stdout"
        },
        {
          "output_type": "stream",
          "text": [
            "\n",
            "\n",
            "\n",
            "\n",
            "\n",
            " 57%|█████▊    | 69/120 [03:20<02:12,  2.61s/it]\u001b[A\u001b[A\u001b[A\u001b[A\u001b[A"
          ],
          "name": "stderr"
        },
        {
          "output_type": "stream",
          "text": [
            "n9.avi\n"
          ],
          "name": "stdout"
        },
        {
          "output_type": "stream",
          "text": [
            "\n",
            "\n",
            "\n",
            "\n",
            "\n",
            " 58%|█████▊    | 70/120 [03:24<02:16,  2.73s/it]\u001b[A\u001b[A\u001b[A\u001b[A\u001b[A"
          ],
          "name": "stderr"
        },
        {
          "output_type": "stream",
          "text": [
            "a13.avi\n"
          ],
          "name": "stdout"
        },
        {
          "output_type": "stream",
          "text": [
            "\n",
            "\n",
            "\n",
            "\n",
            "\n",
            " 59%|█████▉    | 71/120 [03:28<02:34,  3.16s/it]\u001b[A\u001b[A\u001b[A\u001b[A\u001b[A"
          ],
          "name": "stderr"
        },
        {
          "output_type": "stream",
          "text": [
            "su7.avi\n"
          ],
          "name": "stdout"
        },
        {
          "output_type": "stream",
          "text": [
            "\n",
            "\n",
            "\n",
            "\n",
            "\n",
            " 60%|██████    | 72/120 [03:30<02:24,  3.01s/it]\u001b[A\u001b[A\u001b[A\u001b[A\u001b[A"
          ],
          "name": "stderr"
        },
        {
          "output_type": "stream",
          "text": [
            "a10.avi\n"
          ],
          "name": "stdout"
        },
        {
          "output_type": "stream",
          "text": [
            "\n",
            "\n",
            "\n",
            "\n",
            "\n",
            " 61%|██████    | 73/120 [03:34<02:28,  3.15s/it]\u001b[A\u001b[A\u001b[A\u001b[A\u001b[A"
          ],
          "name": "stderr"
        },
        {
          "output_type": "stream",
          "text": [
            "f8.avi\n"
          ],
          "name": "stdout"
        },
        {
          "output_type": "stream",
          "text": [
            "\n",
            "\n",
            "\n",
            "\n",
            "\n",
            " 62%|██████▏   | 74/120 [03:37<02:31,  3.29s/it]\u001b[A\u001b[A\u001b[A\u001b[A\u001b[A"
          ],
          "name": "stderr"
        },
        {
          "output_type": "stream",
          "text": [
            "su4.avi\n"
          ],
          "name": "stdout"
        },
        {
          "output_type": "stream",
          "text": [
            "\n",
            "\n",
            "\n",
            "\n",
            "\n",
            " 62%|██████▎   | 75/120 [03:40<02:21,  3.15s/it]\u001b[A\u001b[A\u001b[A\u001b[A\u001b[A"
          ],
          "name": "stderr"
        },
        {
          "output_type": "stream",
          "text": [
            "sa9.avi\n"
          ],
          "name": "stdout"
        },
        {
          "output_type": "stream",
          "text": [
            "\n",
            "\n",
            "\n",
            "\n",
            "\n",
            " 63%|██████▎   | 76/120 [03:43<02:07,  2.91s/it]\u001b[A\u001b[A\u001b[A\u001b[A\u001b[A"
          ],
          "name": "stderr"
        },
        {
          "output_type": "stream",
          "text": [
            "su15.avi\n"
          ],
          "name": "stdout"
        },
        {
          "output_type": "stream",
          "text": [
            "\n",
            "\n",
            "\n",
            "\n",
            "\n",
            " 64%|██████▍   | 77/120 [03:48<02:37,  3.67s/it]\u001b[A\u001b[A\u001b[A\u001b[A\u001b[A"
          ],
          "name": "stderr"
        },
        {
          "output_type": "stream",
          "text": [
            "d2.avi\n"
          ],
          "name": "stdout"
        },
        {
          "output_type": "stream",
          "text": [
            "\n",
            "\n",
            "\n",
            "\n",
            "\n",
            " 65%|██████▌   | 78/120 [03:51<02:20,  3.34s/it]\u001b[A\u001b[A\u001b[A\u001b[A\u001b[A"
          ],
          "name": "stderr"
        },
        {
          "output_type": "stream",
          "text": [
            "a14.avi\n"
          ],
          "name": "stdout"
        },
        {
          "output_type": "stream",
          "text": [
            "\n",
            "\n",
            "\n",
            "\n",
            "\n",
            " 66%|██████▌   | 79/120 [03:55<02:30,  3.66s/it]\u001b[A\u001b[A\u001b[A\u001b[A\u001b[A"
          ],
          "name": "stderr"
        },
        {
          "output_type": "stream",
          "text": [
            "d4.avi\n"
          ],
          "name": "stdout"
        },
        {
          "output_type": "stream",
          "text": [
            "\n",
            "\n",
            "\n",
            "\n",
            "\n",
            " 67%|██████▋   | 80/120 [03:58<02:19,  3.50s/it]\u001b[A\u001b[A\u001b[A\u001b[A\u001b[A"
          ],
          "name": "stderr"
        },
        {
          "output_type": "stream",
          "text": [
            "f11.avi\n"
          ],
          "name": "stdout"
        },
        {
          "output_type": "stream",
          "text": [
            "\n",
            "\n",
            "\n",
            "\n",
            "\n",
            " 68%|██████▊   | 81/120 [04:02<02:22,  3.64s/it]\u001b[A\u001b[A\u001b[A\u001b[A\u001b[A"
          ],
          "name": "stderr"
        },
        {
          "output_type": "stream",
          "text": [
            "h3.avi\n"
          ],
          "name": "stdout"
        },
        {
          "output_type": "stream",
          "text": [
            "\n",
            "\n",
            "\n",
            "\n",
            "\n",
            " 68%|██████▊   | 82/120 [04:04<01:53,  3.00s/it]\u001b[A\u001b[A\u001b[A\u001b[A\u001b[A"
          ],
          "name": "stderr"
        },
        {
          "output_type": "stream",
          "text": [
            "n8.avi\n"
          ],
          "name": "stdout"
        },
        {
          "output_type": "stream",
          "text": [
            "\n",
            "\n",
            "\n",
            "\n",
            "\n",
            " 69%|██████▉   | 83/120 [04:07<01:50,  2.98s/it]\u001b[A\u001b[A\u001b[A\u001b[A\u001b[A"
          ],
          "name": "stderr"
        },
        {
          "output_type": "stream",
          "text": [
            "n1.avi\n"
          ],
          "name": "stdout"
        },
        {
          "output_type": "stream",
          "text": [
            "\n",
            "\n",
            "\n",
            "\n",
            "\n",
            " 70%|███████   | 84/120 [04:10<01:49,  3.05s/it]\u001b[A\u001b[A\u001b[A\u001b[A\u001b[A"
          ],
          "name": "stderr"
        },
        {
          "output_type": "stream",
          "text": [
            "n29.avi\n"
          ],
          "name": "stdout"
        },
        {
          "output_type": "stream",
          "text": [
            "\n",
            "\n",
            "\n",
            "\n",
            "\n",
            " 71%|███████   | 85/120 [04:12<01:40,  2.88s/it]\u001b[A\u001b[A\u001b[A\u001b[A\u001b[A"
          ],
          "name": "stderr"
        },
        {
          "output_type": "stream",
          "text": [
            "n3.avi\n"
          ],
          "name": "stdout"
        },
        {
          "output_type": "stream",
          "text": [
            "\n",
            "\n",
            "\n",
            "\n",
            "\n",
            " 72%|███████▏  | 86/120 [04:14<01:23,  2.46s/it]\u001b[A\u001b[A\u001b[A\u001b[A\u001b[A"
          ],
          "name": "stderr"
        },
        {
          "output_type": "stream",
          "text": [
            "f3.avi\n"
          ],
          "name": "stdout"
        },
        {
          "output_type": "stream",
          "text": [
            "\n",
            "\n",
            "\n",
            "\n",
            "\n",
            " 72%|███████▎  | 87/120 [04:15<01:12,  2.21s/it]\u001b[A\u001b[A\u001b[A\u001b[A\u001b[A"
          ],
          "name": "stderr"
        },
        {
          "output_type": "stream",
          "text": [
            "sa13.avi\n"
          ],
          "name": "stdout"
        },
        {
          "output_type": "stream",
          "text": [
            "\n",
            "\n",
            "\n",
            "\n",
            "\n",
            " 73%|███████▎  | 88/120 [04:20<01:34,  2.94s/it]\u001b[A\u001b[A\u001b[A\u001b[A\u001b[A"
          ],
          "name": "stderr"
        },
        {
          "output_type": "stream",
          "text": [
            "a4.avi\n"
          ],
          "name": "stdout"
        },
        {
          "output_type": "stream",
          "text": [
            "\n",
            "\n",
            "\n",
            "\n",
            "\n",
            " 74%|███████▍  | 89/120 [04:22<01:26,  2.80s/it]\u001b[A\u001b[A\u001b[A\u001b[A\u001b[A"
          ],
          "name": "stderr"
        },
        {
          "output_type": "stream",
          "text": [
            "su12.avi\n"
          ],
          "name": "stdout"
        },
        {
          "output_type": "stream",
          "text": [
            "\n",
            "\n",
            "\n",
            "\n",
            "\n",
            " 75%|███████▌  | 90/120 [04:26<01:31,  3.06s/it]\u001b[A\u001b[A\u001b[A\u001b[A\u001b[A"
          ],
          "name": "stderr"
        },
        {
          "output_type": "stream",
          "text": [
            "h15.avi\n"
          ],
          "name": "stdout"
        },
        {
          "output_type": "stream",
          "text": [
            "\n",
            "\n",
            "\n",
            "\n",
            "\n",
            " 76%|███████▌  | 91/120 [04:31<01:43,  3.58s/it]\u001b[A\u001b[A\u001b[A\u001b[A\u001b[A"
          ],
          "name": "stderr"
        },
        {
          "output_type": "stream",
          "text": [
            "a2.avi\n"
          ],
          "name": "stdout"
        },
        {
          "output_type": "stream",
          "text": [
            "\n",
            "\n",
            "\n",
            "\n",
            "\n",
            " 77%|███████▋  | 92/120 [04:33<01:28,  3.17s/it]\u001b[A\u001b[A\u001b[A\u001b[A\u001b[A"
          ],
          "name": "stderr"
        },
        {
          "output_type": "stream",
          "text": [
            "n24.avi\n"
          ],
          "name": "stdout"
        },
        {
          "output_type": "stream",
          "text": [
            "\n",
            "\n",
            "\n",
            "\n",
            "\n",
            " 78%|███████▊  | 93/120 [04:36<01:21,  3.01s/it]\u001b[A\u001b[A\u001b[A\u001b[A\u001b[A"
          ],
          "name": "stderr"
        },
        {
          "output_type": "stream",
          "text": [
            "a15.avi\n"
          ],
          "name": "stdout"
        },
        {
          "output_type": "stream",
          "text": [
            "\n",
            "\n",
            "\n",
            "\n",
            "\n",
            " 78%|███████▊  | 94/120 [04:39<01:22,  3.17s/it]\u001b[A\u001b[A\u001b[A\u001b[A\u001b[A"
          ],
          "name": "stderr"
        },
        {
          "output_type": "stream",
          "text": [
            "sa8.avi\n"
          ],
          "name": "stdout"
        },
        {
          "output_type": "stream",
          "text": [
            "\n",
            "\n",
            "\n",
            "\n",
            "\n",
            " 79%|███████▉  | 95/120 [04:42<01:13,  2.95s/it]\u001b[A\u001b[A\u001b[A\u001b[A\u001b[A"
          ],
          "name": "stderr"
        },
        {
          "output_type": "stream",
          "text": [
            "f6.avi\n"
          ],
          "name": "stdout"
        },
        {
          "output_type": "stream",
          "text": [
            "\n",
            "\n",
            "\n",
            "\n",
            "\n",
            " 80%|████████  | 96/120 [04:44<01:06,  2.75s/it]\u001b[A\u001b[A\u001b[A\u001b[A\u001b[A"
          ],
          "name": "stderr"
        },
        {
          "output_type": "stream",
          "text": [
            "f14.avi\n"
          ],
          "name": "stdout"
        },
        {
          "output_type": "stream",
          "text": [
            "\n",
            "\n",
            "\n",
            "\n",
            "\n",
            " 81%|████████  | 97/120 [04:48<01:08,  2.99s/it]\u001b[A\u001b[A\u001b[A\u001b[A\u001b[A"
          ],
          "name": "stderr"
        },
        {
          "output_type": "stream",
          "text": [
            "n25.avi\n"
          ],
          "name": "stdout"
        },
        {
          "output_type": "stream",
          "text": [
            "\n",
            "\n",
            "\n",
            "\n",
            "\n",
            " 82%|████████▏ | 98/120 [04:50<01:04,  2.94s/it]\u001b[A\u001b[A\u001b[A\u001b[A\u001b[A"
          ],
          "name": "stderr"
        },
        {
          "output_type": "stream",
          "text": [
            "d9.avi\n"
          ],
          "name": "stdout"
        },
        {
          "output_type": "stream",
          "text": [
            "\n",
            "\n",
            "\n",
            "\n",
            "\n",
            " 82%|████████▎ | 99/120 [04:54<01:04,  3.09s/it]\u001b[A\u001b[A\u001b[A\u001b[A\u001b[A"
          ],
          "name": "stderr"
        },
        {
          "output_type": "stream",
          "text": [
            "sa5.avi\n"
          ],
          "name": "stdout"
        },
        {
          "output_type": "stream",
          "text": [
            "\n",
            "\n",
            "\n",
            "\n",
            "\n",
            " 83%|████████▎ | 100/120 [04:58<01:06,  3.31s/it]\u001b[A\u001b[A\u001b[A\u001b[A\u001b[A"
          ],
          "name": "stderr"
        },
        {
          "output_type": "stream",
          "text": [
            "su14.avi\n"
          ],
          "name": "stdout"
        },
        {
          "output_type": "stream",
          "text": [
            "\n",
            "\n",
            "\n",
            "\n",
            "\n",
            " 84%|████████▍ | 101/120 [05:03<01:11,  3.77s/it]\u001b[A\u001b[A\u001b[A\u001b[A\u001b[A"
          ],
          "name": "stderr"
        },
        {
          "output_type": "stream",
          "text": [
            "f15.avi\n"
          ],
          "name": "stdout"
        },
        {
          "output_type": "stream",
          "text": [
            "\n",
            "\n",
            "\n",
            "\n",
            "\n",
            " 85%|████████▌ | 102/120 [05:07<01:10,  3.93s/it]\u001b[A\u001b[A\u001b[A\u001b[A\u001b[A"
          ],
          "name": "stderr"
        },
        {
          "output_type": "stream",
          "text": [
            "d1.avi\n"
          ],
          "name": "stdout"
        },
        {
          "output_type": "stream",
          "text": [
            "\n",
            "\n",
            "\n",
            "\n",
            "\n",
            " 86%|████████▌ | 103/120 [05:10<01:03,  3.75s/it]\u001b[A\u001b[A\u001b[A\u001b[A\u001b[A"
          ],
          "name": "stderr"
        },
        {
          "output_type": "stream",
          "text": [
            "n4.avi\n"
          ],
          "name": "stdout"
        },
        {
          "output_type": "stream",
          "text": [
            "\n",
            "\n",
            "\n",
            "\n",
            "\n",
            " 87%|████████▋ | 104/120 [05:13<00:55,  3.45s/it]\u001b[A\u001b[A\u001b[A\u001b[A\u001b[A"
          ],
          "name": "stderr"
        },
        {
          "output_type": "stream",
          "text": [
            "sa14.avi\n"
          ],
          "name": "stdout"
        },
        {
          "output_type": "stream",
          "text": [
            "\n",
            "\n",
            "\n",
            "\n",
            "\n",
            " 88%|████████▊ | 105/120 [05:18<00:57,  3.81s/it]\u001b[A\u001b[A\u001b[A\u001b[A\u001b[A"
          ],
          "name": "stderr"
        },
        {
          "output_type": "stream",
          "text": [
            "a11.avi\n"
          ],
          "name": "stdout"
        },
        {
          "output_type": "stream",
          "text": [
            "\n",
            "\n",
            "\n",
            "\n",
            "\n",
            " 88%|████████▊ | 106/120 [05:20<00:46,  3.32s/it]\u001b[A\u001b[A\u001b[A\u001b[A\u001b[A"
          ],
          "name": "stderr"
        },
        {
          "output_type": "stream",
          "text": [
            "sa2.avi\n"
          ],
          "name": "stdout"
        },
        {
          "output_type": "stream",
          "text": [
            "\n",
            "\n",
            "\n",
            "\n",
            "\n",
            " 89%|████████▉ | 107/120 [05:22<00:39,  3.05s/it]\u001b[A\u001b[A\u001b[A\u001b[A\u001b[A"
          ],
          "name": "stderr"
        },
        {
          "output_type": "stream",
          "text": [
            "a7.avi\n"
          ],
          "name": "stdout"
        },
        {
          "output_type": "stream",
          "text": [
            "\n",
            "\n",
            "\n",
            "\n",
            "\n",
            " 90%|█████████ | 108/120 [05:24<00:31,  2.64s/it]\u001b[A\u001b[A\u001b[A\u001b[A\u001b[A"
          ],
          "name": "stderr"
        },
        {
          "output_type": "stream",
          "text": [
            "su13.avi\n"
          ],
          "name": "stdout"
        },
        {
          "output_type": "stream",
          "text": [
            "\n",
            "\n",
            "\n",
            "\n",
            "\n",
            " 91%|█████████ | 109/120 [05:27<00:30,  2.81s/it]\u001b[A\u001b[A\u001b[A\u001b[A\u001b[A"
          ],
          "name": "stderr"
        },
        {
          "output_type": "stream",
          "text": [
            "h11.avi\n"
          ],
          "name": "stdout"
        },
        {
          "output_type": "stream",
          "text": [
            "\n",
            "\n",
            "\n",
            "\n",
            "\n",
            " 92%|█████████▏| 110/120 [05:32<00:34,  3.46s/it]\u001b[A\u001b[A\u001b[A\u001b[A\u001b[A"
          ],
          "name": "stderr"
        },
        {
          "output_type": "stream",
          "text": [
            "n6.avi\n"
          ],
          "name": "stdout"
        },
        {
          "output_type": "stream",
          "text": [
            "\n",
            "\n",
            "\n",
            "\n",
            "\n",
            " 92%|█████████▎| 111/120 [05:35<00:29,  3.30s/it]\u001b[A\u001b[A\u001b[A\u001b[A\u001b[A"
          ],
          "name": "stderr"
        },
        {
          "output_type": "stream",
          "text": [
            "n23.avi\n"
          ],
          "name": "stdout"
        },
        {
          "output_type": "stream",
          "text": [
            "\n",
            "\n",
            "\n",
            "\n",
            "\n",
            " 93%|█████████▎| 112/120 [05:37<00:24,  3.02s/it]\u001b[A\u001b[A\u001b[A\u001b[A\u001b[A"
          ],
          "name": "stderr"
        },
        {
          "output_type": "stream",
          "text": [
            "h7.avi\n"
          ],
          "name": "stdout"
        },
        {
          "output_type": "stream",
          "text": [
            "\n",
            "\n",
            "\n",
            "\n",
            "\n",
            " 94%|█████████▍| 113/120 [05:40<00:20,  2.90s/it]\u001b[A\u001b[A\u001b[A\u001b[A\u001b[A"
          ],
          "name": "stderr"
        },
        {
          "output_type": "stream",
          "text": [
            "sa3.avi\n"
          ],
          "name": "stdout"
        },
        {
          "output_type": "stream",
          "text": [
            "\n",
            "\n",
            "\n",
            "\n",
            "\n",
            " 95%|█████████▌| 114/120 [05:41<00:15,  2.50s/it]\u001b[A\u001b[A\u001b[A\u001b[A\u001b[A"
          ],
          "name": "stderr"
        },
        {
          "output_type": "stream",
          "text": [
            "d13.avi\n"
          ],
          "name": "stdout"
        },
        {
          "output_type": "stream",
          "text": [
            "\n",
            "\n",
            "\n",
            "\n",
            "\n",
            " 96%|█████████▌| 115/120 [05:45<00:14,  2.93s/it]\u001b[A\u001b[A\u001b[A\u001b[A\u001b[A"
          ],
          "name": "stderr"
        },
        {
          "output_type": "stream",
          "text": [
            "d10.avi\n"
          ],
          "name": "stdout"
        },
        {
          "output_type": "stream",
          "text": [
            "\n",
            "\n",
            "\n",
            "\n",
            "\n",
            " 97%|█████████▋| 116/120 [05:48<00:11,  2.97s/it]\u001b[A\u001b[A\u001b[A\u001b[A\u001b[A"
          ],
          "name": "stderr"
        },
        {
          "output_type": "stream",
          "text": [
            "su6.avi\n"
          ],
          "name": "stdout"
        },
        {
          "output_type": "stream",
          "text": [
            "\n",
            "\n",
            "\n",
            "\n",
            "\n",
            " 98%|█████████▊| 117/120 [05:51<00:08,  2.76s/it]\u001b[A\u001b[A\u001b[A\u001b[A\u001b[A"
          ],
          "name": "stderr"
        },
        {
          "output_type": "stream",
          "text": [
            "f9.avi\n"
          ],
          "name": "stdout"
        },
        {
          "output_type": "stream",
          "text": [
            "\n",
            "\n",
            "\n",
            "\n",
            "\n",
            " 98%|█████████▊| 118/120 [05:54<00:05,  2.83s/it]\u001b[A\u001b[A\u001b[A\u001b[A\u001b[A"
          ],
          "name": "stderr"
        },
        {
          "output_type": "stream",
          "text": [
            "n16.avi\n"
          ],
          "name": "stdout"
        },
        {
          "output_type": "stream",
          "text": [
            "\n",
            "\n",
            "\n",
            "\n",
            "\n",
            " 99%|█████████▉| 119/120 [05:57<00:03,  3.01s/it]\u001b[A\u001b[A\u001b[A\u001b[A\u001b[A"
          ],
          "name": "stderr"
        },
        {
          "output_type": "stream",
          "text": [
            "sa12.avi\n"
          ],
          "name": "stdout"
        },
        {
          "output_type": "stream",
          "text": [
            "\n",
            "\n",
            "\n",
            "\n",
            "\n",
            "100%|██████████| 120/120 [06:01<00:00,  3.01s/it]\n"
          ],
          "name": "stderr"
        }
      ]
    },
    {
      "cell_type": "code",
      "metadata": {
        "id": "PW_efEtTHVRb",
        "colab_type": "code",
        "outputId": "f17e73ab-43a2-4f48-8f72-0716745137b5",
        "colab": {
          "base_uri": "https://localhost:8080/",
          "height": 50
        }
      },
      "source": [
        "SAVEE_data_training = np.array(SAVEE_data_training)\n",
        "SAVEE_data_testing = np.array(SAVEE_data_testing)\n",
        "print(SAVEE_data_training.shape)\n",
        "print(SAVEE_data_testing.shape)"
      ],
      "execution_count": 0,
      "outputs": [
        {
          "output_type": "stream",
          "text": [
            "(106, 3)\n",
            "(14, 3)\n"
          ],
          "name": "stdout"
        }
      ]
    },
    {
      "cell_type": "code",
      "metadata": {
        "id": "LPcorEtdJbcT",
        "colab_type": "code",
        "colab": {}
      },
      "source": [
        "def imginp(a):\n",
        "  con = []\n",
        "  for i in a:\n",
        "    con.extend(i)\n",
        "  return con"
      ],
      "execution_count": 0,
      "outputs": []
    },
    {
      "cell_type": "code",
      "metadata": {
        "id": "T7JoWQ5YJ9xP",
        "colab_type": "code",
        "outputId": "54e4a866-86e9-44e1-df13-392af89041b1",
        "colab": {
          "base_uri": "https://localhost:8080/",
          "height": 17
        }
      },
      "source": [
        "from keras.layers import Conv3D, MaxPool3D, Flatten, Dense\n",
        "from keras.layers import Dropout, Input, BatchNormalization\n",
        "from sklearn.metrics import confusion_matrix, accuracy_score\n",
        "from plotly.offline import iplot, init_notebook_mode\n",
        "from keras.losses import categorical_crossentropy\n",
        "from keras.optimizers import Adadelta\n",
        "import plotly.graph_objs as go\n",
        "from matplotlib.pyplot import cm\n",
        "from keras.models import Model\n",
        "import numpy as np\n",
        "import keras\n",
        "import h5py\n",
        "from keras.models import Sequential\n",
        "init_notebook_mode(connected=True)\n",
        "%matplotlib inline"
      ],
      "execution_count": 0,
      "outputs": [
        {
          "output_type": "display_data",
          "data": {
            "text/html": [
              "        <script type=\"text/javascript\">\n",
              "        window.PlotlyConfig = {MathJaxConfig: 'local'};\n",
              "        if (window.MathJax) {MathJax.Hub.Config({SVG: {font: \"STIX-Web\"}});}\n",
              "        if (typeof require !== 'undefined') {\n",
              "        require.undef(\"plotly\");\n",
              "        requirejs.config({\n",
              "            paths: {\n",
              "                'plotly': ['https://cdn.plot.ly/plotly-latest.min']\n",
              "            }\n",
              "        });\n",
              "        require(['plotly'], function(Plotly) {\n",
              "            window._Plotly = Plotly;\n",
              "        });\n",
              "        }\n",
              "        </script>\n",
              "        "
            ]
          },
          "metadata": {
            "tags": []
          }
        }
      ]
    },
    {
      "cell_type": "code",
      "metadata": {
        "id": "9Mpl5lIGZk4p",
        "colab_type": "code",
        "colab": {}
      },
      "source": [
        "train_imgs = []\n",
        "train_landm = []\n",
        "train_label = []\n",
        "\n",
        "test_imgs = []\n",
        "test_landm = []\n",
        "test_label = []\n",
        "\n",
        "for i,j,k in SAVEE_data_training:\n",
        "  train_imgs.append(i)\n",
        "  train_landm.append(j)\n",
        "  train_label.append(k)\n",
        "\n",
        "for i,j,k in SAVEE_data_testing:\n",
        "  test_imgs.append(i)\n",
        "  test_landm.append(j)\n",
        "  test_label.append(k)"
      ],
      "execution_count": 0,
      "outputs": []
    },
    {
      "cell_type": "code",
      "metadata": {
        "id": "LF3CnY9pBEQN",
        "colab_type": "code",
        "colab": {}
      },
      "source": [
        "train_imgs = np.array(train_imgs)\n",
        "test_imgs= np.array(test_imgs)\n",
        "\n",
        "X = np.concatenate((train_imgs, test_imgs), axis=0)"
      ],
      "execution_count": 0,
      "outputs": []
    },
    {
      "cell_type": "code",
      "metadata": {
        "id": "4Vr4DFzldoCo",
        "colab_type": "code",
        "outputId": "80ed177e-51e7-43ee-d293-a4d6641ca44d",
        "colab": {
          "base_uri": "https://localhost:8080/",
          "height": 34
        }
      },
      "source": [
        "X_min = 1000\n",
        "for i in X:\n",
        "  m = i.shape[0]\n",
        "  #print(m)\n",
        "\n",
        "  if m < X_min:\n",
        "    X_min = m\n",
        "print(X_min)"
      ],
      "execution_count": 0,
      "outputs": [
        {
          "output_type": "stream",
          "text": [
            "98\n"
          ],
          "name": "stdout"
        }
      ]
    },
    {
      "cell_type": "code",
      "metadata": {
        "id": "PV8aANfVdMIR",
        "colab_type": "code",
        "colab": {}
      },
      "source": [
        "def framegene(X):\n",
        "  X_ref = []\n",
        "\n",
        "  no = X_min\n",
        "  for i in X:\n",
        "    length = i.shape[0]\n",
        "    if length>no:\n",
        "        frame_length = int((length-no)/2)\n",
        "        X_ref.append((i[frame_length:frame_length+no]))\n",
        "    else:\n",
        "        X_ref.append(i)\n",
        "  return np.array(X_ref)"
      ],
      "execution_count": 0,
      "outputs": []
    },
    {
      "cell_type": "code",
      "metadata": {
        "id": "w9EgbormBq8g",
        "colab_type": "code",
        "colab": {}
      },
      "source": [
        "X_train = framegene(train_imgs)\n",
        "X_test = framegene(test_imgs)"
      ],
      "execution_count": 0,
      "outputs": []
    },
    {
      "cell_type": "code",
      "metadata": {
        "id": "bj4--gUdB034",
        "colab_type": "code",
        "outputId": "f3bc19f0-8869-4d3c-cab2-78414e301f50",
        "colab": {
          "base_uri": "https://localhost:8080/",
          "height": 50
        }
      },
      "source": [
        "print(X_train.shape)\n",
        "print(X_test.shape)"
      ],
      "execution_count": 0,
      "outputs": [
        {
          "output_type": "stream",
          "text": [
            "(106, 98, 28, 28, 3)\n",
            "(14, 98, 28, 28, 3)\n"
          ],
          "name": "stdout"
        }
      ]
    },
    {
      "cell_type": "code",
      "metadata": {
        "id": "dthKbSm3tM7X",
        "colab_type": "code",
        "outputId": "71bf10e2-af0e-4f95-8f52-6d22dcbaa25f",
        "colab": {
          "base_uri": "https://localhost:8080/",
          "height": 50
        }
      },
      "source": [
        "y_train = np.array(train_label)\n",
        "y_test = np.array(test_label)\n",
        "\n",
        "print(y_train.shape)\n",
        "print(y_test.shape)"
      ],
      "execution_count": 0,
      "outputs": [
        {
          "output_type": "stream",
          "text": [
            "(106,)\n",
            "(14,)\n"
          ],
          "name": "stdout"
        }
      ]
    },
    {
      "cell_type": "code",
      "metadata": {
        "id": "pY-MM8emfSPp",
        "colab_type": "code",
        "colab": {}
      },
      "source": [
        "from sklearn.metrics import accuracy_score\n",
        "from sklearn.model_selection import train_test_split\n",
        "#X_train, X_test, y_train, y_test = #train_test_split(X_ref, y, test_size=0.3, random_state=42)\n",
        "\n"
      ],
      "execution_count": 0,
      "outputs": []
    },
    {
      "cell_type": "code",
      "metadata": {
        "id": "roeoAC_lImw-",
        "colab_type": "code",
        "outputId": "feda36e8-c6f9-46e3-a644-6c4a6060204a",
        "colab": {
          "base_uri": "https://localhost:8080/",
          "height": 34
        }
      },
      "source": [
        "y_test"
      ],
      "execution_count": 0,
      "outputs": [
        {
          "output_type": "execute_result",
          "data": {
            "text/plain": [
              "array([4, 5, 1, 3, 1, 6, 0, 4, 3, 0, 2, 6, 2, 5])"
            ]
          },
          "metadata": {
            "tags": []
          },
          "execution_count": 118
        }
      ]
    },
    {
      "cell_type": "code",
      "metadata": {
        "id": "5TiYR314JKR2",
        "colab_type": "code",
        "outputId": "44fc3331-4057-4774-af7f-d881089fc333",
        "colab": {
          "base_uri": "https://localhost:8080/",
          "height": 101
        }
      },
      "source": [
        "y_train"
      ],
      "execution_count": 0,
      "outputs": [
        {
          "output_type": "execute_result",
          "data": {
            "text/plain": [
              "array([1, 0, 4, 4, 0, 3, 4, 4, 2, 3, 2, 4, 6, 4, 5, 4, 1, 1, 2, 6, 0, 6,\n",
              "       6, 0, 4, 4, 3, 6, 0, 5, 1, 6, 5, 3, 4, 3, 5, 4, 0, 2, 3, 2, 6, 4,\n",
              "       3, 3, 1, 2, 4, 4, 5, 6, 2, 4, 3, 2, 4, 5, 0, 4, 1, 4, 3, 1, 4, 0,\n",
              "       6, 0, 2, 6, 5, 1, 1, 2, 3, 4, 4, 4, 2, 5, 0, 6, 0, 4, 5, 2, 4, 1,\n",
              "       5, 1, 4, 0, 5, 0, 6, 3, 4, 4, 3, 5, 1, 1, 6, 2, 4, 5])"
            ]
          },
          "metadata": {
            "tags": []
          },
          "execution_count": 119
        }
      ]
    },
    {
      "cell_type": "code",
      "metadata": {
        "id": "oBmO0ENFfqSK",
        "colab_type": "code",
        "colab": {}
      },
      "source": [
        "y_train = keras.utils.to_categorical(y_train, 7)\n",
        "y_test = keras.utils.to_categorical(y_test, 7)"
      ],
      "execution_count": 0,
      "outputs": []
    },
    {
      "cell_type": "code",
      "metadata": {
        "id": "iCOgFb9NLLkG",
        "colab_type": "code",
        "colab": {}
      },
      "source": [
        "## input layer\n",
        "input_layer = Input((X_min, 28, 28, 3))\n",
        "\n",
        "## convolutional layers\n",
        "conv_layer1 = Conv3D(filters=8, kernel_size=(3, 3, 3), activation='relu')(input_layer)\n",
        "conv_layer2 = Conv3D(filters=16, kernel_size=(3, 3, 3), activation='relu')(conv_layer1)\n",
        "\n",
        "## add max pooling to obtain the most imformatic features\n",
        "pooling_layer1 = MaxPool3D(pool_size=(2, 2, 2))(conv_layer2)\n",
        "\n",
        "conv_layer3 = Conv3D(filters=32, kernel_size=(3, 3, 3), activation='relu')(pooling_layer1)\n",
        "conv_layer4 = Conv3D(filters=64, kernel_size=(3, 3, 3), activation='relu')(conv_layer3)\n",
        "pooling_layer2 = MaxPool3D(pool_size=(2, 2, 2))(conv_layer4)\n",
        "\n",
        "## perform batch normalization on the convolution outputs before feeding it to MLP architecture\n",
        "pooling_layer2 = BatchNormalization()(pooling_layer2)\n",
        "flatten_layer = Flatten()(pooling_layer2)\n",
        "\n",
        "## create an MLP architecture with dense layers : 4096 -> 512 -> 10\n",
        "## add dropouts to avoid overfitting / perform regularization\n",
        "dense_layer1 = Dense(units=2048, activation='relu')(flatten_layer)\n",
        "dense_layer1 = Dropout(0.4)(dense_layer1)\n",
        "dense_layer2 = Dense(units=512, activation='relu')(dense_layer1)\n",
        "dense_layer2 = Dropout(0.4)(dense_layer2)\n",
        "output_layer = Dense(units=7, activation='softmax')(dense_layer2)\n",
        "\n",
        "## define the model with input layer and output layer\n",
        "model = Model(inputs=input_layer, outputs=output_layer)"
      ],
      "execution_count": 0,
      "outputs": []
    },
    {
      "cell_type": "code",
      "metadata": {
        "id": "p6BAaWAGmP1H",
        "colab_type": "code",
        "outputId": "27087485-3991-4e93-c2de-22f4f0169afb",
        "colab": {
          "base_uri": "https://localhost:8080/",
          "height": 622
        }
      },
      "source": [
        "model.summary()"
      ],
      "execution_count": 0,
      "outputs": [
        {
          "output_type": "stream",
          "text": [
            "Model: \"model_2\"\n",
            "_________________________________________________________________\n",
            "Layer (type)                 Output Shape              Param #   \n",
            "=================================================================\n",
            "input_2 (InputLayer)         (None, 98, 28, 28, 3)     0         \n",
            "_________________________________________________________________\n",
            "conv3d_5 (Conv3D)            (None, 96, 26, 26, 8)     656       \n",
            "_________________________________________________________________\n",
            "conv3d_6 (Conv3D)            (None, 94, 24, 24, 16)    3472      \n",
            "_________________________________________________________________\n",
            "max_pooling3d_3 (MaxPooling3 (None, 47, 12, 12, 16)    0         \n",
            "_________________________________________________________________\n",
            "conv3d_7 (Conv3D)            (None, 45, 10, 10, 32)    13856     \n",
            "_________________________________________________________________\n",
            "conv3d_8 (Conv3D)            (None, 43, 8, 8, 64)      55360     \n",
            "_________________________________________________________________\n",
            "max_pooling3d_4 (MaxPooling3 (None, 21, 4, 4, 64)      0         \n",
            "_________________________________________________________________\n",
            "batch_normalization_2 (Batch (None, 21, 4, 4, 64)      256       \n",
            "_________________________________________________________________\n",
            "flatten_2 (Flatten)          (None, 21504)             0         \n",
            "_________________________________________________________________\n",
            "dense_4 (Dense)              (None, 2048)              44042240  \n",
            "_________________________________________________________________\n",
            "dropout_3 (Dropout)          (None, 2048)              0         \n",
            "_________________________________________________________________\n",
            "dense_5 (Dense)              (None, 512)               1049088   \n",
            "_________________________________________________________________\n",
            "dropout_4 (Dropout)          (None, 512)               0         \n",
            "_________________________________________________________________\n",
            "dense_6 (Dense)              (None, 7)                 3591      \n",
            "=================================================================\n",
            "Total params: 45,168,519\n",
            "Trainable params: 45,168,391\n",
            "Non-trainable params: 128\n",
            "_________________________________________________________________\n"
          ],
          "name": "stdout"
        }
      ]
    },
    {
      "cell_type": "code",
      "metadata": {
        "id": "30bvL3p_Zb22",
        "colab_type": "code",
        "outputId": "e43769ed-28ef-4da9-c079-b1026196133e",
        "colab": {
          "base_uri": "https://localhost:8080/",
          "height": 356
        }
      },
      "source": [
        "from keras.callbacks import EarlyStopping\n",
        "\n",
        "model.compile(loss=categorical_crossentropy, optimizer=Adadelta(lr=0.1), metrics=['acc'])\n",
        "es = EarlyStopping(monitor='val_loss',verbose =1, patience=50)\n",
        "\n",
        "history = model.fit(x=X_train, y=y_train, batch_size=4, epochs=50,verbose=0, validation_split=0.2,callbacks=[es])"
      ],
      "execution_count": 0,
      "outputs": [
        {
          "output_type": "stream",
          "text": [
            "WARNING:tensorflow:From /tensorflow-1.15.0/python3.6/tensorflow_core/python/ops/math_grad.py:1424: where (from tensorflow.python.ops.array_ops) is deprecated and will be removed in a future version.\n",
            "Instructions for updating:\n",
            "Use tf.where in 2.0, which has the same broadcast rule as np.where\n",
            "WARNING:tensorflow:From /usr/local/lib/python3.6/dist-packages/keras/backend/tensorflow_backend.py:1033: The name tf.assign_add is deprecated. Please use tf.compat.v1.assign_add instead.\n",
            "\n",
            "WARNING:tensorflow:From /usr/local/lib/python3.6/dist-packages/keras/backend/tensorflow_backend.py:1020: The name tf.assign is deprecated. Please use tf.compat.v1.assign instead.\n",
            "\n",
            "WARNING:tensorflow:From /usr/local/lib/python3.6/dist-packages/keras/backend/tensorflow_backend.py:3005: The name tf.Session is deprecated. Please use tf.compat.v1.Session instead.\n",
            "\n",
            "WARNING:tensorflow:From /usr/local/lib/python3.6/dist-packages/keras/backend/tensorflow_backend.py:190: The name tf.get_default_session is deprecated. Please use tf.compat.v1.get_default_session instead.\n",
            "\n",
            "WARNING:tensorflow:From /usr/local/lib/python3.6/dist-packages/keras/backend/tensorflow_backend.py:197: The name tf.ConfigProto is deprecated. Please use tf.compat.v1.ConfigProto instead.\n",
            "\n",
            "WARNING:tensorflow:From /usr/local/lib/python3.6/dist-packages/keras/backend/tensorflow_backend.py:207: The name tf.global_variables is deprecated. Please use tf.compat.v1.global_variables instead.\n",
            "\n",
            "WARNING:tensorflow:From /usr/local/lib/python3.6/dist-packages/keras/backend/tensorflow_backend.py:216: The name tf.is_variable_initialized is deprecated. Please use tf.compat.v1.is_variable_initialized instead.\n",
            "\n",
            "WARNING:tensorflow:From /usr/local/lib/python3.6/dist-packages/keras/backend/tensorflow_backend.py:223: The name tf.variables_initializer is deprecated. Please use tf.compat.v1.variables_initializer instead.\n",
            "\n"
          ],
          "name": "stdout"
        }
      ]
    },
    {
      "cell_type": "code",
      "metadata": {
        "id": "XqFw0uZhK8Od",
        "colab_type": "code",
        "outputId": "806966db-4dcf-4776-b666-f29e5011e4ac",
        "colab": {
          "base_uri": "https://localhost:8080/",
          "height": 298
        }
      },
      "source": [
        "import matplotlib.pyplot as plt\n",
        "_, train_acc = model.evaluate(X_train, y_train, verbose=0)\n",
        "_, test_acc = model.evaluate(X_test, y_test, verbose=0)\n",
        "print('Train: %.3f, Test: %.3f' % (train_acc, test_acc))\n",
        "# plot training history\n",
        "plt.plot(history.history['loss'], label='train')\n",
        "plt.plot(history.history['val_loss'], label='test')"
      ],
      "execution_count": 0,
      "outputs": [
        {
          "output_type": "stream",
          "text": [
            "Train: 1.000, Test: 0.929\n"
          ],
          "name": "stdout"
        },
        {
          "output_type": "execute_result",
          "data": {
            "text/plain": [
              "[<matplotlib.lines.Line2D at 0x7fcc679445c0>]"
            ]
          },
          "metadata": {
            "tags": []
          },
          "execution_count": 127
        },
        {
          "output_type": "display_data",
          "data": {
            "image/png": "[encoded data removed]",
            "text/plain": [
              "<Figure size 432x288 with 1 Axes>"
            ]
          },
          "metadata": {
            "tags": []
          }
        }
      ]
    },
    {
      "cell_type": "code",
      "metadata": {
        "id": "BqR3S0EzLU1v",
        "colab_type": "code",
        "outputId": "f929679d-3891-480a-fa27-686ec26a34ea",
        "colab": {
          "base_uri": "https://localhost:8080/",
          "height": 282
        }
      },
      "source": [
        "plt.plot(history.history['acc'],label = 'acc')\n",
        "plt.plot(history.history['val_acc'],label = 'val_acc')"
      ],
      "execution_count": 0,
      "outputs": [
        {
          "output_type": "execute_result",
          "data": {
            "text/plain": [
              "[<matplotlib.lines.Line2D at 0x7fcbca181588>]"
            ]
          },
          "metadata": {
            "tags": []
          },
          "execution_count": 128
        },
        {
          "output_type": "display_data",
          "data": {
            "image/png": "[encoded data removed]",
            "text/plain": [
              "<Figure size 432x288 with 1 Axes>"
            ]
          },
          "metadata": {
            "tags": []
          }
        }
      ]
    },
    {
      "cell_type": "code",
      "metadata": {
        "id": "1d-jRXYzL1CP",
        "colab_type": "code",
        "outputId": "886a1fc1-e5a2-4e90-a876-834289d598f4",
        "colab": {
          "base_uri": "https://localhost:8080/",
          "height": 34
        }
      },
      "source": [
        "y_test.argmax(axis=1)"
      ],
      "execution_count": 0,
      "outputs": [
        {
          "output_type": "execute_result",
          "data": {
            "text/plain": [
              "array([4, 5, 1, 3, 1, 6, 0, 4, 3, 0, 2, 6, 2, 5])"
            ]
          },
          "metadata": {
            "tags": []
          },
          "execution_count": 134
        }
      ]
    },
    {
      "cell_type": "code",
      "metadata": {
        "id": "W2uNq35QL-VB",
        "colab_type": "code",
        "outputId": "e6602f88-2fa6-4360-a40a-eac82324205f",
        "colab": {
          "base_uri": "https://localhost:8080/",
          "height": 34
        }
      },
      "source": [
        "y_pred = model.predict(X_test)\n",
        "y_pred.argmax(axis=1)"
      ],
      "execution_count": 0,
      "outputs": [
        {
          "output_type": "execute_result",
          "data": {
            "text/plain": [
              "array([4, 5, 1, 3, 2, 6, 0, 4, 3, 0, 2, 6, 2, 5])"
            ]
          },
          "metadata": {
            "tags": []
          },
          "execution_count": 137
        }
      ]
    },
    {
      "cell_type": "code",
      "metadata": {
        "id": "ulpIzy1ry_tL",
        "colab_type": "code",
        "outputId": "4e65192d-7f63-47f7-bcf5-91af68d85092",
        "colab": {
          "base_uri": "https://localhost:8080/",
          "height": 134
        }
      },
      "source": [
        "#y_pred = keras.utils.to_categorical(pred, 7)\n",
        "from sklearn.metrics import confusion_matrix\n",
        "confusion_matrix(y_test.argmax(axis=1), y_pred.argmax(axis=1))"
      ],
      "execution_count": 0,
      "outputs": [
        {
          "output_type": "execute_result",
          "data": {
            "text/plain": [
              "array([[2, 0, 0, 0, 0, 0, 0],\n",
              "       [0, 1, 1, 0, 0, 0, 0],\n",
              "       [0, 0, 2, 0, 0, 0, 0],\n",
              "       [0, 0, 0, 2, 0, 0, 0],\n",
              "       [0, 0, 0, 0, 2, 0, 0],\n",
              "       [0, 0, 0, 0, 0, 2, 0],\n",
              "       [0, 0, 0, 0, 0, 0, 2]])"
            ]
          },
          "metadata": {
            "tags": []
          },
          "execution_count": 138
        }
      ]
    },
    {
      "cell_type": "code",
      "metadata": {
        "id": "y-UZNgUfOhVv",
        "colab_type": "code",
        "colab": {}
      },
      "source": [
        "#from sklearn.metrics import plot_confusion_matrix\n",
        "def plot_confusion_matrix(cm,\n",
        "                          target_names,\n",
        "                          title='Confusion matrix',\n",
        "                          cmap=None,\n",
        "                          normalize=True):\n",
        "    \"\"\"\n",
        "    given a sklearn confusion matrix (cm), make a nice plot\n",
        "\n",
        "    Arguments\n",
        "    ---------\n",
        "    cm:           confusion matrix from sklearn.metrics.confusion_matrix\n",
        "\n",
        "    target_names: given classification classes such as [0, 1, 2]\n",
        "                  the class names, for example: ['high', 'medium', 'low']\n",
        "\n",
        "    title:        the text to display at the top of the matrix\n",
        "\n",
        "    cmap:         the gradient of the values displayed from matplotlib.pyplot.cm\n",
        "                  see http://matplotlib.org/examples/color/colormaps_reference.html\n",
        "                  plt.get_cmap('jet') or plt.cm.Blues\n",
        "\n",
        "    normalize:    If False, plot the raw numbers\n",
        "                  If True, plot the proportions\n",
        "\n",
        "    Usage\n",
        "    -----\n",
        "    plot_confusion_matrix(cm           = cm,                  # confusion matrix created by\n",
        "                                                              # sklearn.metrics.confusion_matrix\n",
        "                          normalize    = True,                # show proportions\n",
        "                          target_names = y_labels_vals,       # list of names of the classes\n",
        "                          title        = best_estimator_name) # title of graph\n",
        "\n",
        "    Citiation\n",
        "    ---------\n",
        "    http://scikit-learn.org/stable/auto_examples/model_selection/plot_confusion_matrix.html\n",
        "\n",
        "    \"\"\"\n",
        "    import matplotlib.pyplot as plt\n",
        "    import numpy as np\n",
        "    import itertools\n",
        "\n",
        "    accuracy = np.trace(cm) / np.sum(cm).astype('float')\n",
        "    misclass = 1 - accuracy\n",
        "\n",
        "    if cmap is None:\n",
        "        cmap = plt.get_cmap('Blues')\n",
        "\n",
        "    plt.figure(figsize=(8, 6))\n",
        "    plt.imshow(cm, interpolation='nearest', cmap=cmap)\n",
        "    plt.title(title)\n",
        "    plt.colorbar()\n",
        "\n",
        "    if target_names is not None:\n",
        "        tick_marks = np.arange(len(target_names))\n",
        "        plt.xticks(tick_marks, target_names, rotation=45)\n",
        "        plt.yticks(tick_marks, target_names)\n",
        "\n",
        "    if normalize:\n",
        "        cm = cm.astype('int') / cm.sum(axis=1)[:, np.newaxis]\n",
        "        print(cm)\n",
        "\n",
        "\n",
        "    thresh = cm.max() / 1.5 if normalize else cm.max() / 2\n",
        "    for i, j in itertools.product(range(cm.shape[0]), range(cm.shape[1])):\n",
        "        if normalize:\n",
        "            plt.text(j, i, \"{:0.1f}\".format(cm[i, j]),\n",
        "                     horizontalalignment=\"center\",\n",
        "                     color=\"white\" if cm[i, j] > thresh else \"black\")\n",
        "        else:\n",
        "            plt.text(j, i, \"{:,}\".format(cm[i, j]),\n",
        "                     horizontalalignment=\"center\",\n",
        "                     color=\"white\" if cm[i, j] > thresh else \"black\")\n",
        "\n",
        "\n",
        "    plt.tight_layout()\n",
        "    plt.ylabel('True label')\n",
        "    plt.xlabel('Predicted label\\naccuracy={:0.4f}; misclass={:0.4f}'.format(accuracy, misclass))\n",
        "    plt.show()"
      ],
      "execution_count": 0,
      "outputs": []
    },
    {
      "cell_type": "code",
      "metadata": {
        "id": "K-WcC3U_NGyP",
        "colab_type": "code",
        "outputId": "60bc9e23-0419-4abb-cfdb-5501acc2b07e",
        "colab": {
          "base_uri": "https://localhost:8080/",
          "height": 585
        }
      },
      "source": [
        "#from sklearn.metrics import plot_confusion_matrix\n",
        "target_names = ['a','d','f','h','n','sa','su']\n",
        "cm =confusion_matrix(y_test.argmax(axis=1), y_pred.argmax(axis=1))\n",
        "\n",
        "plot_confusion_matrix(cm,target_names,title='Normalized Confusion matrix',cmap=None,normalize=True)"
      ],
      "execution_count": 0,
      "outputs": [
        {
          "output_type": "stream",
          "text": [
            "[[1.  0.  0.  0.  0.  0.  0. ]\n",
            " [0.  0.5 0.5 0.  0.  0.  0. ]\n",
            " [0.  0.  1.  0.  0.  0.  0. ]\n",
            " [0.  0.  0.  1.  0.  0.  0. ]\n",
            " [0.  0.  0.  0.  1.  0.  0. ]\n",
            " [0.  0.  0.  0.  0.  1.  0. ]\n",
            " [0.  0.  0.  0.  0.  0.  1. ]]\n"
          ],
          "name": "stdout"
        },
        {
          "output_type": "display_data",
          "data": {
            "image/png": "[encoded data removed]",
            "text/plain": [
              "<Figure size 576x432 with 2 Axes>"
            ]
          },
          "metadata": {
            "tags": []
          }
        }
      ]
    },
    {
      "cell_type": "code",
      "metadata": {
        "id": "uAtJneMp8BkK",
        "colab_type": "code",
        "colab": {}
      },
      "source": [
        ""
      ],
      "execution_count": 0,
      "outputs": []
    }
  ]
}