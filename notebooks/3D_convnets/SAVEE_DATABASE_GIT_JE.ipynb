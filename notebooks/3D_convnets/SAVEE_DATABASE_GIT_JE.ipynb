{
  "nbformat": 4,
  "nbformat_minor": 0,
  "metadata": {
    "colab": {
      "name": "SAVEE DATABASE GIT JE.ipynb",
      "provenance": [],
      "collapsed_sections": []
    },
    "kernelspec": {
      "name": "python3",
      "display_name": "Python 3"
    },
    "accelerator": "GPU"
  },
  "cells": [
    {
      "cell_type": "code",
      "metadata": {
        "id": "Sz4kJ1G0StoS",
        "colab_type": "code",
        "outputId": "c09c2db5-570e-41c4-82c2-4506dfccdb5d",
        "colab": {
          "base_uri": "https://localhost:8080/",
          "height": 50
        }
      },
      "source": [
        "%tensorflow_version 1.x\n",
        "\n",
        "from keras.layers import Conv3D, MaxPool3D, Flatten, Dense\n",
        "from keras.layers import Dropout, Input, BatchNormalization\n",
        "from sklearn.metrics import confusion_matrix, accuracy_score\n",
        "from plotly.offline import iplot, init_notebook_mode\n",
        "from keras.losses import categorical_crossentropy\n",
        "from keras.optimizers import Adadelta\n",
        "import plotly.graph_objs as go\n",
        "from matplotlib.pyplot import cm\n",
        "from keras.models import Model\n",
        "import numpy as np\n",
        "import keras\n",
        "import h5py\n",
        "from keras.models import Sequential\n",
        "init_notebook_mode(connected=True)\n",
        "%tensorflow_version 1.x\n"
      ],
      "execution_count": 1,
      "outputs": [
        {
          "output_type": "stream",
          "text": [
            "TensorFlow 1.x selected.\n"
          ],
          "name": "stdout"
        },
        {
          "output_type": "stream",
          "text": [
            "Using TensorFlow backend.\n"
          ],
          "name": "stderr"
        },
        {
          "output_type": "display_data",
          "data": {
            "text/html": [
              "        <script type=\"text/javascript\">\n",
              "        window.PlotlyConfig = {MathJaxConfig: 'local'};\n",
              "        if (window.MathJax) {MathJax.Hub.Config({SVG: {font: \"STIX-Web\"}});}\n",
              "        if (typeof require !== 'undefined') {\n",
              "        require.undef(\"plotly\");\n",
              "        requirejs.config({\n",
              "            paths: {\n",
              "                'plotly': ['https://cdn.plot.ly/plotly-latest.min']\n",
              "            }\n",
              "        });\n",
              "        require(['plotly'], function(Plotly) {\n",
              "            window._Plotly = Plotly;\n",
              "        });\n",
              "        }\n",
              "        </script>\n",
              "        "
            ]
          },
          "metadata": {
            "tags": []
          }
        }
      ]
    },
    {
      "cell_type": "code",
      "metadata": {
        "id": "gF8BZZCYTGT8",
        "colab_type": "code",
        "outputId": "52ccc955-3266-4e66-c0c5-4b744c9843ee",
        "colab": {
          "base_uri": "https://localhost:8080/",
          "height": 34
        }
      },
      "source": [
        "import tensorflow as tf\n",
        "print(tf.__version__)"
      ],
      "execution_count": 2,
      "outputs": [
        {
          "output_type": "stream",
          "text": [
            "1.15.2\n"
          ],
          "name": "stdout"
        }
      ]
    },
    {
      "cell_type": "code",
      "metadata": {
        "id": "t58bpfwsFYPG",
        "colab_type": "code",
        "outputId": "f8f30d4c-1610-418f-bfd1-310a8136a4c5",
        "colab": {
          "base_uri": "https://localhost:8080/",
          "height": 118
        }
      },
      "source": [
        "!git clone https://github.com/saisriteja/emotion-recognition.git"
      ],
      "execution_count": 3,
      "outputs": [
        {
          "output_type": "stream",
          "text": [
            "Cloning into 'emotion-recognition'...\n",
            "remote: Enumerating objects: 21, done.\u001b[K\n",
            "remote: Counting objects: 100% (21/21), done.\u001b[K\n",
            "remote: Compressing objects: 100% (17/17), done.\u001b[K\n",
            "remote: Total 21 (delta 0), reused 0 (delta 0), pack-reused 0\u001b[K\n",
            "Unpacking objects: 100% (21/21), done.\n"
          ],
          "name": "stdout"
        }
      ]
    },
    {
      "cell_type": "code",
      "metadata": {
        "id": "9mUMGeoOFg6r",
        "colab_type": "code",
        "colab": {}
      },
      "source": [
        "import os\n",
        "import glob\n",
        "files = glob.glob('/content/emotion-recognition/data/*.zip')"
      ],
      "execution_count": 0,
      "outputs": []
    },
    {
      "cell_type": "code",
      "metadata": {
        "id": "YtiJsxVYFqVp",
        "colab_type": "code",
        "outputId": "417149c3-8ef9-47e0-c61e-97757109808e",
        "colab": {
          "base_uri": "https://localhost:8080/",
          "height": 286
        }
      },
      "source": [
        "for i in files:\n",
        "  !unzip $i"
      ],
      "execution_count": 5,
      "outputs": [
        {
          "output_type": "stream",
          "text": [
            "Archive:  /content/emotion-recognition/data/KL_testing.zip\n",
            "  inflating: KL_testing.pkl          \n",
            "Archive:  /content/emotion-recognition/data/DC_testing.zip\n",
            "  inflating: DC_testing.pkl          \n",
            "Archive:  /content/emotion-recognition/data/JK_training.zip\n",
            "  inflating: JK_training.pkl         \n",
            "Archive:  /content/emotion-recognition/data/DC_training.zip\n",
            "  inflating: DC_training.pkl         \n",
            "Archive:  /content/emotion-recognition/data/JK_testing.zip\n",
            "  inflating: JK_testing.pkl          \n",
            "Archive:  /content/emotion-recognition/data/KL_training.zip\n",
            "  inflating: KL_training.pkl         \n",
            "Archive:  /content/emotion-recognition/data/JE_testing.zip\n",
            "  inflating: JE_testing.pkl          \n",
            "Archive:  /content/emotion-recognition/data/JE_training.zip\n",
            "  inflating: JE_training.pkl         \n"
          ],
          "name": "stdout"
        }
      ]
    },
    {
      "cell_type": "code",
      "metadata": {
        "id": "bHve8_f_FzWm",
        "colab_type": "code",
        "colab": {}
      },
      "source": [
        "def load_obj(name):\n",
        "    with open(name + '.pkl', 'rb') as f:\n",
        "        return pickle.load(f)"
      ],
      "execution_count": 0,
      "outputs": []
    },
    {
      "cell_type": "code",
      "metadata": {
        "id": "xVVUMf6zGW7L",
        "colab_type": "code",
        "colab": {}
      },
      "source": [
        "import numpy as np\n",
        "import pickle"
      ],
      "execution_count": 0,
      "outputs": []
    },
    {
      "cell_type": "code",
      "metadata": {
        "id": "SChn1GvaGO8l",
        "colab_type": "code",
        "outputId": "77516f1f-ab51-4b0d-9dae-7851eac24b88",
        "colab": {
          "base_uri": "https://localhost:8080/",
          "height": 50
        }
      },
      "source": [
        "SAVEE_data_training = np.array(load_obj('/content/JE_training'))\n",
        "SAVEE_data_testing = np.array(load_obj('/content/JE_testing'))\n",
        "print(SAVEE_data_training.shape)\n",
        "print(SAVEE_data_testing.shape)"
      ],
      "execution_count": 8,
      "outputs": [
        {
          "output_type": "stream",
          "text": [
            "(106, 3)\n",
            "(14, 3)\n"
          ],
          "name": "stdout"
        }
      ]
    },
    {
      "cell_type": "code",
      "metadata": {
        "id": "gusFqdDDGeAK",
        "colab_type": "code",
        "outputId": "076ed550-0bcf-416e-c187-53e3e646bf0d",
        "colab": {
          "base_uri": "https://localhost:8080/",
          "height": 17
        }
      },
      "source": [
        "from keras.layers import Conv3D, MaxPool3D, Flatten, Dense\n",
        "from keras.layers import Dropout, Input, BatchNormalization\n",
        "from sklearn.metrics import confusion_matrix, accuracy_score\n",
        "from plotly.offline import iplot, init_notebook_mode\n",
        "from keras.losses import categorical_crossentropy\n",
        "from keras.optimizers import Adadelta\n",
        "import plotly.graph_objs as go\n",
        "from matplotlib.pyplot import cm\n",
        "from keras.models import Model\n",
        "import numpy as np\n",
        "import keras\n",
        "import h5py\n",
        "from keras.models import Sequential\n",
        "init_notebook_mode(connected=True)\n",
        "%matplotlib inline"
      ],
      "execution_count": 9,
      "outputs": [
        {
          "output_type": "display_data",
          "data": {
            "text/html": [
              "        <script type=\"text/javascript\">\n",
              "        window.PlotlyConfig = {MathJaxConfig: 'local'};\n",
              "        if (window.MathJax) {MathJax.Hub.Config({SVG: {font: \"STIX-Web\"}});}\n",
              "        if (typeof require !== 'undefined') {\n",
              "        require.undef(\"plotly\");\n",
              "        requirejs.config({\n",
              "            paths: {\n",
              "                'plotly': ['https://cdn.plot.ly/plotly-latest.min']\n",
              "            }\n",
              "        });\n",
              "        require(['plotly'], function(Plotly) {\n",
              "            window._Plotly = Plotly;\n",
              "        });\n",
              "        }\n",
              "        </script>\n",
              "        "
            ]
          },
          "metadata": {
            "tags": []
          }
        }
      ]
    },
    {
      "cell_type": "code",
      "metadata": {
        "id": "hIeK8NLWGg8g",
        "colab_type": "code",
        "outputId": "ae97362c-d7ff-440d-81a5-3d80d31a1afa",
        "colab": {
          "base_uri": "https://localhost:8080/",
          "height": 101
        }
      },
      "source": [
        "train_imgs = []\n",
        "train_landm = []\n",
        "train_label = []\n",
        "\n",
        "test_imgs = []\n",
        "test_landm = []\n",
        "test_label = []\n",
        "\n",
        "for i,j,k in SAVEE_data_training:\n",
        "  train_imgs.append(i)\n",
        "  train_landm.append(j)\n",
        "  train_label.append(k)\n",
        "\n",
        "for i,j,k in SAVEE_data_testing:\n",
        "  test_imgs.append(i)\n",
        "  test_landm.append(j)\n",
        "  test_label.append(k)\n",
        "\n",
        "train_imgs = np.array(train_imgs)\n",
        "test_imgs= np.array(test_imgs)\n",
        "\n",
        "X = np.concatenate((train_imgs, test_imgs), axis=0)\n",
        "\n",
        "X_min = 1000\n",
        "for i in X:\n",
        "  m = i.shape[0]\n",
        "  #print(m)\n",
        "\n",
        "  if m < X_min:\n",
        "    X_min = m\n",
        "print(X_min)\n",
        "\n",
        "def framegene(X):\n",
        "  X_ref = []\n",
        "\n",
        "  no = X_min\n",
        "  for i in X:\n",
        "    length = i.shape[0]\n",
        "    if length>no:\n",
        "        frame_length = int((length-no)/2)\n",
        "        X_ref.append((i[frame_length:frame_length+no]))\n",
        "    else:\n",
        "        X_ref.append(i)\n",
        "  return np.array(X_ref)\n",
        "\n",
        "X_train = framegene(train_imgs)\n",
        "X_test = framegene(test_imgs)\n",
        "\n",
        "print(X_train.shape)\n",
        "print(X_test.shape)\n",
        "\n",
        "y_train = np.array(train_label)\n",
        "y_test = np.array(test_label)\n",
        "\n",
        "print(y_train.shape)\n",
        "print(y_test.shape)\n",
        "\n",
        "y_train = keras.utils.to_categorical(y_train, 7)\n",
        "y_test = keras.utils.to_categorical(y_test, 7)"
      ],
      "execution_count": 10,
      "outputs": [
        {
          "output_type": "stream",
          "text": [
            "124\n",
            "(106, 124, 28, 28, 3)\n",
            "(14, 124, 28, 28, 3)\n",
            "(106,)\n",
            "(14,)\n"
          ],
          "name": "stdout"
        }
      ]
    },
    {
      "cell_type": "code",
      "metadata": {
        "id": "yjrh5DzOG2gZ",
        "colab_type": "code",
        "outputId": "cc92d490-35d1-4d2b-ec18-5e5af4ea8075",
        "colab": {
          "base_uri": "https://localhost:8080/",
          "height": 222
        }
      },
      "source": [
        "\n",
        "## input layer\n",
        "input_layer = Input((X_min, 28, 28, 3))\n",
        "\n",
        "## convolutional layers\n",
        "conv_layer1 = Conv3D(filters=8, kernel_size=(3, 3, 3), activation='relu')(input_layer)\n",
        "conv_layer2 = Conv3D(filters=16, kernel_size=(3, 3, 3), activation='relu')(conv_layer1)\n",
        "\n",
        "## add max pooling to obtain the most imformatic features\n",
        "pooling_layer1 = MaxPool3D(pool_size=(2, 2, 2))(conv_layer2)\n",
        "\n",
        "conv_layer3 = Conv3D(filters=32, kernel_size=(3, 3, 3), activation='relu')(pooling_layer1)\n",
        "conv_layer4 = Conv3D(filters=64, kernel_size=(3, 3, 3), activation='relu')(conv_layer3)\n",
        "pooling_layer2 = MaxPool3D(pool_size=(2, 2, 2))(conv_layer4)\n",
        "\n",
        "## perform batch normalization on the convolution outputs before feeding it to MLP architecture\n",
        "pooling_layer2 = BatchNormalization()(pooling_layer2)\n",
        "flatten_layer = Flatten()(pooling_layer2)\n",
        "\n",
        "## create an MLP architecture with dense layers : 4096 -> 512 -> 10\n",
        "## add dropouts to avoid overfitting / perform regularization\n",
        "dense_layer1 = Dense(units=2048, activation='relu')(flatten_layer)\n",
        "dense_layer1 = Dropout(0.4)(dense_layer1)\n",
        "dense_layer2 = Dense(units=512, activation='relu')(dense_layer1)\n",
        "dense_layer2 = Dropout(0.4)(dense_layer2)\n",
        "output_layer = Dense(units=7, activation='softmax')(dense_layer2)\n",
        "\n",
        "## define the model with input layer and output layer\n",
        "model = Model(inputs=input_layer, outputs=output_layer)"
      ],
      "execution_count": 11,
      "outputs": [
        {
          "output_type": "stream",
          "text": [
            "WARNING:tensorflow:From /usr/local/lib/python3.6/dist-packages/keras/backend/tensorflow_backend.py:66: The name tf.get_default_graph is deprecated. Please use tf.compat.v1.get_default_graph instead.\n",
            "\n",
            "WARNING:tensorflow:From /usr/local/lib/python3.6/dist-packages/keras/backend/tensorflow_backend.py:541: The name tf.placeholder is deprecated. Please use tf.compat.v1.placeholder instead.\n",
            "\n",
            "WARNING:tensorflow:From /usr/local/lib/python3.6/dist-packages/keras/backend/tensorflow_backend.py:4432: The name tf.random_uniform is deprecated. Please use tf.random.uniform instead.\n",
            "\n",
            "WARNING:tensorflow:From /usr/local/lib/python3.6/dist-packages/keras/backend/tensorflow_backend.py:148: The name tf.placeholder_with_default is deprecated. Please use tf.compat.v1.placeholder_with_default instead.\n",
            "\n",
            "WARNING:tensorflow:From /usr/local/lib/python3.6/dist-packages/keras/backend/tensorflow_backend.py:3733: calling dropout (from tensorflow.python.ops.nn_ops) with keep_prob is deprecated and will be removed in a future version.\n",
            "Instructions for updating:\n",
            "Please use `rate` instead of `keep_prob`. Rate should be set to `rate = 1 - keep_prob`.\n"
          ],
          "name": "stdout"
        }
      ]
    },
    {
      "cell_type": "code",
      "metadata": {
        "id": "VwQdACfZG7nF",
        "colab_type": "code",
        "outputId": "e21c8e27-1dec-4f7a-bf85-4dc24258ca0b",
        "colab": {
          "base_uri": "https://localhost:8080/",
          "height": 622
        }
      },
      "source": [
        "model.summary()"
      ],
      "execution_count": 12,
      "outputs": [
        {
          "output_type": "stream",
          "text": [
            "Model: \"model_1\"\n",
            "_________________________________________________________________\n",
            "Layer (type)                 Output Shape              Param #   \n",
            "=================================================================\n",
            "input_1 (InputLayer)         (None, 124, 28, 28, 3)    0         \n",
            "_________________________________________________________________\n",
            "conv3d_1 (Conv3D)            (None, 122, 26, 26, 8)    656       \n",
            "_________________________________________________________________\n",
            "conv3d_2 (Conv3D)            (None, 120, 24, 24, 16)   3472      \n",
            "_________________________________________________________________\n",
            "max_pooling3d_1 (MaxPooling3 (None, 60, 12, 12, 16)    0         \n",
            "_________________________________________________________________\n",
            "conv3d_3 (Conv3D)            (None, 58, 10, 10, 32)    13856     \n",
            "_________________________________________________________________\n",
            "conv3d_4 (Conv3D)            (None, 56, 8, 8, 64)      55360     \n",
            "_________________________________________________________________\n",
            "max_pooling3d_2 (MaxPooling3 (None, 28, 4, 4, 64)      0         \n",
            "_________________________________________________________________\n",
            "batch_normalization_1 (Batch (None, 28, 4, 4, 64)      256       \n",
            "_________________________________________________________________\n",
            "flatten_1 (Flatten)          (None, 28672)             0         \n",
            "_________________________________________________________________\n",
            "dense_1 (Dense)              (None, 2048)              58722304  \n",
            "_________________________________________________________________\n",
            "dropout_1 (Dropout)          (None, 2048)              0         \n",
            "_________________________________________________________________\n",
            "dense_2 (Dense)              (None, 512)               1049088   \n",
            "_________________________________________________________________\n",
            "dropout_2 (Dropout)          (None, 512)               0         \n",
            "_________________________________________________________________\n",
            "dense_3 (Dense)              (None, 7)                 3591      \n",
            "=================================================================\n",
            "Total params: 59,848,583\n",
            "Trainable params: 59,848,455\n",
            "Non-trainable params: 128\n",
            "_________________________________________________________________\n"
          ],
          "name": "stdout"
        }
      ]
    },
    {
      "cell_type": "code",
      "metadata": {
        "id": "ANbusD47N39M",
        "colab_type": "code",
        "outputId": "7b50236d-036f-4fc9-aaf4-f0c671401595",
        "colab": {
          "base_uri": "https://localhost:8080/",
          "height": 34
        }
      },
      "source": [
        "X_train.shape"
      ],
      "execution_count": 13,
      "outputs": [
        {
          "output_type": "execute_result",
          "data": {
            "text/plain": [
              "(106, 124, 28, 28, 3)"
            ]
          },
          "metadata": {
            "tags": []
          },
          "execution_count": 13
        }
      ]
    },
    {
      "cell_type": "code",
      "metadata": {
        "id": "5j1a0Su7N6fo",
        "colab_type": "code",
        "outputId": "5ceffdb9-ebc4-4b41-efa3-70f0985d7af9",
        "colab": {
          "base_uri": "https://localhost:8080/",
          "height": 34
        }
      },
      "source": [
        "y_train.shape"
      ],
      "execution_count": 14,
      "outputs": [
        {
          "output_type": "execute_result",
          "data": {
            "text/plain": [
              "(106, 7)"
            ]
          },
          "metadata": {
            "tags": []
          },
          "execution_count": 14
        }
      ]
    },
    {
      "cell_type": "code",
      "metadata": {
        "id": "SmiEZ7i2Nm3J",
        "colab_type": "code",
        "outputId": "6797ee99-de33-4a59-f7da-211ac23dfb77",
        "colab": {
          "base_uri": "https://localhost:8080/",
          "height": 1000
        }
      },
      "source": [
        "from keras.callbacks import EarlyStopping\n",
        "model.compile(loss=categorical_crossentropy, optimizer=Adadelta(lr=0.1), metrics=['acc'])\n",
        "es = EarlyStopping(monitor='val_loss',verbose =1, patience=50)\n",
        "history = model.fit(x=X_train, y=y_train, batch_size=4, epochs=50,verbose=1, validation_split=0.2,callbacks=[es])"
      ],
      "execution_count": 22,
      "outputs": [
        {
          "output_type": "stream",
          "text": [
            "Train on 84 samples, validate on 22 samples\n",
            "Epoch 1/50\n",
            "84/84 [==============================] - 3s 40ms/step - loss: 1.7286e-04 - acc: 1.0000 - val_loss: 0.8696 - val_acc: 0.8182\n",
            "Epoch 2/50\n",
            "84/84 [==============================] - 2s 22ms/step - loss: 7.4259e-05 - acc: 1.0000 - val_loss: 0.7457 - val_acc: 0.8636\n",
            "Epoch 3/50\n",
            "84/84 [==============================] - 2s 22ms/step - loss: 7.4133e-05 - acc: 1.0000 - val_loss: 0.7630 - val_acc: 0.8636\n",
            "Epoch 4/50\n",
            "84/84 [==============================] - 2s 22ms/step - loss: 2.6602e-05 - acc: 1.0000 - val_loss: 0.7973 - val_acc: 0.8636\n",
            "Epoch 5/50\n",
            "84/84 [==============================] - 2s 22ms/step - loss: 5.7537e-05 - acc: 1.0000 - val_loss: 0.6944 - val_acc: 0.8636\n",
            "Epoch 6/50\n",
            "84/84 [==============================] - 2s 22ms/step - loss: 6.8434e-05 - acc: 1.0000 - val_loss: 0.5998 - val_acc: 0.8636\n",
            "Epoch 7/50\n",
            "84/84 [==============================] - 2s 22ms/step - loss: 7.5040e-05 - acc: 1.0000 - val_loss: 0.6034 - val_acc: 0.8636\n",
            "Epoch 8/50\n",
            "84/84 [==============================] - 2s 22ms/step - loss: 3.3631e-05 - acc: 1.0000 - val_loss: 0.4202 - val_acc: 0.9091\n",
            "Epoch 9/50\n",
            "84/84 [==============================] - 2s 22ms/step - loss: 5.6550e-04 - acc: 1.0000 - val_loss: 0.4277 - val_acc: 0.9545\n",
            "Epoch 10/50\n",
            "84/84 [==============================] - 2s 22ms/step - loss: 0.0013 - acc: 1.0000 - val_loss: 0.6565 - val_acc: 0.8636\n",
            "Epoch 11/50\n",
            "84/84 [==============================] - 2s 22ms/step - loss: 1.1345e-04 - acc: 1.0000 - val_loss: 0.7222 - val_acc: 0.8636\n",
            "Epoch 12/50\n",
            "84/84 [==============================] - 2s 22ms/step - loss: 2.8823e-04 - acc: 1.0000 - val_loss: 0.7579 - val_acc: 0.8636\n",
            "Epoch 13/50\n",
            "84/84 [==============================] - 2s 22ms/step - loss: 1.0920e-04 - acc: 1.0000 - val_loss: 0.6900 - val_acc: 0.8636\n",
            "Epoch 14/50\n",
            "84/84 [==============================] - 2s 22ms/step - loss: 1.8116e-06 - acc: 1.0000 - val_loss: 0.6885 - val_acc: 0.8636\n",
            "Epoch 15/50\n",
            "84/84 [==============================] - 2s 23ms/step - loss: 1.8809e-05 - acc: 1.0000 - val_loss: 0.6639 - val_acc: 0.8636\n",
            "Epoch 16/50\n",
            "84/84 [==============================] - 2s 22ms/step - loss: 1.1124e-04 - acc: 1.0000 - val_loss: 0.8465 - val_acc: 0.7727\n",
            "Epoch 17/50\n",
            "84/84 [==============================] - 2s 22ms/step - loss: 1.1804e-04 - acc: 1.0000 - val_loss: 0.9447 - val_acc: 0.7727\n",
            "Epoch 18/50\n",
            "84/84 [==============================] - 2s 22ms/step - loss: 2.2093e-05 - acc: 1.0000 - val_loss: 0.8870 - val_acc: 0.7727\n",
            "Epoch 19/50\n",
            "84/84 [==============================] - 2s 22ms/step - loss: 4.9693e-05 - acc: 1.0000 - val_loss: 0.6023 - val_acc: 0.8182\n",
            "Epoch 20/50\n",
            "84/84 [==============================] - 2s 22ms/step - loss: 1.3617e-05 - acc: 1.0000 - val_loss: 0.6391 - val_acc: 0.8636\n",
            "Epoch 21/50\n",
            "84/84 [==============================] - 2s 22ms/step - loss: 9.8563e-06 - acc: 1.0000 - val_loss: 0.6328 - val_acc: 0.8636\n",
            "Epoch 22/50\n",
            "84/84 [==============================] - 2s 22ms/step - loss: 1.9109e-06 - acc: 1.0000 - val_loss: 0.5947 - val_acc: 0.8636\n",
            "Epoch 23/50\n",
            "84/84 [==============================] - 2s 22ms/step - loss: 4.7255e-05 - acc: 1.0000 - val_loss: 0.5317 - val_acc: 0.8636\n",
            "Epoch 24/50\n",
            "84/84 [==============================] - 2s 22ms/step - loss: 6.4020e-04 - acc: 1.0000 - val_loss: 0.4362 - val_acc: 0.8636\n",
            "Epoch 25/50\n",
            "84/84 [==============================] - 2s 22ms/step - loss: 4.3172e-06 - acc: 1.0000 - val_loss: 0.4413 - val_acc: 0.8636\n",
            "Epoch 26/50\n",
            "84/84 [==============================] - 2s 22ms/step - loss: 4.9421e-04 - acc: 1.0000 - val_loss: 0.4636 - val_acc: 0.8636\n",
            "Epoch 27/50\n",
            "84/84 [==============================] - 2s 22ms/step - loss: 1.3314e-04 - acc: 1.0000 - val_loss: 0.3704 - val_acc: 0.9545\n",
            "Epoch 28/50\n",
            "84/84 [==============================] - 2s 22ms/step - loss: 2.7389e-04 - acc: 1.0000 - val_loss: 0.1436 - val_acc: 0.9545\n",
            "Epoch 29/50\n",
            "84/84 [==============================] - 2s 22ms/step - loss: 3.3308e-05 - acc: 1.0000 - val_loss: 0.1518 - val_acc: 0.9545\n",
            "Epoch 30/50\n",
            "84/84 [==============================] - 2s 22ms/step - loss: 2.4911e-05 - acc: 1.0000 - val_loss: 0.1555 - val_acc: 0.9545\n",
            "Epoch 31/50\n",
            "84/84 [==============================] - 2s 22ms/step - loss: 2.7093e-05 - acc: 1.0000 - val_loss: 0.1995 - val_acc: 0.9545\n",
            "Epoch 32/50\n",
            "84/84 [==============================] - 2s 22ms/step - loss: 1.0271e-05 - acc: 1.0000 - val_loss: 0.2296 - val_acc: 0.9091\n",
            "Epoch 33/50\n",
            "84/84 [==============================] - 2s 22ms/step - loss: 9.4087e-06 - acc: 1.0000 - val_loss: 0.2033 - val_acc: 0.9545\n",
            "Epoch 34/50\n",
            "84/84 [==============================] - 2s 22ms/step - loss: 4.7558e-06 - acc: 1.0000 - val_loss: 0.2121 - val_acc: 0.9545\n",
            "Epoch 35/50\n",
            "84/84 [==============================] - 2s 22ms/step - loss: 9.4914e-06 - acc: 1.0000 - val_loss: 0.2301 - val_acc: 0.9091\n",
            "Epoch 36/50\n",
            "84/84 [==============================] - 2s 22ms/step - loss: 1.0134e-05 - acc: 1.0000 - val_loss: 0.2415 - val_acc: 0.9545\n",
            "Epoch 37/50\n",
            "84/84 [==============================] - 2s 22ms/step - loss: 9.1797e-06 - acc: 1.0000 - val_loss: 0.2126 - val_acc: 0.9545\n",
            "Epoch 38/50\n",
            "84/84 [==============================] - 2s 22ms/step - loss: 6.3932e-06 - acc: 1.0000 - val_loss: 0.1923 - val_acc: 0.9545\n",
            "Epoch 39/50\n",
            "84/84 [==============================] - 2s 22ms/step - loss: 1.5962e-04 - acc: 1.0000 - val_loss: 0.3745 - val_acc: 0.9091\n",
            "Epoch 40/50\n",
            "84/84 [==============================] - 2s 22ms/step - loss: 7.2653e-06 - acc: 1.0000 - val_loss: 0.3545 - val_acc: 0.9091\n",
            "Epoch 41/50\n",
            "84/84 [==============================] - 2s 22ms/step - loss: 4.5783e-06 - acc: 1.0000 - val_loss: 0.3256 - val_acc: 0.9091\n",
            "Epoch 42/50\n",
            "84/84 [==============================] - 2s 22ms/step - loss: 2.8535e-05 - acc: 1.0000 - val_loss: 0.2107 - val_acc: 0.9545\n",
            "Epoch 43/50\n",
            "84/84 [==============================] - 2s 22ms/step - loss: 1.7291e-05 - acc: 1.0000 - val_loss: 0.2470 - val_acc: 0.9091\n",
            "Epoch 44/50\n",
            "84/84 [==============================] - 2s 22ms/step - loss: 3.7644e-06 - acc: 1.0000 - val_loss: 0.2248 - val_acc: 0.9545\n",
            "Epoch 45/50\n",
            "84/84 [==============================] - 2s 22ms/step - loss: 6.1743e-05 - acc: 1.0000 - val_loss: 0.2579 - val_acc: 0.9545\n",
            "Epoch 46/50\n",
            "84/84 [==============================] - 2s 22ms/step - loss: 1.3726e-05 - acc: 1.0000 - val_loss: 0.2204 - val_acc: 0.9545\n",
            "Epoch 47/50\n",
            "84/84 [==============================] - 2s 22ms/step - loss: 3.7313e-06 - acc: 1.0000 - val_loss: 0.2165 - val_acc: 0.9545\n",
            "Epoch 48/50\n",
            "84/84 [==============================] - 2s 22ms/step - loss: 1.9373e-05 - acc: 1.0000 - val_loss: 0.3022 - val_acc: 0.9545\n",
            "Epoch 49/50\n",
            "84/84 [==============================] - 2s 22ms/step - loss: 4.3970e-06 - acc: 1.0000 - val_loss: 0.3015 - val_acc: 0.9545\n",
            "Epoch 50/50\n",
            "84/84 [==============================] - 2s 22ms/step - loss: 9.5910e-06 - acc: 1.0000 - val_loss: 0.2437 - val_acc: 0.9545\n"
          ],
          "name": "stdout"
        }
      ]
    },
    {
      "cell_type": "code",
      "metadata": {
        "id": "Sud9MidKNtVV",
        "colab_type": "code",
        "outputId": "347d2b98-83c3-4575-87e4-e0ef9c51347a",
        "colab": {
          "base_uri": "https://localhost:8080/",
          "height": 298
        }
      },
      "source": [
        "import matplotlib.pyplot as plt\n",
        "_, train_acc = model.evaluate(X_train, y_train, verbose=0)\n",
        "_, test_acc = model.evaluate(X_test, y_test, verbose=0)\n",
        "print('Train: %.3f, Test: %.3f' % (train_acc, test_acc))\n",
        "# plot training history\n",
        "plt.plot(history.history['loss'], label='train')\n",
        "plt.plot(history.history['val_loss'], label='test')"
      ],
      "execution_count": 23,
      "outputs": [
        {
          "output_type": "stream",
          "text": [
            "Train: 0.991, Test: 0.643\n"
          ],
          "name": "stdout"
        },
        {
          "output_type": "execute_result",
          "data": {
            "text/plain": [
              "[<matplotlib.lines.Line2D at 0x7f17cd781470>]"
            ]
          },
          "metadata": {
            "tags": []
          },
          "execution_count": 23
        },
        {
          "output_type": "display_data",
          "data": {
            "image/png": "[encoded data removed]",
            "text/plain": [
              "<Figure size 432x288 with 1 Axes>"
            ]
          },
          "metadata": {
            "tags": []
          }
        }
      ]
    },
    {
      "cell_type": "code",
      "metadata": {
        "id": "2ETLIQ7QTqzw",
        "colab_type": "code",
        "outputId": "b5e060a3-5e13-4f93-d110-2d43fddfe2ec",
        "colab": {
          "base_uri": "https://localhost:8080/",
          "height": 282
        }
      },
      "source": [
        "plt.plot(history.history['acc'],label = 'acc')\n",
        "plt.plot(history.history['val_acc'],label = 'val_acc')"
      ],
      "execution_count": 24,
      "outputs": [
        {
          "output_type": "execute_result",
          "data": {
            "text/plain": [
              "[<matplotlib.lines.Line2D at 0x7f17e015eba8>]"
            ]
          },
          "metadata": {
            "tags": []
          },
          "execution_count": 24
        },
        {
          "output_type": "display_data",
          "data": {
            "image/png": "[encoded data removed]",
            "text/plain": [
              "<Figure size 432x288 with 1 Axes>"
            ]
          },
          "metadata": {
            "tags": []
          }
        }
      ]
    },
    {
      "cell_type": "code",
      "metadata": {
        "id": "_FuwcGcdTtSk",
        "colab_type": "code",
        "outputId": "7b006e58-51d9-4e8f-c5ed-3f982e446be2",
        "colab": {
          "base_uri": "https://localhost:8080/",
          "height": 134
        }
      },
      "source": [
        "\n",
        "y_pred = model.predict(X_test)\n",
        "y_pred.argmax(axis=1)\n",
        "\n",
        "#y_pred = keras.utils.to_categorical(pred, 7)\n",
        "from sklearn.metrics import confusion_matrix\n",
        "confusion_matrix(y_test.argmax(axis=1), y_pred.argmax(axis=1))"
      ],
      "execution_count": 25,
      "outputs": [
        {
          "output_type": "execute_result",
          "data": {
            "text/plain": [
              "array([[0, 0, 1, 1, 0, 0, 0],\n",
              "       [1, 1, 0, 0, 0, 0, 0],\n",
              "       [0, 0, 2, 0, 0, 0, 0],\n",
              "       [0, 0, 0, 2, 0, 0, 0],\n",
              "       [0, 0, 0, 0, 2, 0, 0],\n",
              "       [0, 0, 0, 0, 0, 2, 0],\n",
              "       [0, 0, 1, 1, 0, 0, 0]])"
            ]
          },
          "metadata": {
            "tags": []
          },
          "execution_count": 25
        }
      ]
    },
    {
      "cell_type": "code",
      "metadata": {
        "id": "X_Otj8LgTyN3",
        "colab_type": "code",
        "colab": {}
      },
      "source": [
        "#from sklearn.metrics import plot_confusion_matrix\n",
        "def plot_confusion_matrix(cm,\n",
        "                          target_names,\n",
        "                          title='Confusion matrix',\n",
        "                          cmap=None,\n",
        "                          normalize=True):\n",
        "    \"\"\"\n",
        "    given a sklearn confusion matrix (cm), make a nice plot\n",
        "\n",
        "    Arguments\n",
        "    ---------\n",
        "    cm:           confusion matrix from sklearn.metrics.confusion_matrix\n",
        "\n",
        "    target_names: given classification classes such as [0, 1, 2]\n",
        "                  the class names, for example: ['high', 'medium', 'low']\n",
        "\n",
        "    title:        the text to display at the top of the matrix\n",
        "\n",
        "    cmap:         the gradient of the values displayed from matplotlib.pyplot.cm\n",
        "                  see http://matplotlib.org/examples/color/colormaps_reference.html\n",
        "                  plt.get_cmap('jet') or plt.cm.Blues\n",
        "\n",
        "    normalize:    If False, plot the raw numbers\n",
        "                  If True, plot the proportions\n",
        "\n",
        "    Usage\n",
        "    -----\n",
        "    plot_confusion_matrix(cm           = cm,                  # confusion matrix created by\n",
        "                                                              # sklearn.metrics.confusion_matrix\n",
        "                          normalize    = True,                # show proportions\n",
        "                          target_names = y_labels_vals,       # list of names of the classes\n",
        "                          title        = best_estimator_name) # title of graph\n",
        "\n",
        "    Citiation\n",
        "    ---------\n",
        "    http://scikit-learn.org/stable/auto_examples/model_selection/plot_confusion_matrix.html\n",
        "\n",
        "    \"\"\"\n",
        "    import matplotlib.pyplot as plt\n",
        "    import numpy as np\n",
        "    import itertools\n",
        "\n",
        "    accuracy = np.trace(cm) / np.sum(cm).astype('float')\n",
        "    misclass = 1 - accuracy\n",
        "\n",
        "    if cmap is None:\n",
        "        cmap = plt.get_cmap('Blues')\n",
        "\n",
        "    plt.figure(figsize=(8, 6))\n",
        "    plt.imshow(cm, interpolation='nearest', cmap=cmap)\n",
        "    plt.title(title)\n",
        "    plt.colorbar()\n",
        "\n",
        "    if target_names is not None:\n",
        "        tick_marks = np.arange(len(target_names))\n",
        "        plt.xticks(tick_marks, target_names, rotation=45)\n",
        "        plt.yticks(tick_marks, target_names)\n",
        "\n",
        "    if normalize:\n",
        "        cm = cm.astype('int') / cm.sum(axis=1)[:, np.newaxis]\n",
        "\n",
        "\n",
        "    thresh = cm.max() / 1.5 if normalize else cm.max() / 2\n",
        "    for i, j in itertools.product(range(cm.shape[0]), range(cm.shape[1])):\n",
        "        if normalize:\n",
        "            plt.text(j, i, \"{:0.1f}\".format(cm[i, j]),\n",
        "                     horizontalalignment=\"center\",\n",
        "                     color=\"white\" if cm[i, j] > thresh else \"black\")\n",
        "        else:\n",
        "            plt.text(j, i, \"{:,}\".format(cm[i, j]),\n",
        "                     horizontalalignment=\"center\",\n",
        "                     color=\"white\" if cm[i, j] > thresh else \"black\")\n",
        "\n",
        "\n",
        "    plt.tight_layout()\n",
        "    plt.ylabel('True label')\n",
        "    plt.xlabel('Predicted label\\naccuracy={:0.4f}; misclass={:0.4f}'.format(accuracy, misclass))\n",
        "    plt.show()"
      ],
      "execution_count": 0,
      "outputs": []
    },
    {
      "cell_type": "code",
      "metadata": {
        "id": "O8ayWrOAT3bM",
        "colab_type": "code",
        "outputId": "fa89b3f9-75a5-454b-ffa5-87f934eda85b",
        "colab": {
          "base_uri": "https://localhost:8080/",
          "height": 467
        }
      },
      "source": [
        "#from sklearn.metrics import plot_confusion_matrix\n",
        "target_names = ['a','d','f','h','n','sa','su']\n",
        "cm =confusion_matrix(y_test.argmax(axis=1), y_pred.argmax(axis=1))\n",
        "\n",
        "plot_confusion_matrix(cm,target_names,title='Normalized Confusion matrix for JE',cmap=None,normalize=True)"
      ],
      "execution_count": 27,
      "outputs": [
        {
          "output_type": "display_data",
          "data": {
            "image/png": "[encoded data removed]",
            "text/plain": [
              "<Figure size 576x432 with 2 Axes>"
            ]
          },
          "metadata": {
            "tags": []
          }
        }
      ]
    },
    {
      "cell_type": "code",
      "metadata": {
        "id": "wpJ70NKRT51g",
        "colab_type": "code",
        "colab": {}
      },
      "source": [
        ""
      ],
      "execution_count": 0,
      "outputs": []
    }
  ]
}