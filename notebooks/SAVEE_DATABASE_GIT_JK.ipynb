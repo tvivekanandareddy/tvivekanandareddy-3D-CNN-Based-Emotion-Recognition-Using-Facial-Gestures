{
  "nbformat": 4,
  "nbformat_minor": 0,
  "metadata": {
    "colab": {
      "name": "SAVEE DATABASE GIT JK.ipynb",
      "provenance": [],
      "collapsed_sections": []
    },
    "kernelspec": {
      "name": "python3",
      "display_name": "Python 3"
    },
    "accelerator": "GPU"
  },
  "cells": [
    {
      "cell_type": "code",
      "metadata": {
        "id": "Sz4kJ1G0StoS",
        "colab_type": "code",
        "outputId": "423634db-97c6-4c79-ae30-a567a52e3419",
        "colab": {
          "base_uri": "https://localhost:8080/",
          "height": 50
        }
      },
      "source": [
        "%tensorflow_version 1.x\n",
        "\n",
        "from keras.layers import Conv3D, MaxPool3D, Flatten, Dense\n",
        "from keras.layers import Dropout, Input, BatchNormalization\n",
        "from sklearn.metrics import confusion_matrix, accuracy_score\n",
        "from plotly.offline import iplot, init_notebook_mode\n",
        "from keras.losses import categorical_crossentropy\n",
        "from keras.optimizers import Adadelta\n",
        "import plotly.graph_objs as go\n",
        "from matplotlib.pyplot import cm\n",
        "from keras.models import Model\n",
        "import numpy as np\n",
        "import keras\n",
        "import h5py\n",
        "from keras.models import Sequential\n",
        "init_notebook_mode(connected=True)\n",
        "%tensorflow_version 1.x\n"
      ],
      "execution_count": 1,
      "outputs": [
        {
          "output_type": "stream",
          "text": [
            "TensorFlow 1.x selected.\n"
          ],
          "name": "stdout"
        },
        {
          "output_type": "stream",
          "text": [
            "Using TensorFlow backend.\n"
          ],
          "name": "stderr"
        },
        {
          "output_type": "display_data",
          "data": {
            "text/html": [
              "        <script type=\"text/javascript\">\n",
              "        window.PlotlyConfig = {MathJaxConfig: 'local'};\n",
              "        if (window.MathJax) {MathJax.Hub.Config({SVG: {font: \"STIX-Web\"}});}\n",
              "        if (typeof require !== 'undefined') {\n",
              "        require.undef(\"plotly\");\n",
              "        requirejs.config({\n",
              "            paths: {\n",
              "                'plotly': ['https://cdn.plot.ly/plotly-latest.min']\n",
              "            }\n",
              "        });\n",
              "        require(['plotly'], function(Plotly) {\n",
              "            window._Plotly = Plotly;\n",
              "        });\n",
              "        }\n",
              "        </script>\n",
              "        "
            ]
          },
          "metadata": {
            "tags": []
          }
        }
      ]
    },
    {
      "cell_type": "code",
      "metadata": {
        "id": "gF8BZZCYTGT8",
        "colab_type": "code",
        "outputId": "b0aab698-8f78-4a3e-d422-077c468a9816",
        "colab": {
          "base_uri": "https://localhost:8080/",
          "height": 34
        }
      },
      "source": [
        "import tensorflow as tf\n",
        "print(tf.__version__)"
      ],
      "execution_count": 2,
      "outputs": [
        {
          "output_type": "stream",
          "text": [
            "1.15.2\n"
          ],
          "name": "stdout"
        }
      ]
    },
    {
      "cell_type": "code",
      "metadata": {
        "id": "t58bpfwsFYPG",
        "colab_type": "code",
        "outputId": "61378fac-077e-4f4a-d235-a8d193276cde",
        "colab": {
          "base_uri": "https://localhost:8080/",
          "height": 118
        }
      },
      "source": [
        "!git clone https://github.com/saisriteja/emotion-recognition.git"
      ],
      "execution_count": 3,
      "outputs": [
        {
          "output_type": "stream",
          "text": [
            "Cloning into 'emotion-recognition'...\n",
            "remote: Enumerating objects: 21, done.\u001b[K\n",
            "remote: Counting objects: 100% (21/21), done.\u001b[K\n",
            "remote: Compressing objects: 100% (17/17), done.\u001b[K\n",
            "remote: Total 21 (delta 0), reused 0 (delta 0), pack-reused 0\u001b[K\n",
            "Unpacking objects: 100% (21/21), done.\n"
          ],
          "name": "stdout"
        }
      ]
    },
    {
      "cell_type": "code",
      "metadata": {
        "id": "9mUMGeoOFg6r",
        "colab_type": "code",
        "colab": {}
      },
      "source": [
        "import os\n",
        "import glob\n",
        "files = glob.glob('/content/emotion-recognition/data/*.zip')"
      ],
      "execution_count": 0,
      "outputs": []
    },
    {
      "cell_type": "code",
      "metadata": {
        "id": "YtiJsxVYFqVp",
        "colab_type": "code",
        "outputId": "0c585e3c-6b15-4aac-972c-dc1f5c9935ac",
        "colab": {
          "base_uri": "https://localhost:8080/",
          "height": 286
        }
      },
      "source": [
        "for i in files:\n",
        "  !unzip $i"
      ],
      "execution_count": 5,
      "outputs": [
        {
          "output_type": "stream",
          "text": [
            "Archive:  /content/emotion-recognition/data/KL_testing.zip\n",
            "  inflating: KL_testing.pkl          \n",
            "Archive:  /content/emotion-recognition/data/DC_testing.zip\n",
            "  inflating: DC_testing.pkl          \n",
            "Archive:  /content/emotion-recognition/data/JK_training.zip\n",
            "  inflating: JK_training.pkl         \n",
            "Archive:  /content/emotion-recognition/data/DC_training.zip\n",
            "  inflating: DC_training.pkl         \n",
            "Archive:  /content/emotion-recognition/data/JK_testing.zip\n",
            "  inflating: JK_testing.pkl          \n",
            "Archive:  /content/emotion-recognition/data/KL_training.zip\n",
            "  inflating: KL_training.pkl         \n",
            "Archive:  /content/emotion-recognition/data/JE_testing.zip\n",
            "  inflating: JE_testing.pkl          \n",
            "Archive:  /content/emotion-recognition/data/JE_training.zip\n",
            "  inflating: JE_training.pkl         \n"
          ],
          "name": "stdout"
        }
      ]
    },
    {
      "cell_type": "code",
      "metadata": {
        "id": "bHve8_f_FzWm",
        "colab_type": "code",
        "colab": {}
      },
      "source": [
        "def load_obj(name):\n",
        "    with open(name + '.pkl', 'rb') as f:\n",
        "        return pickle.load(f)"
      ],
      "execution_count": 0,
      "outputs": []
    },
    {
      "cell_type": "code",
      "metadata": {
        "id": "xVVUMf6zGW7L",
        "colab_type": "code",
        "colab": {}
      },
      "source": [
        "import numpy as np\n",
        "import pickle"
      ],
      "execution_count": 0,
      "outputs": []
    },
    {
      "cell_type": "code",
      "metadata": {
        "id": "SChn1GvaGO8l",
        "colab_type": "code",
        "outputId": "2b9f0898-78c6-4818-c7a6-42dd6290599a",
        "colab": {
          "base_uri": "https://localhost:8080/",
          "height": 50
        }
      },
      "source": [
        "SAVEE_data_training = np.array(load_obj('/content/JK_training'))\n",
        "SAVEE_data_testing = np.array(load_obj('/content/JK_testing'))\n",
        "print(SAVEE_data_training.shape)\n",
        "print(SAVEE_data_testing.shape)"
      ],
      "execution_count": 8,
      "outputs": [
        {
          "output_type": "stream",
          "text": [
            "(106, 3)\n",
            "(14, 3)\n"
          ],
          "name": "stdout"
        }
      ]
    },
    {
      "cell_type": "code",
      "metadata": {
        "id": "gusFqdDDGeAK",
        "colab_type": "code",
        "outputId": "c3f88249-e666-4f6c-f2c8-aa87ec2e20fc",
        "colab": {
          "base_uri": "https://localhost:8080/",
          "height": 17
        }
      },
      "source": [
        "from keras.layers import Conv3D, MaxPool3D, Flatten, Dense\n",
        "from keras.layers import Dropout, Input, BatchNormalization\n",
        "from sklearn.metrics import confusion_matrix, accuracy_score\n",
        "from plotly.offline import iplot, init_notebook_mode\n",
        "from keras.losses import categorical_crossentropy\n",
        "from keras.optimizers import Adadelta\n",
        "import plotly.graph_objs as go\n",
        "from matplotlib.pyplot import cm\n",
        "from keras.models import Model\n",
        "import numpy as np\n",
        "import keras\n",
        "import h5py\n",
        "from keras.models import Sequential\n",
        "init_notebook_mode(connected=True)\n",
        "%matplotlib inline"
      ],
      "execution_count": 9,
      "outputs": [
        {
          "output_type": "display_data",
          "data": {
            "text/html": [
              "        <script type=\"text/javascript\">\n",
              "        window.PlotlyConfig = {MathJaxConfig: 'local'};\n",
              "        if (window.MathJax) {MathJax.Hub.Config({SVG: {font: \"STIX-Web\"}});}\n",
              "        if (typeof require !== 'undefined') {\n",
              "        require.undef(\"plotly\");\n",
              "        requirejs.config({\n",
              "            paths: {\n",
              "                'plotly': ['https://cdn.plot.ly/plotly-latest.min']\n",
              "            }\n",
              "        });\n",
              "        require(['plotly'], function(Plotly) {\n",
              "            window._Plotly = Plotly;\n",
              "        });\n",
              "        }\n",
              "        </script>\n",
              "        "
            ]
          },
          "metadata": {
            "tags": []
          }
        }
      ]
    },
    {
      "cell_type": "code",
      "metadata": {
        "id": "hIeK8NLWGg8g",
        "colab_type": "code",
        "outputId": "9559ce24-15dd-4016-e57a-5b73d80a2905",
        "colab": {
          "base_uri": "https://localhost:8080/",
          "height": 101
        }
      },
      "source": [
        "train_imgs = []\n",
        "train_landm = []\n",
        "train_label = []\n",
        "\n",
        "test_imgs = []\n",
        "test_landm = []\n",
        "test_label = []\n",
        "\n",
        "for i,j,k in SAVEE_data_training:\n",
        "  train_imgs.append(i)\n",
        "  train_landm.append(j)\n",
        "  train_label.append(k)\n",
        "\n",
        "for i,j,k in SAVEE_data_testing:\n",
        "  test_imgs.append(i)\n",
        "  test_landm.append(j)\n",
        "  test_label.append(k)\n",
        "\n",
        "train_imgs = np.array(train_imgs)\n",
        "test_imgs= np.array(test_imgs)\n",
        "\n",
        "X = np.concatenate((train_imgs, test_imgs), axis=0)\n",
        "\n",
        "X_min = 1000\n",
        "for i in X:\n",
        "  m = i.shape[0]\n",
        "  #print(m)\n",
        "\n",
        "  if m < X_min:\n",
        "    X_min = m\n",
        "print(X_min)\n",
        "\n",
        "def framegene(X):\n",
        "  X_ref = []\n",
        "\n",
        "  no = X_min\n",
        "  for i in X:\n",
        "    length = i.shape[0]\n",
        "    if length>no:\n",
        "        frame_length = int((length-no)/2)\n",
        "        X_ref.append((i[frame_length:frame_length+no]))\n",
        "    else:\n",
        "        X_ref.append(i)\n",
        "  return np.array(X_ref)\n",
        "\n",
        "X_train = framegene(train_imgs)\n",
        "X_test = framegene(test_imgs)\n",
        "\n",
        "print(X_train.shape)\n",
        "print(X_test.shape)\n",
        "\n",
        "y_train = np.array(train_label)\n",
        "y_test = np.array(test_label)\n",
        "\n",
        "print(y_train.shape)\n",
        "print(y_test.shape)\n",
        "\n",
        "y_train = keras.utils.to_categorical(y_train, 7)\n",
        "y_test = keras.utils.to_categorical(y_test, 7)"
      ],
      "execution_count": 10,
      "outputs": [
        {
          "output_type": "stream",
          "text": [
            "114\n",
            "(106, 114, 28, 28, 3)\n",
            "(14, 114, 28, 28, 3)\n",
            "(106,)\n",
            "(14,)\n"
          ],
          "name": "stdout"
        }
      ]
    },
    {
      "cell_type": "code",
      "metadata": {
        "id": "yjrh5DzOG2gZ",
        "colab_type": "code",
        "outputId": "eee52c22-fc95-4f58-839c-d7fba3471744",
        "colab": {
          "base_uri": "https://localhost:8080/",
          "height": 222
        }
      },
      "source": [
        "\n",
        "## input layer\n",
        "input_layer = Input((X_min, 28, 28, 3))\n",
        "\n",
        "## convolutional layers\n",
        "conv_layer1 = Conv3D(filters=8, kernel_size=(3, 3, 3), activation='relu')(input_layer)\n",
        "conv_layer2 = Conv3D(filters=16, kernel_size=(3, 3, 3), activation='relu')(conv_layer1)\n",
        "\n",
        "## add max pooling to obtain the most imformatic features\n",
        "pooling_layer1 = MaxPool3D(pool_size=(2, 2, 2))(conv_layer2)\n",
        "\n",
        "conv_layer3 = Conv3D(filters=32, kernel_size=(3, 3, 3), activation='relu')(pooling_layer1)\n",
        "conv_layer4 = Conv3D(filters=64, kernel_size=(3, 3, 3), activation='relu')(conv_layer3)\n",
        "pooling_layer2 = MaxPool3D(pool_size=(2, 2, 2))(conv_layer4)\n",
        "\n",
        "## perform batch normalization on the convolution outputs before feeding it to MLP architecture\n",
        "pooling_layer2 = BatchNormalization()(pooling_layer2)\n",
        "flatten_layer = Flatten()(pooling_layer2)\n",
        "\n",
        "## create an MLP architecture with dense layers : 4096 -> 512 -> 10\n",
        "## add dropouts to avoid overfitting / perform regularization\n",
        "dense_layer1 = Dense(units=2048, activation='relu')(flatten_layer)\n",
        "dense_layer1 = Dropout(0.4)(dense_layer1)\n",
        "dense_layer2 = Dense(units=512, activation='relu')(dense_layer1)\n",
        "dense_layer2 = Dropout(0.4)(dense_layer2)\n",
        "output_layer = Dense(units=7, activation='softmax')(dense_layer2)\n",
        "\n",
        "## define the model with input layer and output layer\n",
        "model = Model(inputs=input_layer, outputs=output_layer)"
      ],
      "execution_count": 11,
      "outputs": [
        {
          "output_type": "stream",
          "text": [
            "WARNING:tensorflow:From /usr/local/lib/python3.6/dist-packages/keras/backend/tensorflow_backend.py:66: The name tf.get_default_graph is deprecated. Please use tf.compat.v1.get_default_graph instead.\n",
            "\n",
            "WARNING:tensorflow:From /usr/local/lib/python3.6/dist-packages/keras/backend/tensorflow_backend.py:541: The name tf.placeholder is deprecated. Please use tf.compat.v1.placeholder instead.\n",
            "\n",
            "WARNING:tensorflow:From /usr/local/lib/python3.6/dist-packages/keras/backend/tensorflow_backend.py:4432: The name tf.random_uniform is deprecated. Please use tf.random.uniform instead.\n",
            "\n",
            "WARNING:tensorflow:From /usr/local/lib/python3.6/dist-packages/keras/backend/tensorflow_backend.py:148: The name tf.placeholder_with_default is deprecated. Please use tf.compat.v1.placeholder_with_default instead.\n",
            "\n",
            "WARNING:tensorflow:From /usr/local/lib/python3.6/dist-packages/keras/backend/tensorflow_backend.py:3733: calling dropout (from tensorflow.python.ops.nn_ops) with keep_prob is deprecated and will be removed in a future version.\n",
            "Instructions for updating:\n",
            "Please use `rate` instead of `keep_prob`. Rate should be set to `rate = 1 - keep_prob`.\n"
          ],
          "name": "stdout"
        }
      ]
    },
    {
      "cell_type": "code",
      "metadata": {
        "id": "VwQdACfZG7nF",
        "colab_type": "code",
        "outputId": "9d3d5a44-e106-4901-fada-79eb19a481a6",
        "colab": {
          "base_uri": "https://localhost:8080/",
          "height": 622
        }
      },
      "source": [
        "model.summary()"
      ],
      "execution_count": 12,
      "outputs": [
        {
          "output_type": "stream",
          "text": [
            "Model: \"model_1\"\n",
            "_________________________________________________________________\n",
            "Layer (type)                 Output Shape              Param #   \n",
            "=================================================================\n",
            "input_1 (InputLayer)         (None, 114, 28, 28, 3)    0         \n",
            "_________________________________________________________________\n",
            "conv3d_1 (Conv3D)            (None, 112, 26, 26, 8)    656       \n",
            "_________________________________________________________________\n",
            "conv3d_2 (Conv3D)            (None, 110, 24, 24, 16)   3472      \n",
            "_________________________________________________________________\n",
            "max_pooling3d_1 (MaxPooling3 (None, 55, 12, 12, 16)    0         \n",
            "_________________________________________________________________\n",
            "conv3d_3 (Conv3D)            (None, 53, 10, 10, 32)    13856     \n",
            "_________________________________________________________________\n",
            "conv3d_4 (Conv3D)            (None, 51, 8, 8, 64)      55360     \n",
            "_________________________________________________________________\n",
            "max_pooling3d_2 (MaxPooling3 (None, 25, 4, 4, 64)      0         \n",
            "_________________________________________________________________\n",
            "batch_normalization_1 (Batch (None, 25, 4, 4, 64)      256       \n",
            "_________________________________________________________________\n",
            "flatten_1 (Flatten)          (None, 25600)             0         \n",
            "_________________________________________________________________\n",
            "dense_1 (Dense)              (None, 2048)              52430848  \n",
            "_________________________________________________________________\n",
            "dropout_1 (Dropout)          (None, 2048)              0         \n",
            "_________________________________________________________________\n",
            "dense_2 (Dense)              (None, 512)               1049088   \n",
            "_________________________________________________________________\n",
            "dropout_2 (Dropout)          (None, 512)               0         \n",
            "_________________________________________________________________\n",
            "dense_3 (Dense)              (None, 7)                 3591      \n",
            "=================================================================\n",
            "Total params: 53,557,127\n",
            "Trainable params: 53,556,999\n",
            "Non-trainable params: 128\n",
            "_________________________________________________________________\n"
          ],
          "name": "stdout"
        }
      ]
    },
    {
      "cell_type": "code",
      "metadata": {
        "id": "ANbusD47N39M",
        "colab_type": "code",
        "outputId": "ad59c38b-960f-4451-839e-f3915c85c884",
        "colab": {
          "base_uri": "https://localhost:8080/",
          "height": 34
        }
      },
      "source": [
        "X_train.shape"
      ],
      "execution_count": 13,
      "outputs": [
        {
          "output_type": "execute_result",
          "data": {
            "text/plain": [
              "(106, 114, 28, 28, 3)"
            ]
          },
          "metadata": {
            "tags": []
          },
          "execution_count": 13
        }
      ]
    },
    {
      "cell_type": "code",
      "metadata": {
        "id": "5j1a0Su7N6fo",
        "colab_type": "code",
        "outputId": "4108aa61-65bf-4a13-a874-647102bed6fb",
        "colab": {
          "base_uri": "https://localhost:8080/",
          "height": 34
        }
      },
      "source": [
        "y_train.shape"
      ],
      "execution_count": 14,
      "outputs": [
        {
          "output_type": "execute_result",
          "data": {
            "text/plain": [
              "(106, 7)"
            ]
          },
          "metadata": {
            "tags": []
          },
          "execution_count": 14
        }
      ]
    },
    {
      "cell_type": "code",
      "metadata": {
        "id": "SmiEZ7i2Nm3J",
        "colab_type": "code",
        "outputId": "d7b00013-cf68-4ed2-d262-eb17eb4500db",
        "colab": {
          "base_uri": "https://localhost:8080/",
          "height": 1000
        }
      },
      "source": [
        "from keras.callbacks import EarlyStopping\n",
        "model.compile(loss=categorical_crossentropy, optimizer=Adadelta(lr=0.1), metrics=['acc'])\n",
        "es = EarlyStopping(monitor='val_loss',verbose =1, patience=50)\n",
        "history = model.fit(x=X_train, y=y_train, batch_size=4, epochs=50,verbose=1, validation_split=0.2,callbacks=[es])"
      ],
      "execution_count": 15,
      "outputs": [
        {
          "output_type": "stream",
          "text": [
            "WARNING:tensorflow:From /usr/local/lib/python3.6/dist-packages/keras/optimizers.py:793: The name tf.train.Optimizer is deprecated. Please use tf.compat.v1.train.Optimizer instead.\n",
            "\n",
            "WARNING:tensorflow:From /usr/local/lib/python3.6/dist-packages/keras/backend/tensorflow_backend.py:3576: The name tf.log is deprecated. Please use tf.math.log instead.\n",
            "\n",
            "WARNING:tensorflow:From /tensorflow-1.15.2/python3.6/tensorflow_core/python/ops/math_grad.py:1424: where (from tensorflow.python.ops.array_ops) is deprecated and will be removed in a future version.\n",
            "Instructions for updating:\n",
            "Use tf.where in 2.0, which has the same broadcast rule as np.where\n",
            "WARNING:tensorflow:From /usr/local/lib/python3.6/dist-packages/keras/backend/tensorflow_backend.py:1033: The name tf.assign_add is deprecated. Please use tf.compat.v1.assign_add instead.\n",
            "\n",
            "WARNING:tensorflow:From /usr/local/lib/python3.6/dist-packages/keras/backend/tensorflow_backend.py:1020: The name tf.assign is deprecated. Please use tf.compat.v1.assign instead.\n",
            "\n",
            "WARNING:tensorflow:From /usr/local/lib/python3.6/dist-packages/keras/backend/tensorflow_backend.py:3005: The name tf.Session is deprecated. Please use tf.compat.v1.Session instead.\n",
            "\n",
            "Train on 84 samples, validate on 22 samples\n",
            "Epoch 1/50\n",
            "WARNING:tensorflow:From /usr/local/lib/python3.6/dist-packages/keras/backend/tensorflow_backend.py:190: The name tf.get_default_session is deprecated. Please use tf.compat.v1.get_default_session instead.\n",
            "\n",
            "WARNING:tensorflow:From /usr/local/lib/python3.6/dist-packages/keras/backend/tensorflow_backend.py:197: The name tf.ConfigProto is deprecated. Please use tf.compat.v1.ConfigProto instead.\n",
            "\n",
            "WARNING:tensorflow:From /usr/local/lib/python3.6/dist-packages/keras/backend/tensorflow_backend.py:207: The name tf.global_variables is deprecated. Please use tf.compat.v1.global_variables instead.\n",
            "\n",
            "WARNING:tensorflow:From /usr/local/lib/python3.6/dist-packages/keras/backend/tensorflow_backend.py:216: The name tf.is_variable_initialized is deprecated. Please use tf.compat.v1.is_variable_initialized instead.\n",
            "\n",
            "WARNING:tensorflow:From /usr/local/lib/python3.6/dist-packages/keras/backend/tensorflow_backend.py:223: The name tf.variables_initializer is deprecated. Please use tf.compat.v1.variables_initializer instead.\n",
            "\n",
            "84/84 [==============================] - 17s 198ms/step - loss: 5.0258 - acc: 0.2619 - val_loss: 2.1858 - val_acc: 0.3636\n",
            "Epoch 2/50\n",
            "84/84 [==============================] - 2s 23ms/step - loss: 1.5190 - acc: 0.6548 - val_loss: 0.7985 - val_acc: 0.5455\n",
            "Epoch 3/50\n",
            "84/84 [==============================] - 2s 23ms/step - loss: 0.6676 - acc: 0.7500 - val_loss: 0.6317 - val_acc: 0.8182\n",
            "Epoch 4/50\n",
            "84/84 [==============================] - 2s 23ms/step - loss: 0.3458 - acc: 0.9048 - val_loss: 0.6508 - val_acc: 0.7273\n",
            "Epoch 5/50\n",
            "84/84 [==============================] - 2s 23ms/step - loss: 0.0442 - acc: 0.9762 - val_loss: 0.5666 - val_acc: 0.7727\n",
            "Epoch 6/50\n",
            "84/84 [==============================] - 2s 23ms/step - loss: 0.1829 - acc: 0.9286 - val_loss: 1.2246 - val_acc: 0.6818\n",
            "Epoch 7/50\n",
            "84/84 [==============================] - 2s 23ms/step - loss: 0.0238 - acc: 1.0000 - val_loss: 1.0923 - val_acc: 0.7273\n",
            "Epoch 8/50\n",
            "84/84 [==============================] - 2s 23ms/step - loss: 0.0816 - acc: 0.9762 - val_loss: 0.5033 - val_acc: 0.8636\n",
            "Epoch 9/50\n",
            "84/84 [==============================] - 2s 23ms/step - loss: 0.0045 - acc: 1.0000 - val_loss: 0.4724 - val_acc: 0.8636\n",
            "Epoch 10/50\n",
            "84/84 [==============================] - 2s 23ms/step - loss: 0.0063 - acc: 1.0000 - val_loss: 0.4555 - val_acc: 0.8636\n",
            "Epoch 11/50\n",
            "84/84 [==============================] - 2s 23ms/step - loss: 0.0030 - acc: 1.0000 - val_loss: 0.2625 - val_acc: 0.8636\n",
            "Epoch 12/50\n",
            "84/84 [==============================] - 2s 23ms/step - loss: 0.0025 - acc: 1.0000 - val_loss: 0.2157 - val_acc: 0.8636\n",
            "Epoch 13/50\n",
            "84/84 [==============================] - 2s 23ms/step - loss: 8.7683e-04 - acc: 1.0000 - val_loss: 0.3236 - val_acc: 0.8636\n",
            "Epoch 14/50\n",
            "84/84 [==============================] - 2s 23ms/step - loss: 0.0238 - acc: 0.9881 - val_loss: 0.4973 - val_acc: 0.8636\n",
            "Epoch 15/50\n",
            "84/84 [==============================] - 2s 24ms/step - loss: 6.8978e-04 - acc: 1.0000 - val_loss: 0.4036 - val_acc: 0.8636\n",
            "Epoch 16/50\n",
            "84/84 [==============================] - 2s 23ms/step - loss: 0.0175 - acc: 0.9881 - val_loss: 0.9378 - val_acc: 0.8182\n",
            "Epoch 17/50\n",
            "84/84 [==============================] - 2s 23ms/step - loss: 0.0256 - acc: 0.9881 - val_loss: 0.2044 - val_acc: 0.9545\n",
            "Epoch 18/50\n",
            "84/84 [==============================] - 2s 23ms/step - loss: 0.0032 - acc: 1.0000 - val_loss: 0.3627 - val_acc: 0.8636\n",
            "Epoch 19/50\n",
            "84/84 [==============================] - 2s 23ms/step - loss: 0.0016 - acc: 1.0000 - val_loss: 0.3795 - val_acc: 0.8636\n",
            "Epoch 20/50\n",
            "84/84 [==============================] - 2s 23ms/step - loss: 9.4474e-04 - acc: 1.0000 - val_loss: 0.2910 - val_acc: 0.8636\n",
            "Epoch 21/50\n",
            "84/84 [==============================] - 2s 23ms/step - loss: 1.9466e-04 - acc: 1.0000 - val_loss: 0.2636 - val_acc: 0.8636\n",
            "Epoch 22/50\n",
            "84/84 [==============================] - 2s 23ms/step - loss: 8.9760e-05 - acc: 1.0000 - val_loss: 0.2027 - val_acc: 0.9091\n",
            "Epoch 23/50\n",
            "84/84 [==============================] - 2s 23ms/step - loss: 6.5263e-04 - acc: 1.0000 - val_loss: 0.2533 - val_acc: 0.9091\n",
            "Epoch 24/50\n",
            "84/84 [==============================] - 2s 23ms/step - loss: 1.5922e-04 - acc: 1.0000 - val_loss: 0.2018 - val_acc: 0.9091\n",
            "Epoch 25/50\n",
            "84/84 [==============================] - 2s 23ms/step - loss: 0.0304 - acc: 0.9881 - val_loss: 0.2970 - val_acc: 0.9091\n",
            "Epoch 26/50\n",
            "84/84 [==============================] - 2s 23ms/step - loss: 9.4234e-05 - acc: 1.0000 - val_loss: 0.2599 - val_acc: 0.9091\n",
            "Epoch 27/50\n",
            "84/84 [==============================] - 2s 23ms/step - loss: 6.4489e-04 - acc: 1.0000 - val_loss: 0.2757 - val_acc: 0.8636\n",
            "Epoch 28/50\n",
            "84/84 [==============================] - 2s 23ms/step - loss: 6.1935e-05 - acc: 1.0000 - val_loss: 0.2692 - val_acc: 0.9091\n",
            "Epoch 29/50\n",
            "84/84 [==============================] - 2s 23ms/step - loss: 0.0021 - acc: 1.0000 - val_loss: 0.3195 - val_acc: 0.8636\n",
            "Epoch 30/50\n",
            "84/84 [==============================] - 2s 23ms/step - loss: 1.1890e-04 - acc: 1.0000 - val_loss: 0.3300 - val_acc: 0.8636\n",
            "Epoch 31/50\n",
            "84/84 [==============================] - 2s 23ms/step - loss: 1.9373e-04 - acc: 1.0000 - val_loss: 0.2837 - val_acc: 0.9091\n",
            "Epoch 32/50\n",
            "84/84 [==============================] - 2s 23ms/step - loss: 3.2134e-04 - acc: 1.0000 - val_loss: 0.1594 - val_acc: 0.9091\n",
            "Epoch 33/50\n",
            "84/84 [==============================] - 2s 23ms/step - loss: 1.6763e-04 - acc: 1.0000 - val_loss: 0.2317 - val_acc: 0.9091\n",
            "Epoch 34/50\n",
            "84/84 [==============================] - 2s 23ms/step - loss: 5.2240e-04 - acc: 1.0000 - val_loss: 0.1581 - val_acc: 0.9091\n",
            "Epoch 35/50\n",
            "84/84 [==============================] - 2s 23ms/step - loss: 9.7392e-04 - acc: 1.0000 - val_loss: 0.1042 - val_acc: 0.9091\n",
            "Epoch 36/50\n",
            "84/84 [==============================] - 2s 23ms/step - loss: 0.0014 - acc: 1.0000 - val_loss: 0.1832 - val_acc: 0.9091\n",
            "Epoch 37/50\n",
            "84/84 [==============================] - 2s 23ms/step - loss: 2.6260e-05 - acc: 1.0000 - val_loss: 0.2007 - val_acc: 0.9091\n",
            "Epoch 38/50\n",
            "84/84 [==============================] - 2s 23ms/step - loss: 4.0055e-05 - acc: 1.0000 - val_loss: 0.2134 - val_acc: 0.9091\n",
            "Epoch 39/50\n",
            "84/84 [==============================] - 2s 23ms/step - loss: 4.0387e-04 - acc: 1.0000 - val_loss: 0.1512 - val_acc: 0.9545\n",
            "Epoch 40/50\n",
            "84/84 [==============================] - 2s 23ms/step - loss: 1.2768e-04 - acc: 1.0000 - val_loss: 0.1972 - val_acc: 0.9545\n",
            "Epoch 41/50\n",
            "84/84 [==============================] - 2s 23ms/step - loss: 6.6341e-06 - acc: 1.0000 - val_loss: 0.1996 - val_acc: 0.9545\n",
            "Epoch 42/50\n",
            "84/84 [==============================] - 2s 23ms/step - loss: 2.3245e-04 - acc: 1.0000 - val_loss: 0.4396 - val_acc: 0.9091\n",
            "Epoch 43/50\n",
            "84/84 [==============================] - 2s 23ms/step - loss: 4.5124e-05 - acc: 1.0000 - val_loss: 0.3871 - val_acc: 0.9091\n",
            "Epoch 44/50\n",
            "84/84 [==============================] - 2s 23ms/step - loss: 3.6804e-05 - acc: 1.0000 - val_loss: 0.3682 - val_acc: 0.9091\n",
            "Epoch 45/50\n",
            "84/84 [==============================] - 2s 23ms/step - loss: 1.8641e-04 - acc: 1.0000 - val_loss: 0.3467 - val_acc: 0.8636\n",
            "Epoch 46/50\n",
            "84/84 [==============================] - 2s 23ms/step - loss: 9.3380e-05 - acc: 1.0000 - val_loss: 0.4436 - val_acc: 0.8636\n",
            "Epoch 47/50\n",
            "84/84 [==============================] - 2s 23ms/step - loss: 3.6375e-04 - acc: 1.0000 - val_loss: 0.2732 - val_acc: 0.8182\n",
            "Epoch 48/50\n",
            "84/84 [==============================] - 2s 23ms/step - loss: 6.5310e-05 - acc: 1.0000 - val_loss: 0.2262 - val_acc: 0.9091\n",
            "Epoch 49/50\n",
            "84/84 [==============================] - 2s 23ms/step - loss: 2.4840e-05 - acc: 1.0000 - val_loss: 0.2134 - val_acc: 0.9091\n",
            "Epoch 50/50\n",
            "84/84 [==============================] - 2s 23ms/step - loss: 1.2688e-05 - acc: 1.0000 - val_loss: 0.2086 - val_acc: 0.9091\n"
          ],
          "name": "stdout"
        }
      ]
    },
    {
      "cell_type": "code",
      "metadata": {
        "id": "Sud9MidKNtVV",
        "colab_type": "code",
        "outputId": "d5262e3c-bd86-4b30-8f98-9cf20ef4526b",
        "colab": {
          "base_uri": "https://localhost:8080/",
          "height": 298
        }
      },
      "source": [
        "import matplotlib.pyplot as plt\n",
        "_, train_acc = model.evaluate(X_train, y_train, verbose=0)\n",
        "_, test_acc = model.evaluate(X_test, y_test, verbose=0)\n",
        "print('Train: %.3f, Test: %.3f' % (train_acc, test_acc))\n",
        "# plot training history\n",
        "plt.plot(history.history['loss'], label='train')\n",
        "plt.plot(history.history['val_loss'], label='test')"
      ],
      "execution_count": 16,
      "outputs": [
        {
          "output_type": "stream",
          "text": [
            "Train: 0.981, Test: 0.857\n"
          ],
          "name": "stdout"
        },
        {
          "output_type": "execute_result",
          "data": {
            "text/plain": [
              "[<matplotlib.lines.Line2D at 0x7fd801529630>]"
            ]
          },
          "metadata": {
            "tags": []
          },
          "execution_count": 16
        },
        {
          "output_type": "display_data",
          "data": {
            "image/png": "[encoded data removed]",
            "text/plain": [
              "<Figure size 432x288 with 1 Axes>"
            ]
          },
          "metadata": {
            "tags": []
          }
        }
      ]
    },
    {
      "cell_type": "code",
      "metadata": {
        "id": "2ETLIQ7QTqzw",
        "colab_type": "code",
        "outputId": "1d50cea6-232b-4bd4-a53f-df1e5b8724c0",
        "colab": {
          "base_uri": "https://localhost:8080/",
          "height": 282
        }
      },
      "source": [
        "plt.plot(history.history['acc'],label = 'acc')\n",
        "plt.plot(history.history['val_acc'],label = 'val_acc')"
      ],
      "execution_count": 17,
      "outputs": [
        {
          "output_type": "execute_result",
          "data": {
            "text/plain": [
              "[<matplotlib.lines.Line2D at 0x7fd8020e7710>]"
            ]
          },
          "metadata": {
            "tags": []
          },
          "execution_count": 17
        },
        {
          "output_type": "display_data",
          "data": {
            "image/png": "[encoded data removed]",
            "text/plain": [
              "<Figure size 432x288 with 1 Axes>"
            ]
          },
          "metadata": {
            "tags": []
          }
        }
      ]
    },
    {
      "cell_type": "code",
      "metadata": {
        "id": "_FuwcGcdTtSk",
        "colab_type": "code",
        "outputId": "961b2082-d1eb-4b35-eb60-0f5585a4f5c2",
        "colab": {
          "base_uri": "https://localhost:8080/",
          "height": 134
        }
      },
      "source": [
        "\n",
        "y_pred = model.predict(X_test)\n",
        "y_pred.argmax(axis=1)\n",
        "\n",
        "#y_pred = keras.utils.to_categorical(pred, 7)\n",
        "from sklearn.metrics import confusion_matrix\n",
        "confusion_matrix(y_test.argmax(axis=1), y_pred.argmax(axis=1))"
      ],
      "execution_count": 18,
      "outputs": [
        {
          "output_type": "execute_result",
          "data": {
            "text/plain": [
              "array([[2, 0, 0, 0, 0, 0, 0],\n",
              "       [0, 2, 0, 0, 0, 0, 0],\n",
              "       [0, 0, 2, 0, 0, 0, 0],\n",
              "       [0, 0, 0, 1, 0, 0, 1],\n",
              "       [0, 0, 0, 0, 2, 0, 0],\n",
              "       [1, 0, 0, 0, 0, 1, 0],\n",
              "       [0, 0, 0, 0, 0, 0, 2]])"
            ]
          },
          "metadata": {
            "tags": []
          },
          "execution_count": 18
        }
      ]
    },
    {
      "cell_type": "code",
      "metadata": {
        "id": "X_Otj8LgTyN3",
        "colab_type": "code",
        "colab": {}
      },
      "source": [
        "#from sklearn.metrics import plot_confusion_matrix\n",
        "def plot_confusion_matrix(cm,\n",
        "                          target_names,\n",
        "                          title='Confusion matrix',\n",
        "                          cmap=None,\n",
        "                          normalize=True):\n",
        "    \"\"\"\n",
        "    given a sklearn confusion matrix (cm), make a nice plot\n",
        "\n",
        "    Arguments\n",
        "    ---------\n",
        "    cm:           confusion matrix from sklearn.metrics.confusion_matrix\n",
        "\n",
        "    target_names: given classification classes such as [0, 1, 2]\n",
        "                  the class names, for example: ['high', 'medium', 'low']\n",
        "\n",
        "    title:        the text to display at the top of the matrix\n",
        "\n",
        "    cmap:         the gradient of the values displayed from matplotlib.pyplot.cm\n",
        "                  see http://matplotlib.org/examples/color/colormaps_reference.html\n",
        "                  plt.get_cmap('jet') or plt.cm.Blues\n",
        "\n",
        "    normalize:    If False, plot the raw numbers\n",
        "                  If True, plot the proportions\n",
        "\n",
        "    Usage\n",
        "    -----\n",
        "    plot_confusion_matrix(cm           = cm,                  # confusion matrix created by\n",
        "                                                              # sklearn.metrics.confusion_matrix\n",
        "                          normalize    = True,                # show proportions\n",
        "                          target_names = y_labels_vals,       # list of names of the classes\n",
        "                          title        = best_estimator_name) # title of graph\n",
        "\n",
        "    Citiation\n",
        "    ---------\n",
        "    http://scikit-learn.org/stable/auto_examples/model_selection/plot_confusion_matrix.html\n",
        "\n",
        "    \"\"\"\n",
        "    import matplotlib.pyplot as plt\n",
        "    import numpy as np\n",
        "    import itertools\n",
        "\n",
        "    accuracy = np.trace(cm) / np.sum(cm).astype('float')\n",
        "    misclass = 1 - accuracy\n",
        "\n",
        "    if cmap is None:\n",
        "        cmap = plt.get_cmap('Blues')\n",
        "\n",
        "    plt.figure(figsize=(8, 6))\n",
        "    plt.imshow(cm, interpolation='nearest', cmap=cmap)\n",
        "    plt.title(title)\n",
        "    plt.colorbar()\n",
        "\n",
        "    if target_names is not None:\n",
        "        tick_marks = np.arange(len(target_names))\n",
        "        plt.xticks(tick_marks, target_names, rotation=45)\n",
        "        plt.yticks(tick_marks, target_names)\n",
        "\n",
        "    if normalize:\n",
        "        cm = cm.astype('int') / cm.sum(axis=1)[:, np.newaxis]\n",
        "\n",
        "\n",
        "    thresh = cm.max() / 1.5 if normalize else cm.max() / 2\n",
        "    for i, j in itertools.product(range(cm.shape[0]), range(cm.shape[1])):\n",
        "        if normalize:\n",
        "            plt.text(j, i, \"{:0.1f}\".format(cm[i, j]),\n",
        "                     horizontalalignment=\"center\",\n",
        "                     color=\"white\" if cm[i, j] > thresh else \"black\")\n",
        "        else:\n",
        "            plt.text(j, i, \"{:,}\".format(cm[i, j]),\n",
        "                     horizontalalignment=\"center\",\n",
        "                     color=\"white\" if cm[i, j] > thresh else \"black\")\n",
        "\n",
        "\n",
        "    plt.tight_layout()\n",
        "    plt.ylabel('True label')\n",
        "    plt.xlabel('Predicted label\\naccuracy={:0.4f}; misclass={:0.4f}'.format(accuracy, misclass))\n",
        "    plt.show()"
      ],
      "execution_count": 0,
      "outputs": []
    },
    {
      "cell_type": "code",
      "metadata": {
        "id": "O8ayWrOAT3bM",
        "colab_type": "code",
        "outputId": "3557478d-78b4-4fa6-8bb6-f711ba5b4d37",
        "colab": {
          "base_uri": "https://localhost:8080/",
          "height": 467
        }
      },
      "source": [
        "#from sklearn.metrics import plot_confusion_matrix\n",
        "target_names = ['a','d','f','h','n','sa','su']\n",
        "cm =confusion_matrix(y_test.argmax(axis=1), y_pred.argmax(axis=1))\n",
        "\n",
        "plot_confusion_matrix(cm,target_names,title='Normalized Confusion matrix for JK',cmap=None,normalize=True)"
      ],
      "execution_count": 20,
      "outputs": [
        {
          "output_type": "display_data",
          "data": {
            "image/png": "[encoded data removed]",
            "text/plain": [
              "<Figure size 576x432 with 2 Axes>"
            ]
          },
          "metadata": {
            "tags": []
          }
        }
      ]
    },
    {
      "cell_type": "code",
      "metadata": {
        "id": "wpJ70NKRT51g",
        "colab_type": "code",
        "colab": {}
      },
      "source": [
        ""
      ],
      "execution_count": 0,
      "outputs": []
    }
  ]
}